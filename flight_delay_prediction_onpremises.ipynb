{
 "cells": [
  {
   "cell_type": "markdown",
   "metadata": {},
   "source": [
    "# Problem: Predicting Airplane Delays\n",
    "\n",
    "The goals of this notebook are:\n",
    "- Process and create a dataset from downloaded ZIP files\n",
    "- Exploratory data analysis (EDA)\n",
    "- Establish a baseline model and improve it\n",
    "\n",
    "## Introduction to business scenario\n",
    "You work for a travel booking website that is working to improve the customer experience for flights that were delayed. The company wants to create a feature to let customers know if the flight will be delayed due to weather when the customers are booking the flight to or from the busiest airports for domestic travel in the US. \n",
    "\n",
    "You are tasked with solving part of this problem by leveraging machine learning to identify whether the flight will be delayed due to weather. You have been given access to the a dataset of on-time performance of domestic flights operated by large air carriers. You can use this data to train a machine learning model to predict if the flight is going to be delayed for the busiest airports.\n",
    "\n",
    "### Dataset\n",
    "The provided dataset contains scheduled and actual departure and arrival times reported by certified US air carriers that account for at least 1 percent of domestic scheduled passenger revenues. The data was collected by the Office of Airline Information, Bureau of Transportation Statistics (BTS). The dataset contains date, time, origin, destination, airline, distance, and delay status of flights for flights between 2014 and 2018.\n",
    "The data are in 60 compressed files, where each file contains a CSV for the flight details in a month for the five years (from 2014 - 2018). The data can be downloaded from this link: [https://ucstaff-my.sharepoint.com/:f:/g/personal/ibrahim_radwan_canberra_edu_au/Er0nVreXmihEmtMz5qC5kVIB81-ugSusExPYdcyQTglfLg?e=bNO312]. Please download the data files and place them on a relative path. Dataset(s) used in this assignment were compiled by the Office of Airline Information, Bureau of Transportation Statistics (BTS), Airline On-Time Performance Data, available with the following link: [https://www.transtats.bts.gov/Fields.asp?gnoyr_VQ=FGJ]. "
   ]
  },
  {
   "cell_type": "markdown",
   "metadata": {},
   "source": [
    "# Step 1: Problem formulation and data collection\n",
    "\n",
    "Start this project off by writing a few sentences below that summarize the business problem and the business goal you're trying to achieve in this scenario. Include a business metric you would like your team to aspire toward. With that information defined, clearly write out the machine learning problem statement. Finally, add a comment or two about the type of machine learning this represents. \n",
    "\n",
    "\n",
    "### 1. Determine if and why ML is an appropriate solution to deploy."
   ]
  },
  {
   "cell_type": "code",
   "execution_count": null,
   "metadata": {},
   "outputs": [],
   "source": [
    "# Write your answer here and turn the cell type into markdown"
   ]
  },
  {
   "cell_type": "markdown",
   "metadata": {},
   "source": [
    "### 2. Formulate the business problem, success metrics, and desired ML output."
   ]
  },
  {
   "cell_type": "code",
   "execution_count": null,
   "metadata": {},
   "outputs": [],
   "source": [
    "# Write your answer here and turn the cell type into markdown"
   ]
  },
  {
   "cell_type": "markdown",
   "metadata": {},
   "source": [
    "### 3. Identify the type of ML problem you’re dealing with."
   ]
  },
  {
   "cell_type": "code",
   "execution_count": null,
   "metadata": {},
   "outputs": [],
   "source": [
    "# Write your answer here and turn the cell type into markdown"
   ]
  },
  {
   "cell_type": "markdown",
   "metadata": {},
   "source": [
    "### Setup\n",
    "\n",
    "Now that we have decided where to focus our energy, let's set things up so you can start working on solving the problem."
   ]
  },
  {
   "cell_type": "code",
   "execution_count": 1,
   "metadata": {
    "ExecuteTime": {
     "end_time": "2023-10-30T15:45:23.783600800Z",
     "start_time": "2023-10-30T15:45:23.770823500Z"
    }
   },
   "outputs": [],
   "source": [
    "import os\n",
    "from pathlib2 import Path\n",
    "from zipfile import ZipFile\n",
    "import time\n",
    "\n",
    "import pandas as pd\n",
    "import numpy as np\n",
    "import subprocess\n",
    "\n",
    "import matplotlib.pyplot as plt\n",
    "import seaborn as sns\n",
    "\n",
    "sns.set()\n",
    "\n",
    "import warnings\n",
    "warnings.filterwarnings('ignore')\n",
    "\n",
    "%matplotlib inline\n",
    "\n",
    "# <please add any other library or function you are aiming to import here>\n"
   ]
  },
  {
   "cell_type": "markdown",
   "metadata": {},
   "source": [
    "# Step 2: Data preprocessing and visualization  \n",
    "In this data preprocessing phase, you should take the opportunity to explore and visualize your data to better understand it. First, import the necessary libraries and read the data into a Pandas dataframe. After that, explore your data. Look for the shape of the dataset and explore your columns and the types of columns you're working with (numerical, categorical). Consider performing basic statistics on the features to get a sense of feature means and ranges. Take a close look at your target column and determine its distribution.\n",
    "\n",
    "### Specific questions to consider\n",
    "1. What can you deduce from the basic statistics you ran on the features? \n",
    "\n",
    "2. What can you deduce from the distributions of the target classes?\n",
    "\n",
    "3. Is there anything else you deduced from exploring the data?"
   ]
  },
  {
   "cell_type": "markdown",
   "metadata": {},
   "source": [
    "Start by bringing in the dataset from an Amazon S3 public bucket to this notebook environment."
   ]
  },
  {
   "cell_type": "code",
   "execution_count": 33,
   "metadata": {
    "ExecuteTime": {
     "end_time": "2023-10-30T16:56:44.834852700Z",
     "start_time": "2023-10-30T16:56:44.811865900Z"
    }
   },
   "outputs": [],
   "source": [
    "# download the files\n",
    "\n",
    "# <note: make them all relative, absolute path is not accepted>\n",
    "zip_path = 'data/onedrive_data.zip'\n",
    "base_data_path = 'data/combined_data'\n",
    "csv_base_path = 'data/extracted_files'\n",
    "\n",
    "# make a directory to store the extracted files\n",
    "Path(csv_base_path).mkdir(parents=True, exist_ok=True)"
   ]
  },
  {
   "cell_type": "code",
   "execution_count": 5,
   "metadata": {},
   "outputs": [],
   "source": [
    "# How many zip files do we have? write a code to answer it.\n"
   ]
  },
  {
   "cell_type": "code",
   "execution_count": 6,
   "outputs": [
    {
     "name": "stdout",
     "output_type": "stream",
     "text": [
      "Extracting data/onedrive_data.zip \n"
     ]
    }
   ],
   "source": [
    "with ZipFile(zip_path, 'r') as z: \n",
    "            print(f'Extracting {zip_path} ') \n",
    "            z.extractall(path=csv_base_path)"
   ],
   "metadata": {
    "collapsed": false,
    "ExecuteTime": {
     "end_time": "2023-10-30T15:55:34.895964Z",
     "start_time": "2023-10-30T15:55:32.685654700Z"
    }
   }
  },
  {
   "cell_type": "markdown",
   "metadata": {},
   "source": [
    "#### Extract CSV files from ZIP files"
   ]
  },
  {
   "cell_type": "code",
   "execution_count": 9,
   "metadata": {
    "scrolled": true,
    "ExecuteTime": {
     "end_time": "2023-10-30T16:00:37.366048400Z",
     "start_time": "2023-10-30T16:00:00.563088400Z"
    }
   },
   "outputs": [
    {
     "name": "stdout",
     "output_type": "stream",
     "text": [
      "Extracting data/extracted_files\\On_Time_Reporting_Carrier_On_Time_Performance_1987_present_2014_1.zip \n",
      "Extracting data/extracted_files\\On_Time_Reporting_Carrier_On_Time_Performance_1987_present_2014_10.zip \n",
      "Extracting data/extracted_files\\On_Time_Reporting_Carrier_On_Time_Performance_1987_present_2014_11.zip \n",
      "Extracting data/extracted_files\\On_Time_Reporting_Carrier_On_Time_Performance_1987_present_2014_12.zip \n",
      "Extracting data/extracted_files\\On_Time_Reporting_Carrier_On_Time_Performance_1987_present_2014_2.zip \n",
      "Extracting data/extracted_files\\On_Time_Reporting_Carrier_On_Time_Performance_1987_present_2014_3.zip \n",
      "Extracting data/extracted_files\\On_Time_Reporting_Carrier_On_Time_Performance_1987_present_2014_4.zip \n",
      "Extracting data/extracted_files\\On_Time_Reporting_Carrier_On_Time_Performance_1987_present_2014_5.zip \n",
      "Extracting data/extracted_files\\On_Time_Reporting_Carrier_On_Time_Performance_1987_present_2014_6.zip \n",
      "Extracting data/extracted_files\\On_Time_Reporting_Carrier_On_Time_Performance_1987_present_2014_7.zip \n",
      "Extracting data/extracted_files\\On_Time_Reporting_Carrier_On_Time_Performance_1987_present_2014_8.zip \n",
      "Extracting data/extracted_files\\On_Time_Reporting_Carrier_On_Time_Performance_1987_present_2014_9.zip \n",
      "Extracting data/extracted_files\\On_Time_Reporting_Carrier_On_Time_Performance_1987_present_2015_1.zip \n",
      "Extracting data/extracted_files\\On_Time_Reporting_Carrier_On_Time_Performance_1987_present_2015_10.zip \n",
      "Extracting data/extracted_files\\On_Time_Reporting_Carrier_On_Time_Performance_1987_present_2015_11.zip \n",
      "Extracting data/extracted_files\\On_Time_Reporting_Carrier_On_Time_Performance_1987_present_2015_12.zip \n",
      "Extracting data/extracted_files\\On_Time_Reporting_Carrier_On_Time_Performance_1987_present_2015_2.zip \n",
      "Extracting data/extracted_files\\On_Time_Reporting_Carrier_On_Time_Performance_1987_present_2015_3.zip \n",
      "Extracting data/extracted_files\\On_Time_Reporting_Carrier_On_Time_Performance_1987_present_2015_4.zip \n",
      "Extracting data/extracted_files\\On_Time_Reporting_Carrier_On_Time_Performance_1987_present_2015_5.zip \n",
      "Extracting data/extracted_files\\On_Time_Reporting_Carrier_On_Time_Performance_1987_present_2015_6.zip \n",
      "Extracting data/extracted_files\\On_Time_Reporting_Carrier_On_Time_Performance_1987_present_2015_7.zip \n",
      "Extracting data/extracted_files\\On_Time_Reporting_Carrier_On_Time_Performance_1987_present_2015_8.zip \n",
      "Extracting data/extracted_files\\On_Time_Reporting_Carrier_On_Time_Performance_1987_present_2015_9.zip \n",
      "Extracting data/extracted_files\\On_Time_Reporting_Carrier_On_Time_Performance_1987_present_2016_1.zip \n",
      "Extracting data/extracted_files\\On_Time_Reporting_Carrier_On_Time_Performance_1987_present_2016_10.zip \n",
      "Extracting data/extracted_files\\On_Time_Reporting_Carrier_On_Time_Performance_1987_present_2016_11.zip \n",
      "Extracting data/extracted_files\\On_Time_Reporting_Carrier_On_Time_Performance_1987_present_2016_12.zip \n",
      "Extracting data/extracted_files\\On_Time_Reporting_Carrier_On_Time_Performance_1987_present_2016_2.zip \n",
      "Extracting data/extracted_files\\On_Time_Reporting_Carrier_On_Time_Performance_1987_present_2016_3.zip \n",
      "Extracting data/extracted_files\\On_Time_Reporting_Carrier_On_Time_Performance_1987_present_2016_4.zip \n",
      "Extracting data/extracted_files\\On_Time_Reporting_Carrier_On_Time_Performance_1987_present_2016_5.zip \n",
      "Extracting data/extracted_files\\On_Time_Reporting_Carrier_On_Time_Performance_1987_present_2016_6.zip \n",
      "Extracting data/extracted_files\\On_Time_Reporting_Carrier_On_Time_Performance_1987_present_2016_7.zip \n",
      "Extracting data/extracted_files\\On_Time_Reporting_Carrier_On_Time_Performance_1987_present_2016_8.zip \n",
      "Extracting data/extracted_files\\On_Time_Reporting_Carrier_On_Time_Performance_1987_present_2016_9.zip \n",
      "Extracting data/extracted_files\\On_Time_Reporting_Carrier_On_Time_Performance_1987_present_2017_1.zip \n",
      "Extracting data/extracted_files\\On_Time_Reporting_Carrier_On_Time_Performance_1987_present_2017_10.zip \n",
      "Extracting data/extracted_files\\On_Time_Reporting_Carrier_On_Time_Performance_1987_present_2017_11.zip \n",
      "Extracting data/extracted_files\\On_Time_Reporting_Carrier_On_Time_Performance_1987_present_2017_12.zip \n",
      "Extracting data/extracted_files\\On_Time_Reporting_Carrier_On_Time_Performance_1987_present_2017_2.zip \n",
      "Extracting data/extracted_files\\On_Time_Reporting_Carrier_On_Time_Performance_1987_present_2017_3.zip \n",
      "Extracting data/extracted_files\\On_Time_Reporting_Carrier_On_Time_Performance_1987_present_2017_4.zip \n",
      "Extracting data/extracted_files\\On_Time_Reporting_Carrier_On_Time_Performance_1987_present_2017_5.zip \n",
      "Extracting data/extracted_files\\On_Time_Reporting_Carrier_On_Time_Performance_1987_present_2017_6.zip \n",
      "Extracting data/extracted_files\\On_Time_Reporting_Carrier_On_Time_Performance_1987_present_2017_7.zip \n",
      "Extracting data/extracted_files\\On_Time_Reporting_Carrier_On_Time_Performance_1987_present_2017_8.zip \n",
      "Extracting data/extracted_files\\On_Time_Reporting_Carrier_On_Time_Performance_1987_present_2017_9.zip \n",
      "Extracting data/extracted_files\\On_Time_Reporting_Carrier_On_Time_Performance_1987_present_2018_1.zip \n",
      "Extracting data/extracted_files\\On_Time_Reporting_Carrier_On_Time_Performance_1987_present_2018_10.zip \n",
      "Extracting data/extracted_files\\On_Time_Reporting_Carrier_On_Time_Performance_1987_present_2018_11.zip \n",
      "Extracting data/extracted_files\\On_Time_Reporting_Carrier_On_Time_Performance_1987_present_2018_12.zip \n",
      "Extracting data/extracted_files\\On_Time_Reporting_Carrier_On_Time_Performance_1987_present_2018_2.zip \n",
      "Extracting data/extracted_files\\On_Time_Reporting_Carrier_On_Time_Performance_1987_present_2018_3.zip \n",
      "Extracting data/extracted_files\\On_Time_Reporting_Carrier_On_Time_Performance_1987_present_2018_4.zip \n",
      "Extracting data/extracted_files\\On_Time_Reporting_Carrier_On_Time_Performance_1987_present_2018_5.zip \n",
      "Extracting data/extracted_files\\On_Time_Reporting_Carrier_On_Time_Performance_1987_present_2018_6.zip \n",
      "Extracting data/extracted_files\\On_Time_Reporting_Carrier_On_Time_Performance_1987_present_2018_7.zip \n",
      "Extracting data/extracted_files\\On_Time_Reporting_Carrier_On_Time_Performance_1987_present_2018_8.zip \n",
      "Extracting data/extracted_files\\On_Time_Reporting_Carrier_On_Time_Performance_1987_present_2018_9.zip \n",
      "Files Extracted\n"
     ]
    }
   ],
   "source": [
    "def zip2csv(zipFile_name , file_path):\n",
    "    \"\"\"\n",
    "    Extract csv from zip files\n",
    "    zipFile_name: name of the zip file\n",
    "    file_path : name of the folder to store csv\n",
    "    \"\"\"\n",
    "\n",
    "    try:\n",
    "        with ZipFile(zipFile_name, 'r') as z: \n",
    "            print(f'Extracting {zipFile_name} ') \n",
    "            z.extractall(path=file_path) \n",
    "    except:\n",
    "        print(f'zip2csv failed for {zipFile_name}')\n",
    "\n",
    "\n",
    "# make list of all zip files in data/extracted_files\n",
    "zip_files = [os.path.join(csv_base_path, f) for f in os.listdir(csv_base_path) if f.endswith('.zip')]\n",
    "for file in zip_files:\n",
    "    zip2csv(file, csv_base_path)\n",
    "\n",
    "print(\"Files Extracted\")"
   ]
  },
  {
   "cell_type": "code",
   "execution_count": 10,
   "metadata": {
    "ExecuteTime": {
     "end_time": "2023-10-30T16:01:15.239655600Z",
     "start_time": "2023-10-30T16:01:15.193042Z"
    }
   },
   "outputs": [
    {
     "name": "stdout",
     "output_type": "stream",
     "text": [
      "Number of csv files extracted is 60\n"
     ]
    }
   ],
   "source": [
    "# How many csv files have we extracted? write a code to answer it.\n",
    "print(f'Number of csv files extracted is {len(zip_files)}')"
   ]
  },
  {
   "cell_type": "markdown",
   "metadata": {},
   "source": [
    "Before loading the CSV file, read the HTML file from the extracted folder. This HTML file includes the background and more information on the features included in the dataset."
   ]
  },
  {
   "cell_type": "code",
   "execution_count": 18,
   "metadata": {
    "ExecuteTime": {
     "end_time": "2023-10-30T16:05:23.942767100Z",
     "start_time": "2023-10-30T16:05:23.918735Z"
    }
   },
   "outputs": [
    {
     "data": {
      "text/plain": "<IPython.lib.display.IFrame at 0x1a4e28c7820>",
      "text/html": "\n        <iframe\n            width=\"1000\"\n            height=\"600\"\n            src=\"data\\extracted_files\\readme.html\"\n            frameborder=\"0\"\n            allowfullscreen\n            \n        ></iframe>\n        "
     },
     "execution_count": 18,
     "metadata": {},
     "output_type": "execute_result"
    }
   ],
   "source": [
    "from IPython.display import IFrame\n",
    "\n",
    "IFrame(src=os.path.relpath(f\"{csv_base_path}/readme.html\"), width=1000, height=600)"
   ]
  },
  {
   "cell_type": "markdown",
   "metadata": {},
   "source": [
    "#### Load sample CSV\n",
    "\n",
    "Before combining all the CSV files, get a sense of the data from a single CSV file. Using Pandas, read the `On_Time_Reporting_Carrier_On_Time_Performance_(1987_present)_2018_9.csv` file first. You can use the Python built-in `read_csv` function ([documentation](https://pandas.pydata.org/pandas-docs/stable/reference/api/pandas.read_csv.html))."
   ]
  },
  {
   "cell_type": "code",
   "execution_count": 20,
   "metadata": {
    "ExecuteTime": {
     "end_time": "2023-10-30T16:19:58.975743500Z",
     "start_time": "2023-10-30T16:19:56.333483500Z"
    }
   },
   "outputs": [],
   "source": [
    "df_temp = pd.read_csv(\"data/extracted_files/On_Time_Reporting_Carrier_On_Time_Performance_(1987_present)_2014_1.csv\")"
   ]
  },
  {
   "cell_type": "markdown",
   "metadata": {},
   "source": [
    "**Question**: Print the row and column length in the dataset, and print the column names."
   ]
  },
  {
   "cell_type": "code",
   "execution_count": 21,
   "metadata": {
    "ExecuteTime": {
     "end_time": "2023-10-30T16:20:03.042485100Z",
     "start_time": "2023-10-30T16:20:03.024422400Z"
    }
   },
   "outputs": [
    {
     "name": "stdout",
     "output_type": "stream",
     "text": [
      "Rows and columns in one csv file is (471949, 110)\n"
     ]
    }
   ],
   "source": [
    "# df_shape = df_temp.shape\n",
    "print(f'Rows and columns in one csv file is {df_temp.shape}')"
   ]
  },
  {
   "cell_type": "markdown",
   "metadata": {},
   "source": [
    "**Question**: Print the first 10 rows of the dataset.  "
   ]
  },
  {
   "cell_type": "code",
   "execution_count": 22,
   "metadata": {
    "ExecuteTime": {
     "end_time": "2023-10-30T16:20:10.817940600Z",
     "start_time": "2023-10-30T16:20:10.762635Z"
    }
   },
   "outputs": [
    {
     "data": {
      "text/plain": "   Year  Quarter  Month  DayofMonth  DayOfWeek  FlightDate Reporting_Airline  \\\n0  2014        1      1          30          4  2014-01-30                AA   \n1  2014        1      1          31          5  2014-01-31                AA   \n2  2014        1      1           1          3  2014-01-01                AA   \n3  2014        1      1           2          4  2014-01-02                AA   \n4  2014        1      1           3          5  2014-01-03                AA   \n5  2014        1      1           4          6  2014-01-04                AA   \n6  2014        1      1           5          7  2014-01-05                AA   \n7  2014        1      1           6          1  2014-01-06                AA   \n8  2014        1      1           7          2  2014-01-07                AA   \n9  2014        1      1           8          3  2014-01-08                AA   \n\n   DOT_ID_Reporting_Airline IATA_CODE_Reporting_Airline Tail_Number  ...  \\\n0                     19805                          AA      N006AA  ...   \n1                     19805                          AA      N003AA  ...   \n2                     19805                          AA      N002AA  ...   \n3                     19805                          AA      N002AA  ...   \n4                     19805                          AA      N014AA  ...   \n5                     19805                          AA      N010AA  ...   \n6                     19805                          AA      N011AA  ...   \n7                     19805                          AA      N002AA  ...   \n8                     19805                          AA      N012AA  ...   \n9                     19805                          AA      N014AA  ...   \n\n   Div4TailNum  Div5Airport  Div5AirportID  Div5AirportSeqID Div5WheelsOn  \\\n0          NaN          NaN            NaN               NaN          NaN   \n1          NaN          NaN            NaN               NaN          NaN   \n2          NaN          NaN            NaN               NaN          NaN   \n3          NaN          NaN            NaN               NaN          NaN   \n4          NaN          NaN            NaN               NaN          NaN   \n5          NaN          NaN            NaN               NaN          NaN   \n6          NaN          NaN            NaN               NaN          NaN   \n7          NaN          NaN            NaN               NaN          NaN   \n8          NaN          NaN            NaN               NaN          NaN   \n9          NaN          NaN            NaN               NaN          NaN   \n\n  Div5TotalGTime Div5LongestGTime  Div5WheelsOff Div5TailNum  Unnamed: 109  \n0            NaN              NaN            NaN         NaN           NaN  \n1            NaN              NaN            NaN         NaN           NaN  \n2            NaN              NaN            NaN         NaN           NaN  \n3            NaN              NaN            NaN         NaN           NaN  \n4            NaN              NaN            NaN         NaN           NaN  \n5            NaN              NaN            NaN         NaN           NaN  \n6            NaN              NaN            NaN         NaN           NaN  \n7            NaN              NaN            NaN         NaN           NaN  \n8            NaN              NaN            NaN         NaN           NaN  \n9            NaN              NaN            NaN         NaN           NaN  \n\n[10 rows x 110 columns]",
      "text/html": "<div>\n<style scoped>\n    .dataframe tbody tr th:only-of-type {\n        vertical-align: middle;\n    }\n\n    .dataframe tbody tr th {\n        vertical-align: top;\n    }\n\n    .dataframe thead th {\n        text-align: right;\n    }\n</style>\n<table border=\"1\" class=\"dataframe\">\n  <thead>\n    <tr style=\"text-align: right;\">\n      <th></th>\n      <th>Year</th>\n      <th>Quarter</th>\n      <th>Month</th>\n      <th>DayofMonth</th>\n      <th>DayOfWeek</th>\n      <th>FlightDate</th>\n      <th>Reporting_Airline</th>\n      <th>DOT_ID_Reporting_Airline</th>\n      <th>IATA_CODE_Reporting_Airline</th>\n      <th>Tail_Number</th>\n      <th>...</th>\n      <th>Div4TailNum</th>\n      <th>Div5Airport</th>\n      <th>Div5AirportID</th>\n      <th>Div5AirportSeqID</th>\n      <th>Div5WheelsOn</th>\n      <th>Div5TotalGTime</th>\n      <th>Div5LongestGTime</th>\n      <th>Div5WheelsOff</th>\n      <th>Div5TailNum</th>\n      <th>Unnamed: 109</th>\n    </tr>\n  </thead>\n  <tbody>\n    <tr>\n      <th>0</th>\n      <td>2014</td>\n      <td>1</td>\n      <td>1</td>\n      <td>30</td>\n      <td>4</td>\n      <td>2014-01-30</td>\n      <td>AA</td>\n      <td>19805</td>\n      <td>AA</td>\n      <td>N006AA</td>\n      <td>...</td>\n      <td>NaN</td>\n      <td>NaN</td>\n      <td>NaN</td>\n      <td>NaN</td>\n      <td>NaN</td>\n      <td>NaN</td>\n      <td>NaN</td>\n      <td>NaN</td>\n      <td>NaN</td>\n      <td>NaN</td>\n    </tr>\n    <tr>\n      <th>1</th>\n      <td>2014</td>\n      <td>1</td>\n      <td>1</td>\n      <td>31</td>\n      <td>5</td>\n      <td>2014-01-31</td>\n      <td>AA</td>\n      <td>19805</td>\n      <td>AA</td>\n      <td>N003AA</td>\n      <td>...</td>\n      <td>NaN</td>\n      <td>NaN</td>\n      <td>NaN</td>\n      <td>NaN</td>\n      <td>NaN</td>\n      <td>NaN</td>\n      <td>NaN</td>\n      <td>NaN</td>\n      <td>NaN</td>\n      <td>NaN</td>\n    </tr>\n    <tr>\n      <th>2</th>\n      <td>2014</td>\n      <td>1</td>\n      <td>1</td>\n      <td>1</td>\n      <td>3</td>\n      <td>2014-01-01</td>\n      <td>AA</td>\n      <td>19805</td>\n      <td>AA</td>\n      <td>N002AA</td>\n      <td>...</td>\n      <td>NaN</td>\n      <td>NaN</td>\n      <td>NaN</td>\n      <td>NaN</td>\n      <td>NaN</td>\n      <td>NaN</td>\n      <td>NaN</td>\n      <td>NaN</td>\n      <td>NaN</td>\n      <td>NaN</td>\n    </tr>\n    <tr>\n      <th>3</th>\n      <td>2014</td>\n      <td>1</td>\n      <td>1</td>\n      <td>2</td>\n      <td>4</td>\n      <td>2014-01-02</td>\n      <td>AA</td>\n      <td>19805</td>\n      <td>AA</td>\n      <td>N002AA</td>\n      <td>...</td>\n      <td>NaN</td>\n      <td>NaN</td>\n      <td>NaN</td>\n      <td>NaN</td>\n      <td>NaN</td>\n      <td>NaN</td>\n      <td>NaN</td>\n      <td>NaN</td>\n      <td>NaN</td>\n      <td>NaN</td>\n    </tr>\n    <tr>\n      <th>4</th>\n      <td>2014</td>\n      <td>1</td>\n      <td>1</td>\n      <td>3</td>\n      <td>5</td>\n      <td>2014-01-03</td>\n      <td>AA</td>\n      <td>19805</td>\n      <td>AA</td>\n      <td>N014AA</td>\n      <td>...</td>\n      <td>NaN</td>\n      <td>NaN</td>\n      <td>NaN</td>\n      <td>NaN</td>\n      <td>NaN</td>\n      <td>NaN</td>\n      <td>NaN</td>\n      <td>NaN</td>\n      <td>NaN</td>\n      <td>NaN</td>\n    </tr>\n    <tr>\n      <th>5</th>\n      <td>2014</td>\n      <td>1</td>\n      <td>1</td>\n      <td>4</td>\n      <td>6</td>\n      <td>2014-01-04</td>\n      <td>AA</td>\n      <td>19805</td>\n      <td>AA</td>\n      <td>N010AA</td>\n      <td>...</td>\n      <td>NaN</td>\n      <td>NaN</td>\n      <td>NaN</td>\n      <td>NaN</td>\n      <td>NaN</td>\n      <td>NaN</td>\n      <td>NaN</td>\n      <td>NaN</td>\n      <td>NaN</td>\n      <td>NaN</td>\n    </tr>\n    <tr>\n      <th>6</th>\n      <td>2014</td>\n      <td>1</td>\n      <td>1</td>\n      <td>5</td>\n      <td>7</td>\n      <td>2014-01-05</td>\n      <td>AA</td>\n      <td>19805</td>\n      <td>AA</td>\n      <td>N011AA</td>\n      <td>...</td>\n      <td>NaN</td>\n      <td>NaN</td>\n      <td>NaN</td>\n      <td>NaN</td>\n      <td>NaN</td>\n      <td>NaN</td>\n      <td>NaN</td>\n      <td>NaN</td>\n      <td>NaN</td>\n      <td>NaN</td>\n    </tr>\n    <tr>\n      <th>7</th>\n      <td>2014</td>\n      <td>1</td>\n      <td>1</td>\n      <td>6</td>\n      <td>1</td>\n      <td>2014-01-06</td>\n      <td>AA</td>\n      <td>19805</td>\n      <td>AA</td>\n      <td>N002AA</td>\n      <td>...</td>\n      <td>NaN</td>\n      <td>NaN</td>\n      <td>NaN</td>\n      <td>NaN</td>\n      <td>NaN</td>\n      <td>NaN</td>\n      <td>NaN</td>\n      <td>NaN</td>\n      <td>NaN</td>\n      <td>NaN</td>\n    </tr>\n    <tr>\n      <th>8</th>\n      <td>2014</td>\n      <td>1</td>\n      <td>1</td>\n      <td>7</td>\n      <td>2</td>\n      <td>2014-01-07</td>\n      <td>AA</td>\n      <td>19805</td>\n      <td>AA</td>\n      <td>N012AA</td>\n      <td>...</td>\n      <td>NaN</td>\n      <td>NaN</td>\n      <td>NaN</td>\n      <td>NaN</td>\n      <td>NaN</td>\n      <td>NaN</td>\n      <td>NaN</td>\n      <td>NaN</td>\n      <td>NaN</td>\n      <td>NaN</td>\n    </tr>\n    <tr>\n      <th>9</th>\n      <td>2014</td>\n      <td>1</td>\n      <td>1</td>\n      <td>8</td>\n      <td>3</td>\n      <td>2014-01-08</td>\n      <td>AA</td>\n      <td>19805</td>\n      <td>AA</td>\n      <td>N014AA</td>\n      <td>...</td>\n      <td>NaN</td>\n      <td>NaN</td>\n      <td>NaN</td>\n      <td>NaN</td>\n      <td>NaN</td>\n      <td>NaN</td>\n      <td>NaN</td>\n      <td>NaN</td>\n      <td>NaN</td>\n      <td>NaN</td>\n    </tr>\n  </tbody>\n</table>\n<p>10 rows × 110 columns</p>\n</div>"
     },
     "execution_count": 22,
     "metadata": {},
     "output_type": "execute_result"
    }
   ],
   "source": [
    "df_temp.head(10)"
   ]
  },
  {
   "cell_type": "markdown",
   "metadata": {},
   "source": [
    "**Question**: Print all the columns in the dataset. Use `<dataframe>.columns` to view the column names."
   ]
  },
  {
   "cell_type": "code",
   "execution_count": 23,
   "metadata": {
    "ExecuteTime": {
     "end_time": "2023-10-30T16:20:33.648168100Z",
     "start_time": "2023-10-30T16:20:33.624641100Z"
    }
   },
   "outputs": [
    {
     "name": "stdout",
     "output_type": "stream",
     "text": [
      "The column names are :\n",
      "---------------------\n",
      "Year\n",
      "Quarter\n",
      "Month\n",
      "DayofMonth\n",
      "DayOfWeek\n",
      "FlightDate\n",
      "Reporting_Airline\n",
      "DOT_ID_Reporting_Airline\n",
      "IATA_CODE_Reporting_Airline\n",
      "Tail_Number\n",
      "Flight_Number_Reporting_Airline\n",
      "OriginAirportID\n",
      "OriginAirportSeqID\n",
      "OriginCityMarketID\n",
      "Origin\n",
      "OriginCityName\n",
      "OriginState\n",
      "OriginStateFips\n",
      "OriginStateName\n",
      "OriginWac\n",
      "DestAirportID\n",
      "DestAirportSeqID\n",
      "DestCityMarketID\n",
      "Dest\n",
      "DestCityName\n",
      "DestState\n",
      "DestStateFips\n",
      "DestStateName\n",
      "DestWac\n",
      "CRSDepTime\n",
      "DepTime\n",
      "DepDelay\n",
      "DepDelayMinutes\n",
      "DepDel15\n",
      "DepartureDelayGroups\n",
      "DepTimeBlk\n",
      "TaxiOut\n",
      "WheelsOff\n",
      "WheelsOn\n",
      "TaxiIn\n",
      "CRSArrTime\n",
      "ArrTime\n",
      "ArrDelay\n",
      "ArrDelayMinutes\n",
      "ArrDel15\n",
      "ArrivalDelayGroups\n",
      "ArrTimeBlk\n",
      "Cancelled\n",
      "CancellationCode\n",
      "Diverted\n",
      "CRSElapsedTime\n",
      "ActualElapsedTime\n",
      "AirTime\n",
      "Flights\n",
      "Distance\n",
      "DistanceGroup\n",
      "CarrierDelay\n",
      "WeatherDelay\n",
      "NASDelay\n",
      "SecurityDelay\n",
      "LateAircraftDelay\n",
      "FirstDepTime\n",
      "TotalAddGTime\n",
      "LongestAddGTime\n",
      "DivAirportLandings\n",
      "DivReachedDest\n",
      "DivActualElapsedTime\n",
      "DivArrDelay\n",
      "DivDistance\n",
      "Div1Airport\n",
      "Div1AirportID\n",
      "Div1AirportSeqID\n",
      "Div1WheelsOn\n",
      "Div1TotalGTime\n",
      "Div1LongestGTime\n",
      "Div1WheelsOff\n",
      "Div1TailNum\n",
      "Div2Airport\n",
      "Div2AirportID\n",
      "Div2AirportSeqID\n",
      "Div2WheelsOn\n",
      "Div2TotalGTime\n",
      "Div2LongestGTime\n",
      "Div2WheelsOff\n",
      "Div2TailNum\n",
      "Div3Airport\n",
      "Div3AirportID\n",
      "Div3AirportSeqID\n",
      "Div3WheelsOn\n",
      "Div3TotalGTime\n",
      "Div3LongestGTime\n",
      "Div3WheelsOff\n",
      "Div3TailNum\n",
      "Div4Airport\n",
      "Div4AirportID\n",
      "Div4AirportSeqID\n",
      "Div4WheelsOn\n",
      "Div4TotalGTime\n",
      "Div4LongestGTime\n",
      "Div4WheelsOff\n",
      "Div4TailNum\n",
      "Div5Airport\n",
      "Div5AirportID\n",
      "Div5AirportSeqID\n",
      "Div5WheelsOn\n",
      "Div5TotalGTime\n",
      "Div5LongestGTime\n",
      "Div5WheelsOff\n",
      "Div5TailNum\n",
      "Unnamed: 109\n"
     ]
    }
   ],
   "source": [
    "print(f'The column names are :')\n",
    "print('---------------------')\n",
    "df_temp_cols = df_temp.columns\n",
    "for col in df_temp_cols:\n",
    "    print(col)"
   ]
  },
  {
   "cell_type": "markdown",
   "metadata": {},
   "source": [
    "**Question**: Print all the columns in the dataset that contain the word 'Del'. This will help you see how many columns have delay data in them.\n",
    "\n",
    "**Hint**: You can use a Python list comprehension to include values that pass certain `if` statement criteria.\n",
    "\n",
    "For example: `[x for x in [1,2,3,4,5] if x > 2]`  \n",
    "\n",
    "**Hint**: You can use the `in` keyword ([documentation](https://www.w3schools.com/python/ref_keyword_in.asp)) to check if the value is in a list or not. \n",
    "\n",
    "For example: `5 in [1,2,3,4,5]`"
   ]
  },
  {
   "cell_type": "code",
   "execution_count": 24,
   "metadata": {
    "ExecuteTime": {
     "end_time": "2023-10-30T16:20:41.648924600Z",
     "start_time": "2023-10-30T16:20:41.631415500Z"
    }
   },
   "outputs": [
    {
     "name": "stdout",
     "output_type": "stream",
     "text": [
      "DepDelay\n",
      "DepDelayMinutes\n",
      "DepDel15\n",
      "DepartureDelayGroups\n",
      "ArrDelay\n",
      "ArrDelayMinutes\n",
      "ArrDel15\n",
      "ArrivalDelayGroups\n",
      "CarrierDelay\n",
      "WeatherDelay\n",
      "NASDelay\n",
      "SecurityDelay\n",
      "LateAircraftDelay\n",
      "DivArrDelay\n"
     ]
    }
   ],
   "source": [
    "# [x for x in df_temp_cols if x == 'Del']\n",
    "for x in df_temp_cols:\n",
    "    if 'Del' in x:\n",
    "        print(x)"
   ]
  },
  {
   "cell_type": "markdown",
   "metadata": {},
   "source": [
    "Here are some more questions to help you find out more about your dataset.\n",
    "\n",
    "**Questions**   \n",
    "1. How many rows and columns does the dataset have?   \n",
    "2. How many years are included in the dataset?   \n",
    "3. What is the date range for the dataset?   \n",
    "4. Which airlines are included in the dataset?   \n",
    "5. Which origin and destination airports are covered?"
   ]
  },
  {
   "cell_type": "code",
   "execution_count": 25,
   "outputs": [
    {
     "data": {
      "text/plain": "0   2014-01-30\n1   2014-01-31\n2   2014-01-01\n3   2014-01-02\n4   2014-01-03\nName: Date, dtype: datetime64[ns]"
     },
     "execution_count": 25,
     "metadata": {},
     "output_type": "execute_result"
    }
   ],
   "source": [
    "date_dict = {'year': df_temp[\"Year\"], 'month': df_temp[\"Month\"], 'day': df_temp[\"DayofMonth\"]}\n",
    "# merge year month and day into one column\n",
    "df_temp['Date'] = pd.to_datetime(date_dict)\n",
    "df_temp.Date.head()"
   ],
   "metadata": {
    "collapsed": false,
    "ExecuteTime": {
     "end_time": "2023-10-30T16:21:17.036215100Z",
     "start_time": "2023-10-30T16:21:16.989206100Z"
    }
   }
  },
  {
   "cell_type": "code",
   "execution_count": 26,
   "metadata": {
    "ExecuteTime": {
     "end_time": "2023-10-30T16:21:35.504120300Z",
     "start_time": "2023-10-30T16:21:34.363743900Z"
    }
   },
   "outputs": [
    {
     "name": "stdout",
     "output_type": "stream",
     "text": [
      "The #rows and #columns are  471949  and  111\n",
      "The years in this dataset are:  [2014]\n",
      "The months covered in this dataset are:  [1]\n",
      "The date range for data is : 2014-01-01 00:00:00  to  2014-01-31 00:00:00\n",
      "The airlines covered in this dataset are:  ['VX', 'UA', 'HA', 'B6', 'F9', 'WN', 'AS', 'OO', 'MQ', 'AA', 'US', 'FL', 'DL', 'EV']\n",
      "The Origin airports covered are:  ['GEG', 'DBQ', 'AUS', 'SNA', 'DEN', 'OAK', 'GGG', 'OKC', 'PWM', 'SAT', 'SJC', 'IAD', 'BUF', 'MEM', 'JAC', 'SAF', 'ROA', 'HRL', 'AVP', 'FOE', 'SPS', 'GRK', 'HOB', 'RDM', 'ONT', 'AEX', 'GJT', 'SAN', 'BWI', 'LMT', 'PIA', 'LRD', 'COD', 'ORF', 'LFT', 'DSM', 'GRR', 'AVL', 'GRB', 'CID', 'ISP', 'PBI', 'BTR', 'HNL', 'PAH', 'MHK', 'EYW', 'MCI', 'MRY', 'CEC', 'ISN', 'LAR', 'LBB', 'ORD', 'SMF', 'SRQ', 'BPT', 'GTR', 'CMX', 'CDV', 'FAY', 'DAY', 'CMH', 'JFK', 'LSE', 'HLN', 'LIH', 'PDX', 'AGS', 'DAL', 'ICT', 'SGF', 'BET', 'MAF', 'BQK', 'DHN', 'BGR', 'JNU', 'CLE', 'MSN', 'ELP', 'FLG', 'MMH', 'MTJ', 'CLD', 'RDD', 'AMA', 'SMX', 'MFR', 'ALB', 'FCA', 'CWA', 'FSM', 'RKS', 'ABR', 'MOT', 'ILM', 'GPT', 'EUG', 'GSP', 'MYR', 'IMT', 'STX', 'MGM', 'DFW', 'TUL', 'BFL', 'EWR', 'RHI', 'ACT', 'BOS', 'CVG', 'BOI', 'BTV', 'SUX', 'SAV', 'SYR', 'ROW', 'JLN', 'PSG', 'FAR', 'CAE', 'LNK', 'AZO', 'ABI', 'GTF', 'EAU', 'APN', 'PIH', 'XNA', 'YUM', 'ABQ', 'LGA', 'MLI', 'MLB', 'KOA', 'ART', 'GFK', 'TWF', 'RDU', 'ACV', 'STT', 'CRW', 'SEA', 'MSO', 'EKO', 'FNT', 'EWN', 'TTN', 'CPR', 'OAJ', 'TVC', 'BLI', 'PHX', 'CLT', 'SDF', 'SUN', 'LAN', 'FSD', 'BNA', 'MFE', 'BIL', 'BQN', 'ROC', 'MLU', 'DIK', 'COS', 'ILG', 'ALO', 'ECP', 'PIT', 'CLL', 'PHF', 'SFO', 'SJT', 'MCO', 'ATL', 'MKE', 'DRO', 'HPN', 'GCC', 'MIA', 'RSW', 'BIS', 'MKG', 'WRG', 'PHL', 'HOU', 'BMI', 'EGE', 'CHS', 'HDN', 'CRP', 'RNO', 'TYS', 'PVD', 'IDA', 'CMI', 'VPS', 'BRO', 'BKG', 'TUS', 'LEX', 'LIT', 'SPI', 'LWS', 'TLH', 'CIC', 'ABY', 'FAI', 'MOB', 'ELM', 'IAH', 'PSP', 'CHO', 'HSV', 'ADK', 'TRI', 'SCE', 'DCA', 'STL', 'TOL', 'COU', 'MQT', 'BRD', 'LAX', 'KTN', 'FLL', 'OME', 'OTZ', 'PSE', 'IND', 'BJI', 'PNS', 'RIC', 'ADQ', 'GUC', 'LAW', 'BDL', 'BHM', 'GNV', 'JAX', 'CHA', 'MHT', 'MSP', 'GRI', 'YAK', 'SGU', 'DLH', 'DTW', 'ABE', 'MDW', 'OMA', 'INL', 'JAN', 'SHV', 'DAB', 'ORH', 'CDC', 'BRW', 'BUR', 'FWA', 'TXK', 'VLD', 'SCC', 'SBN', 'GSO', 'ITO', 'BZN', 'OTH', 'RAP', 'EVV', 'CSG', 'SBA', 'HIB', 'ATW', 'MSY', 'ASE', 'SJU', 'TYR', 'SIT', 'MDT', 'LAS', 'OGG', 'SWF', 'GUM', 'PPG', 'RST', 'SLC', 'LGB', 'PSC', 'GCK', 'TPA', 'CAK', 'LCH', 'FAT', 'ANC', 'SBP', 'BTM', 'MOD', 'MBS']\n",
      "The Destination airports covered are:  ['GEG', 'DBQ', 'AUS', 'SNA', 'DEN', 'OAK', 'GGG', 'PWM', 'OKC', 'SAT', 'SJC', 'IAD', 'BUF', 'MEM', 'JAC', 'AVP', 'ROA', 'HRL', 'FOE', 'SAF', 'SPS', 'GRK', 'HOB', 'RDM', 'ONT', 'AEX', 'GJT', 'SAN', 'BWI', 'LMT', 'PIA', 'LRD', 'ORF', 'LFT', 'DSM', 'GRR', 'AVL', 'GRB', 'CID', 'ISP', 'PBI', 'BTR', 'HNL', 'PAH', 'MHK', 'EYW', 'MCI', 'MRY', 'CEC', 'ISN', 'LAR', 'LBB', 'ORD', 'SMF', 'SRQ', 'BPT', 'GTR', 'CMX', 'CDV', 'DAY', 'FAY', 'CMH', 'JFK', 'LSE', 'HLN', 'LIH', 'PDX', 'AGS', 'DAL', 'ICT', 'SGF', 'BET', 'MAF', 'BQK', 'DHN', 'BGR', 'JNU', 'CLE', 'MSN', 'ELP', 'FLG', 'COD', 'MTJ', 'CLD', 'RDD', 'AMA', 'MMH', 'SMX', 'MFR', 'ALB', 'FCA', 'CWA', 'FSM', 'RKS', 'ABR', 'MOT', 'ILM', 'GPT', 'EUG', 'GSP', 'MYR', 'IMT', 'STX', 'MGM', 'DFW', 'TUL', 'BFL', 'EWR', 'RHI', 'ACT', 'BOS', 'BOI', 'CVG', 'BTV', 'SUX', 'SAV', 'SYR', 'ROW', 'JLN', 'PSG', 'FAR', 'CAE', 'LNK', 'AZO', 'ABI', 'GTF', 'EAU', 'APN', 'PIH', 'XNA', 'YUM', 'ABQ', 'LGA', 'MLI', 'MLB', 'KOA', 'ART', 'GFK', 'TWF', 'RDU', 'ACV', 'STT', 'CRW', 'SEA', 'MSO', 'EKO', 'FNT', 'EWN', 'TTN', 'CPR', 'OAJ', 'TVC', 'BLI', 'PHX', 'CLT', 'SDF', 'SUN', 'LAN', 'FSD', 'BNA', 'MFE', 'BIL', 'BQN', 'ROC', 'MLU', 'DIK', 'COS', 'ILG', 'ALO', 'ECP', 'PIT', 'CLL', 'PHF', 'SFO', 'SJT', 'MCO', 'ATL', 'MKE', 'DRO', 'HPN', 'GCC', 'MIA', 'RSW', 'BIS', 'MKG', 'WRG', 'PHL', 'HOU', 'BMI', 'EGE', 'CHS', 'HDN', 'CRP', 'RNO', 'TYS', 'PVD', 'IDA', 'CMI', 'VPS', 'BRO', 'BKG', 'TUS', 'LEX', 'LIT', 'SPI', 'LWS', 'TLH', 'CIC', 'ABY', 'FAI', 'MOB', 'ELM', 'IAH', 'PSP', 'CHO', 'HSV', 'ADK', 'TRI', 'SCE', 'DCA', 'STL', 'TOL', 'COU', 'MQT', 'BRD', 'LAX', 'KTN', 'FLL', 'OME', 'OTZ', 'PSE', 'IND', 'BJI', 'PNS', 'RIC', 'ADQ', 'GUC', 'LAW', 'BDL', 'BHM', 'GNV', 'JAX', 'CHA', 'MHT', 'MSP', 'GRI', 'YAK', 'SGU', 'DLH', 'DTW', 'ABE', 'MDW', 'OMA', 'INL', 'JAN', 'SHV', 'DAB', 'ORH', 'CDC', 'BRW', 'BUR', 'FWA', 'TXK', 'VLD', 'SCC', 'SBN', 'GSO', 'ITO', 'BZN', 'OTH', 'RAP', 'EVV', 'CSG', 'SBA', 'HIB', 'ATW', 'MSY', 'ASE', 'SJU', 'TYR', 'SIT', 'MDT', 'LAS', 'OGG', 'SWF', 'GUM', 'PPG', 'RST', 'SLC', 'LGB', 'PSC', 'GCK', 'TPA', 'CAK', 'LCH', 'FAT', 'ANC', 'SBP', 'BTM', 'MOD', 'MBS']\n"
     ]
    }
   ],
   "source": [
    "# to answer above questions, complete the following code\n",
    "print(\"The #rows and #columns are \", df_temp.shape[0] , \" and \", df_temp.shape[1])\n",
    "print(\"The years in this dataset are: \", list(set(df_temp.Year)))\n",
    "print(\"The months covered in this dataset are: \", list(set(df_temp.Month)))\n",
    "print(\"The date range for data is :\" , min(df_temp.Date), \" to \", max(df_temp.Date))\n",
    "print(\"The airlines covered in this dataset are: \", list(set(df_temp.Reporting_Airline)))\n",
    "print(\"The Origin airports covered are: \", list(set(df_temp.Origin)))\n",
    "print(\"The Destination airports covered are: \", list(set(df_temp.Dest)))"
   ]
  },
  {
   "cell_type": "markdown",
   "metadata": {},
   "source": [
    "**Question**: What is the count of all the origin and destination airports?\n",
    "\n",
    "**Hint**: You can use the Pandas `values_count` function ([documentation](https://pandas.pydata.org/pandas-docs/stable/reference/api/pandas.Series.value_counts.html)) to find out the values for each airport using the columns `Origin` and `Dest`."
   ]
  },
  {
   "cell_type": "code",
   "execution_count": 28,
   "metadata": {
    "ExecuteTime": {
     "end_time": "2023-10-30T16:31:31.648656Z",
     "start_time": "2023-10-30T16:31:31.598624200Z"
    }
   },
   "outputs": [
    {
     "data": {
      "text/plain": "     Origin_Count  Destination_count\nABE           135                137\nABI           243                244\nABQ          1910               1909\nABR            62                 62\nABY            89                 89\n..            ...                ...\nVPS           402                401\nWRG            62                 62\nXNA           826                831\nYAK            60                 60\nYUM           264                264\n\n[301 rows x 2 columns]",
      "text/html": "<div>\n<style scoped>\n    .dataframe tbody tr th:only-of-type {\n        vertical-align: middle;\n    }\n\n    .dataframe tbody tr th {\n        vertical-align: top;\n    }\n\n    .dataframe thead th {\n        text-align: right;\n    }\n</style>\n<table border=\"1\" class=\"dataframe\">\n  <thead>\n    <tr style=\"text-align: right;\">\n      <th></th>\n      <th>Origin_Count</th>\n      <th>Destination_count</th>\n    </tr>\n  </thead>\n  <tbody>\n    <tr>\n      <th>ABE</th>\n      <td>135</td>\n      <td>137</td>\n    </tr>\n    <tr>\n      <th>ABI</th>\n      <td>243</td>\n      <td>244</td>\n    </tr>\n    <tr>\n      <th>ABQ</th>\n      <td>1910</td>\n      <td>1909</td>\n    </tr>\n    <tr>\n      <th>ABR</th>\n      <td>62</td>\n      <td>62</td>\n    </tr>\n    <tr>\n      <th>ABY</th>\n      <td>89</td>\n      <td>89</td>\n    </tr>\n    <tr>\n      <th>...</th>\n      <td>...</td>\n      <td>...</td>\n    </tr>\n    <tr>\n      <th>VPS</th>\n      <td>402</td>\n      <td>401</td>\n    </tr>\n    <tr>\n      <th>WRG</th>\n      <td>62</td>\n      <td>62</td>\n    </tr>\n    <tr>\n      <th>XNA</th>\n      <td>826</td>\n      <td>831</td>\n    </tr>\n    <tr>\n      <th>YAK</th>\n      <td>60</td>\n      <td>60</td>\n    </tr>\n    <tr>\n      <th>YUM</th>\n      <td>264</td>\n      <td>264</td>\n    </tr>\n  </tbody>\n</table>\n<p>301 rows × 2 columns</p>\n</div>"
     },
     "execution_count": 28,
     "metadata": {},
     "output_type": "execute_result"
    }
   ],
   "source": [
    "counts = pd.DataFrame({'Origin_Count': df_temp['Origin'].value_counts(), 'Destination_count':df_temp['Dest'].value_counts()})\n",
    "counts"
   ]
  },
  {
   "cell_type": "markdown",
   "metadata": {},
   "source": [
    "**Question**: Print the top 15 origin and destination airports based on number of flights in the dataset.\n",
    "\n",
    "**Hint**: You can use the Pandas `sort_values` function ([documentation](https://pandas.pydata.org/pandas-docs/stable/reference/api/pandas.DataFrame.sort_values.html))."
   ]
  },
  {
   "cell_type": "code",
   "execution_count": 29,
   "metadata": {
    "ExecuteTime": {
     "end_time": "2023-10-30T16:32:47.954201400Z",
     "start_time": "2023-10-30T16:32:47.912179800Z"
    }
   },
   "outputs": [
    {
     "data": {
      "text/plain": "     Origin_Count  Destination_count\nATL         30796              30784\nDFW         23488              23482\nORD         21497              21529\nLAX         18481              18474\nDEN         17977              17955\nIAH         14581              14569\nSFO         13550              13539\nPHX         13343              13335\nLAS         11050              11052\nCLT          9768               9777\nEWR          9267               9255\nMCO          9206               9189\nSLC          8685               8676\nLGA          8530               8535\nBOS          8274               8283",
      "text/html": "<div>\n<style scoped>\n    .dataframe tbody tr th:only-of-type {\n        vertical-align: middle;\n    }\n\n    .dataframe tbody tr th {\n        vertical-align: top;\n    }\n\n    .dataframe thead th {\n        text-align: right;\n    }\n</style>\n<table border=\"1\" class=\"dataframe\">\n  <thead>\n    <tr style=\"text-align: right;\">\n      <th></th>\n      <th>Origin_Count</th>\n      <th>Destination_count</th>\n    </tr>\n  </thead>\n  <tbody>\n    <tr>\n      <th>ATL</th>\n      <td>30796</td>\n      <td>30784</td>\n    </tr>\n    <tr>\n      <th>DFW</th>\n      <td>23488</td>\n      <td>23482</td>\n    </tr>\n    <tr>\n      <th>ORD</th>\n      <td>21497</td>\n      <td>21529</td>\n    </tr>\n    <tr>\n      <th>LAX</th>\n      <td>18481</td>\n      <td>18474</td>\n    </tr>\n    <tr>\n      <th>DEN</th>\n      <td>17977</td>\n      <td>17955</td>\n    </tr>\n    <tr>\n      <th>IAH</th>\n      <td>14581</td>\n      <td>14569</td>\n    </tr>\n    <tr>\n      <th>SFO</th>\n      <td>13550</td>\n      <td>13539</td>\n    </tr>\n    <tr>\n      <th>PHX</th>\n      <td>13343</td>\n      <td>13335</td>\n    </tr>\n    <tr>\n      <th>LAS</th>\n      <td>11050</td>\n      <td>11052</td>\n    </tr>\n    <tr>\n      <th>CLT</th>\n      <td>9768</td>\n      <td>9777</td>\n    </tr>\n    <tr>\n      <th>EWR</th>\n      <td>9267</td>\n      <td>9255</td>\n    </tr>\n    <tr>\n      <th>MCO</th>\n      <td>9206</td>\n      <td>9189</td>\n    </tr>\n    <tr>\n      <th>SLC</th>\n      <td>8685</td>\n      <td>8676</td>\n    </tr>\n    <tr>\n      <th>LGA</th>\n      <td>8530</td>\n      <td>8535</td>\n    </tr>\n    <tr>\n      <th>BOS</th>\n      <td>8274</td>\n      <td>8283</td>\n    </tr>\n  </tbody>\n</table>\n</div>"
     },
     "execution_count": 29,
     "metadata": {},
     "output_type": "execute_result"
    }
   ],
   "source": [
    "counts.sort_values(by=['Origin_Count'],ascending=False).head(15)# Enter your code here"
   ]
  },
  {
   "cell_type": "code",
   "execution_count": 30,
   "outputs": [
    {
     "data": {
      "text/plain": "     Origin_Count  Destination_count\nATL         30796              30784\nDFW         23488              23482\nORD         21497              21529\nLAX         18481              18474\nDEN         17977              17955\nIAH         14581              14569\nSFO         13550              13539\nPHX         13343              13335\nLAS         11050              11052\nCLT          9768               9777\nEWR          9267               9255\nMCO          9206               9189\nSLC          8685               8676\nLGA          8530               8535\nBOS          8274               8283",
      "text/html": "<div>\n<style scoped>\n    .dataframe tbody tr th:only-of-type {\n        vertical-align: middle;\n    }\n\n    .dataframe tbody tr th {\n        vertical-align: top;\n    }\n\n    .dataframe thead th {\n        text-align: right;\n    }\n</style>\n<table border=\"1\" class=\"dataframe\">\n  <thead>\n    <tr style=\"text-align: right;\">\n      <th></th>\n      <th>Origin_Count</th>\n      <th>Destination_count</th>\n    </tr>\n  </thead>\n  <tbody>\n    <tr>\n      <th>ATL</th>\n      <td>30796</td>\n      <td>30784</td>\n    </tr>\n    <tr>\n      <th>DFW</th>\n      <td>23488</td>\n      <td>23482</td>\n    </tr>\n    <tr>\n      <th>ORD</th>\n      <td>21497</td>\n      <td>21529</td>\n    </tr>\n    <tr>\n      <th>LAX</th>\n      <td>18481</td>\n      <td>18474</td>\n    </tr>\n    <tr>\n      <th>DEN</th>\n      <td>17977</td>\n      <td>17955</td>\n    </tr>\n    <tr>\n      <th>IAH</th>\n      <td>14581</td>\n      <td>14569</td>\n    </tr>\n    <tr>\n      <th>SFO</th>\n      <td>13550</td>\n      <td>13539</td>\n    </tr>\n    <tr>\n      <th>PHX</th>\n      <td>13343</td>\n      <td>13335</td>\n    </tr>\n    <tr>\n      <th>LAS</th>\n      <td>11050</td>\n      <td>11052</td>\n    </tr>\n    <tr>\n      <th>CLT</th>\n      <td>9768</td>\n      <td>9777</td>\n    </tr>\n    <tr>\n      <th>EWR</th>\n      <td>9267</td>\n      <td>9255</td>\n    </tr>\n    <tr>\n      <th>MCO</th>\n      <td>9206</td>\n      <td>9189</td>\n    </tr>\n    <tr>\n      <th>SLC</th>\n      <td>8685</td>\n      <td>8676</td>\n    </tr>\n    <tr>\n      <th>LGA</th>\n      <td>8530</td>\n      <td>8535</td>\n    </tr>\n    <tr>\n      <th>BOS</th>\n      <td>8274</td>\n      <td>8283</td>\n    </tr>\n  </tbody>\n</table>\n</div>"
     },
     "execution_count": 30,
     "metadata": {},
     "output_type": "execute_result"
    }
   ],
   "source": [
    "counts.sort_values(by=['Destination_count'],ascending=False).head(15)"
   ],
   "metadata": {
    "collapsed": false,
    "ExecuteTime": {
     "end_time": "2023-10-30T16:33:28.032177600Z",
     "start_time": "2023-10-30T16:33:27.968134600Z"
    }
   }
  },
  {
   "cell_type": "markdown",
   "metadata": {},
   "source": [
    "**Question**: Given all the information about a flight trip, can you predict if it would be delayed?"
   ]
  },
  {
   "cell_type": "markdown",
   "source": [
    "Yes"
   ],
   "metadata": {
    "collapsed": false
   }
  },
  {
   "cell_type": "markdown",
   "metadata": {},
   "source": [
    "Now, assume you are traveling from San Francisco to Los Angeles on a work trip. You want to have an ideas if your flight will be delayed, given a set of features, so that you can manage your reservations in Los Angeles better. How many features from this dataset would you know before your flight?\n",
    "\n",
    "Columns such as `DepDelay`, `ArrDelay`, `CarrierDelay`, `WeatherDelay`, `NASDelay`, `SecurityDelay`, `LateAircraftDelay`, and `DivArrDelay` contain information about a delay. But this delay could have occured at the origin or destination. If there were a sudden weather delay 10 minutes before landing, this data would not be helpful in managing your Los Angeles reservations.\n",
    "\n",
    "So to simplify the problem statement, consider the following columns to predict an arrival delay:<br>\n",
    "\n",
    "`Year`, `Quarter`, `Month`, `DayofMonth`, `DayOfWeek`, `FlightDate`, `Reporting_Airline`, `Origin`, `OriginState`, `Dest`, `DestState`, `CRSDepTime`, `DepDelayMinutes`, `DepartureDelayGroups`, `Cancelled`, `Diverted`, `Distance`, `DistanceGroup`, `ArrDelay`, `ArrDelayMinutes`, `ArrDel15`, `AirTime`\n",
    "\n",
    "You will also filter the source and destination airports to be:\n",
    "- Top airports: ATL, ORD, DFW, DEN, CLT, LAX, IAH, PHX, SFO\n",
    "- Top 5 airlines: UA, OO, WN, AA, DL\n",
    "\n",
    "This should help in reducing the size of data across the CSV files to be combined."
   ]
  },
  {
   "cell_type": "markdown",
   "metadata": {},
   "source": [
    "#### Combine all CSV files\n",
    "\n",
    "**Hint**:  \n",
    "First, create an empy dataframe that you will use to copy your individual dataframes from each file. Then, for each file in the `csv_files` list:\n",
    "\n",
    "1. Read the CSV file into a dataframe  \n",
    "2. Filter the columns based on the `filter_cols` variable\n",
    "\n",
    "```\n",
    "        columns = ['col1', 'col2']\n",
    "        df_filter = df[columns]\n",
    "```\n",
    "\n",
    "3. Keep only the subset_vals in each of the subset_cols. Use the `isin` Pandas function ([documentation](https://pandas.pydata.org/pandas-docs/stable/reference/api/pandas.DataFrame.isin.html)) to check if the `val` is in the dataframe column and then choose the rows that include it.\n",
    "\n",
    "```\n",
    "        df_eg[df_eg['col1'].isin('5')]\n",
    "```\n",
    "\n",
    "4. Concatenate the dataframe with the empty dataframe "
   ]
  },
  {
   "cell_type": "code",
   "execution_count": 37,
   "metadata": {
    "ExecuteTime": {
     "end_time": "2023-10-30T17:09:14.524472200Z",
     "start_time": "2023-10-30T17:09:14.482946100Z"
    }
   },
   "outputs": [],
   "source": [
    "def combine_csv(csv_files, filter_cols, subset_cols, subset_vals, file_name):\n",
    "    \"\"\"\n",
    "    Combine csv files into one Data Frame\n",
    "    csv_files: list of csv file paths\n",
    "    filter_cols: list of columns to filter\n",
    "    subset_cols: list of columns to subset rows\n",
    "    subset_vals: list of list of values to subset rows\n",
    "    \"\"\"\n",
    "    # Create an empty dataframe\n",
    "    df = pd.DataFrame(columns=filter_cols)\n",
    "    \n",
    "    # Loop through each file in csv_files\n",
    "    for csv_file in csv_files:\n",
    "        print(f'Reading {csv_file}')\n",
    "        # Read csv file\n",
    "        temp_df = pd.read_csv(f\"data/extracted_files/{csv_file}\")\n",
    "        \n",
    "        # Filter columns\n",
    "        temp_df = temp_df[filter_cols]\n",
    "        \n",
    "        # Subset values\n",
    "        for i in range(len(subset_cols)):\n",
    "            temp_df = temp_df[temp_df[subset_cols[i]].isin(subset_vals[i])]\n",
    "        \n",
    "        # Concatenate dataframes\n",
    "        df = pd.concat([df, temp_df])\n",
    "        \n",
    "    return df\n",
    "    \n",
    "    #<complete the code of this function>"
   ]
  },
  {
   "cell_type": "code",
   "execution_count": 38,
   "metadata": {
    "ExecuteTime": {
     "end_time": "2023-10-30T17:09:16.395661400Z",
     "start_time": "2023-10-30T17:09:16.349484800Z"
    }
   },
   "outputs": [],
   "source": [
    "#cols is the list of columns to predict Arrival Delay \n",
    "cols = ['Year','Quarter','Month','DayofMonth','DayOfWeek','FlightDate',\n",
    "        'Reporting_Airline','Origin','OriginState','Dest','DestState',\n",
    "        'CRSDepTime','Cancelled','Diverted','Distance','DistanceGroup',\n",
    "        'ArrDelay','ArrDelayMinutes','ArrDel15','AirTime']\n",
    "\n",
    "subset_cols = ['Origin', 'Dest', 'Reporting_Airline']\n",
    "\n",
    "# subset_vals is a list collection of the top origin and destination airports and top 5 airlines\n",
    "subset_vals = [['ATL', 'ORD', 'DFW', 'DEN', 'CLT', 'LAX', 'IAH', 'PHX', 'SFO'], \n",
    "               ['ATL', 'ORD', 'DFW', 'DEN', 'CLT', 'LAX', 'IAH', 'PHX', 'SFO'], \n",
    "               ['UA', 'OO', 'WN', 'AA', 'DL']]"
   ]
  },
  {
   "cell_type": "markdown",
   "metadata": {},
   "source": [
    "Use the function above to merge all the different files into a single file that you can read easily. \n",
    "\n",
    "**Note**: This will take 5-7 minutes to complete."
   ]
  },
  {
   "cell_type": "code",
   "execution_count": 41,
   "metadata": {
    "ExecuteTime": {
     "end_time": "2023-10-30T17:21:44.335329400Z",
     "start_time": "2023-10-30T17:18:51.039052200Z"
    }
   },
   "outputs": [
    {
     "name": "stdout",
     "output_type": "stream",
     "text": [
      "Reading On_Time_Reporting_Carrier_On_Time_Performance_(1987_present)_2014_1.csv\n",
      "Reading On_Time_Reporting_Carrier_On_Time_Performance_(1987_present)_2014_10.csv\n",
      "Reading On_Time_Reporting_Carrier_On_Time_Performance_(1987_present)_2014_11.csv\n",
      "Reading On_Time_Reporting_Carrier_On_Time_Performance_(1987_present)_2014_12.csv\n",
      "Reading On_Time_Reporting_Carrier_On_Time_Performance_(1987_present)_2014_2.csv\n",
      "Reading On_Time_Reporting_Carrier_On_Time_Performance_(1987_present)_2014_3.csv\n",
      "Reading On_Time_Reporting_Carrier_On_Time_Performance_(1987_present)_2014_4.csv\n",
      "Reading On_Time_Reporting_Carrier_On_Time_Performance_(1987_present)_2014_5.csv\n",
      "Reading On_Time_Reporting_Carrier_On_Time_Performance_(1987_present)_2014_6.csv\n",
      "Reading On_Time_Reporting_Carrier_On_Time_Performance_(1987_present)_2014_7.csv\n",
      "Reading On_Time_Reporting_Carrier_On_Time_Performance_(1987_present)_2014_8.csv\n",
      "Reading On_Time_Reporting_Carrier_On_Time_Performance_(1987_present)_2014_9.csv\n",
      "Reading On_Time_Reporting_Carrier_On_Time_Performance_(1987_present)_2015_1.csv\n",
      "Reading On_Time_Reporting_Carrier_On_Time_Performance_(1987_present)_2015_10.csv\n",
      "Reading On_Time_Reporting_Carrier_On_Time_Performance_(1987_present)_2015_11.csv\n",
      "Reading On_Time_Reporting_Carrier_On_Time_Performance_(1987_present)_2015_12.csv\n",
      "Reading On_Time_Reporting_Carrier_On_Time_Performance_(1987_present)_2015_2.csv\n",
      "Reading On_Time_Reporting_Carrier_On_Time_Performance_(1987_present)_2015_3.csv\n",
      "Reading On_Time_Reporting_Carrier_On_Time_Performance_(1987_present)_2015_4.csv\n",
      "Reading On_Time_Reporting_Carrier_On_Time_Performance_(1987_present)_2015_5.csv\n",
      "Reading On_Time_Reporting_Carrier_On_Time_Performance_(1987_present)_2015_6.csv\n",
      "Reading On_Time_Reporting_Carrier_On_Time_Performance_(1987_present)_2015_7.csv\n",
      "Reading On_Time_Reporting_Carrier_On_Time_Performance_(1987_present)_2015_8.csv\n",
      "Reading On_Time_Reporting_Carrier_On_Time_Performance_(1987_present)_2015_9.csv\n",
      "Reading On_Time_Reporting_Carrier_On_Time_Performance_(1987_present)_2016_1.csv\n",
      "Reading On_Time_Reporting_Carrier_On_Time_Performance_(1987_present)_2016_10.csv\n",
      "Reading On_Time_Reporting_Carrier_On_Time_Performance_(1987_present)_2016_11.csv\n",
      "Reading On_Time_Reporting_Carrier_On_Time_Performance_(1987_present)_2016_12.csv\n",
      "Reading On_Time_Reporting_Carrier_On_Time_Performance_(1987_present)_2016_2.csv\n",
      "Reading On_Time_Reporting_Carrier_On_Time_Performance_(1987_present)_2016_3.csv\n",
      "Reading On_Time_Reporting_Carrier_On_Time_Performance_(1987_present)_2016_4.csv\n",
      "Reading On_Time_Reporting_Carrier_On_Time_Performance_(1987_present)_2016_5.csv\n",
      "Reading On_Time_Reporting_Carrier_On_Time_Performance_(1987_present)_2016_6.csv\n",
      "Reading On_Time_Reporting_Carrier_On_Time_Performance_(1987_present)_2016_7.csv\n",
      "Reading On_Time_Reporting_Carrier_On_Time_Performance_(1987_present)_2016_8.csv\n",
      "Reading On_Time_Reporting_Carrier_On_Time_Performance_(1987_present)_2016_9.csv\n",
      "Reading On_Time_Reporting_Carrier_On_Time_Performance_(1987_present)_2017_1.csv\n",
      "Reading On_Time_Reporting_Carrier_On_Time_Performance_(1987_present)_2017_10.csv\n",
      "Reading On_Time_Reporting_Carrier_On_Time_Performance_(1987_present)_2017_11.csv\n",
      "Reading On_Time_Reporting_Carrier_On_Time_Performance_(1987_present)_2017_12.csv\n",
      "Reading On_Time_Reporting_Carrier_On_Time_Performance_(1987_present)_2017_2.csv\n",
      "Reading On_Time_Reporting_Carrier_On_Time_Performance_(1987_present)_2017_3.csv\n",
      "Reading On_Time_Reporting_Carrier_On_Time_Performance_(1987_present)_2017_4.csv\n",
      "Reading On_Time_Reporting_Carrier_On_Time_Performance_(1987_present)_2017_5.csv\n",
      "Reading On_Time_Reporting_Carrier_On_Time_Performance_(1987_present)_2017_6.csv\n",
      "Reading On_Time_Reporting_Carrier_On_Time_Performance_(1987_present)_2017_7.csv\n",
      "Reading On_Time_Reporting_Carrier_On_Time_Performance_(1987_present)_2017_8.csv\n",
      "Reading On_Time_Reporting_Carrier_On_Time_Performance_(1987_present)_2017_9.csv\n",
      "Reading On_Time_Reporting_Carrier_On_Time_Performance_(1987_present)_2018_1.csv\n",
      "Reading On_Time_Reporting_Carrier_On_Time_Performance_(1987_present)_2018_10.csv\n",
      "Reading On_Time_Reporting_Carrier_On_Time_Performance_(1987_present)_2018_11.csv\n",
      "Reading On_Time_Reporting_Carrier_On_Time_Performance_(1987_present)_2018_12.csv\n",
      "Reading On_Time_Reporting_Carrier_On_Time_Performance_(1987_present)_2018_2.csv\n",
      "Reading On_Time_Reporting_Carrier_On_Time_Performance_(1987_present)_2018_3.csv\n",
      "Reading On_Time_Reporting_Carrier_On_Time_Performance_(1987_present)_2018_4.csv\n",
      "Reading On_Time_Reporting_Carrier_On_Time_Performance_(1987_present)_2018_5.csv\n",
      "Reading On_Time_Reporting_Carrier_On_Time_Performance_(1987_present)_2018_6.csv\n",
      "Reading On_Time_Reporting_Carrier_On_Time_Performance_(1987_present)_2018_7.csv\n",
      "Reading On_Time_Reporting_Carrier_On_Time_Performance_(1987_present)_2018_8.csv\n",
      "Reading On_Time_Reporting_Carrier_On_Time_Performance_(1987_present)_2018_9.csv\n",
      "csv's merged in 2.89 minutes\n"
     ]
    }
   ],
   "source": [
    "start = time.time()\n",
    "\n",
    "combined_csv_filename = f\"{base_data_path}/combined_files.csv\"\n",
    "if not os.path.exists(combined_csv_filename):\n",
    "    # make a directory to store the combined csv file\n",
    "    Path(base_data_path).mkdir(parents=True, exist_ok=True)\n",
    "    # list all files in data/extracted_files directory that ends with .csv\n",
    "    csv_files = [f for f in os.listdir(csv_base_path) if f.endswith('.csv')]\n",
    "    combined_df = combine_csv(csv_files, cols, subset_cols, subset_vals, combined_csv_filename)\n",
    "    combined_df.to_csv(combined_csv_filename, index=False)\n",
    "else:\n",
    "    combined_csv = pd.read_csv(combined_csv_filename)\n",
    "\n",
    "# < write code to call the combined_csv function>\n",
    "\n",
    "print(f'csv\\'s merged in {round((time.time() - start)/60,2)} minutes')"
   ]
  },
  {
   "cell_type": "markdown",
   "metadata": {},
   "source": [
    "#### Load dataset\n",
    "\n",
    "Load the combined dataset."
   ]
  },
  {
   "cell_type": "code",
   "execution_count": 42,
   "metadata": {
    "ExecuteTime": {
     "end_time": "2023-10-30T17:22:19.345427300Z",
     "start_time": "2023-10-30T17:22:17.534283300Z"
    }
   },
   "outputs": [],
   "source": [
    "data = pd.read_csv(combined_csv_filename)# Enter your code here to read the combined csv file."
   ]
  },
  {
   "cell_type": "markdown",
   "metadata": {},
   "source": [
    "Print the first 5 records."
   ]
  },
  {
   "cell_type": "code",
   "execution_count": 43,
   "metadata": {
    "ExecuteTime": {
     "end_time": "2023-10-30T17:22:32.044025500Z",
     "start_time": "2023-10-30T17:22:32.016508600Z"
    }
   },
   "outputs": [
    {
     "data": {
      "text/plain": "   Year  Quarter  Month  DayofMonth  DayOfWeek  FlightDate Reporting_Airline  \\\n0  2014        1      1          26          7  2014-01-26                DL   \n1  2014        1      1          26          7  2014-01-26                DL   \n2  2014        1      1          26          7  2014-01-26                DL   \n3  2014        1      1          26          7  2014-01-26                DL   \n4  2014        1      1          26          7  2014-01-26                DL   \n\n  Origin OriginState Dest DestState  CRSDepTime  Cancelled  Diverted  \\\n0    ATL          GA  IAH        TX        2145        0.0       0.0   \n1    DFW          TX  ATL        GA         945        0.0       0.0   \n2    ATL          GA  DEN        CO        1855        0.0       0.0   \n3    ATL          GA  PHX        AZ        1634        0.0       0.0   \n4    PHX          AZ  ATL        GA         700        0.0       0.0   \n\n   Distance  DistanceGroup  ArrDelay  ArrDelayMinutes  ArrDel15  AirTime  \n0     689.0              3     -20.0              0.0       0.0     99.0  \n1     731.0              3      -3.0              0.0       0.0     98.0  \n2    1199.0              5      -7.0              0.0       0.0    174.0  \n3    1587.0              7      -4.0              0.0       0.0    233.0  \n4    1587.0              7     -13.0              0.0       0.0    179.0  ",
      "text/html": "<div>\n<style scoped>\n    .dataframe tbody tr th:only-of-type {\n        vertical-align: middle;\n    }\n\n    .dataframe tbody tr th {\n        vertical-align: top;\n    }\n\n    .dataframe thead th {\n        text-align: right;\n    }\n</style>\n<table border=\"1\" class=\"dataframe\">\n  <thead>\n    <tr style=\"text-align: right;\">\n      <th></th>\n      <th>Year</th>\n      <th>Quarter</th>\n      <th>Month</th>\n      <th>DayofMonth</th>\n      <th>DayOfWeek</th>\n      <th>FlightDate</th>\n      <th>Reporting_Airline</th>\n      <th>Origin</th>\n      <th>OriginState</th>\n      <th>Dest</th>\n      <th>DestState</th>\n      <th>CRSDepTime</th>\n      <th>Cancelled</th>\n      <th>Diverted</th>\n      <th>Distance</th>\n      <th>DistanceGroup</th>\n      <th>ArrDelay</th>\n      <th>ArrDelayMinutes</th>\n      <th>ArrDel15</th>\n      <th>AirTime</th>\n    </tr>\n  </thead>\n  <tbody>\n    <tr>\n      <th>0</th>\n      <td>2014</td>\n      <td>1</td>\n      <td>1</td>\n      <td>26</td>\n      <td>7</td>\n      <td>2014-01-26</td>\n      <td>DL</td>\n      <td>ATL</td>\n      <td>GA</td>\n      <td>IAH</td>\n      <td>TX</td>\n      <td>2145</td>\n      <td>0.0</td>\n      <td>0.0</td>\n      <td>689.0</td>\n      <td>3</td>\n      <td>-20.0</td>\n      <td>0.0</td>\n      <td>0.0</td>\n      <td>99.0</td>\n    </tr>\n    <tr>\n      <th>1</th>\n      <td>2014</td>\n      <td>1</td>\n      <td>1</td>\n      <td>26</td>\n      <td>7</td>\n      <td>2014-01-26</td>\n      <td>DL</td>\n      <td>DFW</td>\n      <td>TX</td>\n      <td>ATL</td>\n      <td>GA</td>\n      <td>945</td>\n      <td>0.0</td>\n      <td>0.0</td>\n      <td>731.0</td>\n      <td>3</td>\n      <td>-3.0</td>\n      <td>0.0</td>\n      <td>0.0</td>\n      <td>98.0</td>\n    </tr>\n    <tr>\n      <th>2</th>\n      <td>2014</td>\n      <td>1</td>\n      <td>1</td>\n      <td>26</td>\n      <td>7</td>\n      <td>2014-01-26</td>\n      <td>DL</td>\n      <td>ATL</td>\n      <td>GA</td>\n      <td>DEN</td>\n      <td>CO</td>\n      <td>1855</td>\n      <td>0.0</td>\n      <td>0.0</td>\n      <td>1199.0</td>\n      <td>5</td>\n      <td>-7.0</td>\n      <td>0.0</td>\n      <td>0.0</td>\n      <td>174.0</td>\n    </tr>\n    <tr>\n      <th>3</th>\n      <td>2014</td>\n      <td>1</td>\n      <td>1</td>\n      <td>26</td>\n      <td>7</td>\n      <td>2014-01-26</td>\n      <td>DL</td>\n      <td>ATL</td>\n      <td>GA</td>\n      <td>PHX</td>\n      <td>AZ</td>\n      <td>1634</td>\n      <td>0.0</td>\n      <td>0.0</td>\n      <td>1587.0</td>\n      <td>7</td>\n      <td>-4.0</td>\n      <td>0.0</td>\n      <td>0.0</td>\n      <td>233.0</td>\n    </tr>\n    <tr>\n      <th>4</th>\n      <td>2014</td>\n      <td>1</td>\n      <td>1</td>\n      <td>26</td>\n      <td>7</td>\n      <td>2014-01-26</td>\n      <td>DL</td>\n      <td>PHX</td>\n      <td>AZ</td>\n      <td>ATL</td>\n      <td>GA</td>\n      <td>700</td>\n      <td>0.0</td>\n      <td>0.0</td>\n      <td>1587.0</td>\n      <td>7</td>\n      <td>-13.0</td>\n      <td>0.0</td>\n      <td>0.0</td>\n      <td>179.0</td>\n    </tr>\n  </tbody>\n</table>\n</div>"
     },
     "execution_count": 43,
     "metadata": {},
     "output_type": "execute_result"
    }
   ],
   "source": [
    "data.head(5)"
   ]
  },
  {
   "cell_type": "markdown",
   "metadata": {},
   "source": [
    "Here are some more questions to help you find out more about your dataset.\n",
    "\n",
    "**Questions**   \n",
    "1. How many rows and columns does the dataset have?   \n",
    "2. How many years are included in the dataset?   \n",
    "3. What is the date range for the dataset?   \n",
    "4. Which airlines are included in the dataset?   \n",
    "5. Which origin and destination airports are covered?"
   ]
  },
  {
   "cell_type": "code",
   "execution_count": 44,
   "metadata": {
    "ExecuteTime": {
     "end_time": "2023-10-30T17:25:05.740466200Z",
     "start_time": "2023-10-30T17:25:05.287228200Z"
    }
   },
   "outputs": [
    {
     "name": "stdout",
     "output_type": "stream",
     "text": [
      "The #rows and #columns are  1658130  and  20\n",
      "The years in this dataset are:  [2016, 2017, 2018, 2014, 2015]\n",
      "The months covered in this dataset are:  [1, 2, 3, 4, 5, 6, 7, 8, 9, 10, 11, 12]\n",
      "The date range for data is : 1  to  31\n",
      "The airlines covered in this dataset are:  ['OO', 'AA', 'WN', 'DL', 'UA']\n",
      "The Origin airports covered are:  ['DFW', 'DEN', 'PHX', 'SFO', 'CLT', 'ATL', 'LAX', 'IAH', 'ORD']\n",
      "The Destination airports covered are:  ['DFW', 'DEN', 'PHX', 'SFO', 'CLT', 'ATL', 'LAX', 'IAH', 'ORD']\n"
     ]
    }
   ],
   "source": [
    "# to answer above questions, complete the following code\n",
    "print(\"The #rows and #columns are \", data.shape[0] , \" and \", data.shape[1])\n",
    "print(\"The years in this dataset are: \", list(set(data.Year)))\n",
    "print(\"The months covered in this dataset are: \", sorted(list(set(data.Month))))\n",
    "print(\"The date range for data is :\" , min(data.DayofMonth), \" to \", max(data.DayofMonth))\n",
    "print(\"The airlines covered in this dataset are: \", list(set(data.Reporting_Airline)))\n",
    "print(\"The Origin airports covered are: \", list(set(data.Origin)))\n",
    "print(\"The Destination airports covered are: \", list(set(data.Dest)))"
   ]
  },
  {
   "cell_type": "markdown",
   "metadata": {},
   "source": [
    "Let's define our **target column : is_delay** (1 - if arrival time delayed more than 15 minutes, 0 - otherwise). Use the `rename` method to rename the column from `ArrDel15` to `is_delay`.\n",
    "\n",
    "**Hint**: You can use the Pandas `rename` function ([documentation](https://pandas.pydata.org/pandas-docs/stable/reference/api/pandas.DataFrame.rename.html)).\n",
    "\n",
    "For example:\n",
    "```\n",
    "df.rename(columns={'col1':'column1'}, inplace=True)\n",
    "```"
   ]
  },
  {
   "cell_type": "code",
   "execution_count": 45,
   "metadata": {
    "ExecuteTime": {
     "end_time": "2023-10-30T17:27:51.972383600Z",
     "start_time": "2023-10-30T17:27:51.954379700Z"
    }
   },
   "outputs": [],
   "source": [
    "data.rename(columns={'ArrDel15':'is_delay'}, inplace=True) # Enter your code here"
   ]
  },
  {
   "cell_type": "markdown",
   "metadata": {},
   "source": [
    "Look for nulls across columns. You can use the `isnull()` function ([documentation](https://pandas.pydata.org/pandas-docs/version/0.17.0/generated/pandas.isnull.html)).\n",
    "\n",
    "**Hint**: `isnull()` detects whether the particular value is null or not and gives you a boolean (True or False) in its place. Use the `sum(axis=0)` function to sum up the number of columns."
   ]
  },
  {
   "cell_type": "code",
   "execution_count": 46,
   "metadata": {
    "ExecuteTime": {
     "end_time": "2023-10-30T17:28:23.682011100Z",
     "start_time": "2023-10-30T17:28:23.404758900Z"
    }
   },
   "outputs": [
    {
     "data": {
      "text/plain": "Year                     0\nQuarter                  0\nMonth                    0\nDayofMonth               0\nDayOfWeek                0\nFlightDate               0\nReporting_Airline        0\nOrigin                   0\nOriginState              0\nDest                     0\nDestState                0\nCRSDepTime               0\nCancelled                0\nDiverted                 0\nDistance                 0\nDistanceGroup            0\nArrDelay             22540\nArrDelayMinutes      22540\nis_delay             22540\nAirTime              22540\ndtype: int64"
     },
     "execution_count": 46,
     "metadata": {},
     "output_type": "execute_result"
    }
   ],
   "source": [
    "# Enter your code here\n",
    "data.isnull().sum(axis=0)"
   ]
  },
  {
   "cell_type": "markdown",
   "metadata": {},
   "source": [
    "The arrival delay details and airtime are missing for 22540 out of 1658130 rows, which is 1.3%. You can either remove or impute these rows. The documentation does not mention anything about missing rows.\n",
    "\n",
    "**Hint**: Use the `~` operator to choose the values that aren't null from the `isnull()` output.\n",
    "\n",
    "For example:\n",
    "```\n",
    "null_eg = df_eg[~df_eg['column_name'].isnull()]\n",
    "```"
   ]
  },
  {
   "cell_type": "code",
   "execution_count": 49,
   "metadata": {
    "ExecuteTime": {
     "end_time": "2023-10-30T17:32:42.418070200Z",
     "start_time": "2023-10-30T17:32:42.292547300Z"
    }
   },
   "outputs": [
    {
     "data": {
      "text/plain": "         Year  Quarter  Month  DayofMonth  DayOfWeek  FlightDate  \\\n0        2014        1      1          26          7  2014-01-26   \n1        2014        1      1          26          7  2014-01-26   \n2        2014        1      1          26          7  2014-01-26   \n3        2014        1      1          26          7  2014-01-26   \n4        2014        1      1          26          7  2014-01-26   \n...       ...      ...    ...         ...        ...         ...   \n1658125  2018        3      9          11          2  2018-09-11   \n1658126  2018        3      9          11          2  2018-09-11   \n1658127  2018        3      9          11          2  2018-09-11   \n1658128  2018        3      9          11          2  2018-09-11   \n1658129  2018        3      9          11          2  2018-09-11   \n\n        Reporting_Airline Origin OriginState Dest DestState  CRSDepTime  \\\n0                      DL    ATL          GA  IAH        TX        2145   \n1                      DL    DFW          TX  ATL        GA         945   \n2                      DL    ATL          GA  DEN        CO        1855   \n3                      DL    ATL          GA  PHX        AZ        1634   \n4                      DL    PHX          AZ  ATL        GA         700   \n...                   ...    ...         ...  ...       ...         ...   \n1658125                WN    DEN          CO  PHX        AZ        1105   \n1658126                WN    DEN          CO  SFO        CA         825   \n1658127                WN    DEN          CO  SFO        CA        1240   \n1658128                WN    DEN          CO  SFO        CA        2210   \n1658129                WN    DEN          CO  SFO        CA        1610   \n\n         Cancelled  Diverted  Distance  DistanceGroup  ArrDelay  \\\n0              0.0       0.0     689.0              3     -20.0   \n1              0.0       0.0     731.0              3      -3.0   \n2              0.0       0.0    1199.0              5      -7.0   \n3              0.0       0.0    1587.0              7      -4.0   \n4              0.0       0.0    1587.0              7     -13.0   \n...            ...       ...       ...            ...       ...   \n1658125        0.0       0.0     602.0              3     -18.0   \n1658126        0.0       0.0     967.0              4      -8.0   \n1658127        0.0       0.0     967.0              4      17.0   \n1658128        0.0       0.0     967.0              4       2.0   \n1658129        0.0       0.0     967.0              4      -6.0   \n\n         ArrDelayMinutes  is_delay  AirTime  \n0                    0.0       0.0     99.0  \n1                    0.0       0.0     98.0  \n2                    0.0       0.0    174.0  \n3                    0.0       0.0    233.0  \n4                    0.0       0.0    179.0  \n...                  ...       ...      ...  \n1658125              0.0       0.0     87.0  \n1658126              0.0       0.0    133.0  \n1658127             17.0       1.0    141.0  \n1658128              2.0       0.0    138.0  \n1658129              0.0       0.0    141.0  \n\n[1635590 rows x 20 columns]",
      "text/html": "<div>\n<style scoped>\n    .dataframe tbody tr th:only-of-type {\n        vertical-align: middle;\n    }\n\n    .dataframe tbody tr th {\n        vertical-align: top;\n    }\n\n    .dataframe thead th {\n        text-align: right;\n    }\n</style>\n<table border=\"1\" class=\"dataframe\">\n  <thead>\n    <tr style=\"text-align: right;\">\n      <th></th>\n      <th>Year</th>\n      <th>Quarter</th>\n      <th>Month</th>\n      <th>DayofMonth</th>\n      <th>DayOfWeek</th>\n      <th>FlightDate</th>\n      <th>Reporting_Airline</th>\n      <th>Origin</th>\n      <th>OriginState</th>\n      <th>Dest</th>\n      <th>DestState</th>\n      <th>CRSDepTime</th>\n      <th>Cancelled</th>\n      <th>Diverted</th>\n      <th>Distance</th>\n      <th>DistanceGroup</th>\n      <th>ArrDelay</th>\n      <th>ArrDelayMinutes</th>\n      <th>is_delay</th>\n      <th>AirTime</th>\n    </tr>\n  </thead>\n  <tbody>\n    <tr>\n      <th>0</th>\n      <td>2014</td>\n      <td>1</td>\n      <td>1</td>\n      <td>26</td>\n      <td>7</td>\n      <td>2014-01-26</td>\n      <td>DL</td>\n      <td>ATL</td>\n      <td>GA</td>\n      <td>IAH</td>\n      <td>TX</td>\n      <td>2145</td>\n      <td>0.0</td>\n      <td>0.0</td>\n      <td>689.0</td>\n      <td>3</td>\n      <td>-20.0</td>\n      <td>0.0</td>\n      <td>0.0</td>\n      <td>99.0</td>\n    </tr>\n    <tr>\n      <th>1</th>\n      <td>2014</td>\n      <td>1</td>\n      <td>1</td>\n      <td>26</td>\n      <td>7</td>\n      <td>2014-01-26</td>\n      <td>DL</td>\n      <td>DFW</td>\n      <td>TX</td>\n      <td>ATL</td>\n      <td>GA</td>\n      <td>945</td>\n      <td>0.0</td>\n      <td>0.0</td>\n      <td>731.0</td>\n      <td>3</td>\n      <td>-3.0</td>\n      <td>0.0</td>\n      <td>0.0</td>\n      <td>98.0</td>\n    </tr>\n    <tr>\n      <th>2</th>\n      <td>2014</td>\n      <td>1</td>\n      <td>1</td>\n      <td>26</td>\n      <td>7</td>\n      <td>2014-01-26</td>\n      <td>DL</td>\n      <td>ATL</td>\n      <td>GA</td>\n      <td>DEN</td>\n      <td>CO</td>\n      <td>1855</td>\n      <td>0.0</td>\n      <td>0.0</td>\n      <td>1199.0</td>\n      <td>5</td>\n      <td>-7.0</td>\n      <td>0.0</td>\n      <td>0.0</td>\n      <td>174.0</td>\n    </tr>\n    <tr>\n      <th>3</th>\n      <td>2014</td>\n      <td>1</td>\n      <td>1</td>\n      <td>26</td>\n      <td>7</td>\n      <td>2014-01-26</td>\n      <td>DL</td>\n      <td>ATL</td>\n      <td>GA</td>\n      <td>PHX</td>\n      <td>AZ</td>\n      <td>1634</td>\n      <td>0.0</td>\n      <td>0.0</td>\n      <td>1587.0</td>\n      <td>7</td>\n      <td>-4.0</td>\n      <td>0.0</td>\n      <td>0.0</td>\n      <td>233.0</td>\n    </tr>\n    <tr>\n      <th>4</th>\n      <td>2014</td>\n      <td>1</td>\n      <td>1</td>\n      <td>26</td>\n      <td>7</td>\n      <td>2014-01-26</td>\n      <td>DL</td>\n      <td>PHX</td>\n      <td>AZ</td>\n      <td>ATL</td>\n      <td>GA</td>\n      <td>700</td>\n      <td>0.0</td>\n      <td>0.0</td>\n      <td>1587.0</td>\n      <td>7</td>\n      <td>-13.0</td>\n      <td>0.0</td>\n      <td>0.0</td>\n      <td>179.0</td>\n    </tr>\n    <tr>\n      <th>...</th>\n      <td>...</td>\n      <td>...</td>\n      <td>...</td>\n      <td>...</td>\n      <td>...</td>\n      <td>...</td>\n      <td>...</td>\n      <td>...</td>\n      <td>...</td>\n      <td>...</td>\n      <td>...</td>\n      <td>...</td>\n      <td>...</td>\n      <td>...</td>\n      <td>...</td>\n      <td>...</td>\n      <td>...</td>\n      <td>...</td>\n      <td>...</td>\n      <td>...</td>\n    </tr>\n    <tr>\n      <th>1658125</th>\n      <td>2018</td>\n      <td>3</td>\n      <td>9</td>\n      <td>11</td>\n      <td>2</td>\n      <td>2018-09-11</td>\n      <td>WN</td>\n      <td>DEN</td>\n      <td>CO</td>\n      <td>PHX</td>\n      <td>AZ</td>\n      <td>1105</td>\n      <td>0.0</td>\n      <td>0.0</td>\n      <td>602.0</td>\n      <td>3</td>\n      <td>-18.0</td>\n      <td>0.0</td>\n      <td>0.0</td>\n      <td>87.0</td>\n    </tr>\n    <tr>\n      <th>1658126</th>\n      <td>2018</td>\n      <td>3</td>\n      <td>9</td>\n      <td>11</td>\n      <td>2</td>\n      <td>2018-09-11</td>\n      <td>WN</td>\n      <td>DEN</td>\n      <td>CO</td>\n      <td>SFO</td>\n      <td>CA</td>\n      <td>825</td>\n      <td>0.0</td>\n      <td>0.0</td>\n      <td>967.0</td>\n      <td>4</td>\n      <td>-8.0</td>\n      <td>0.0</td>\n      <td>0.0</td>\n      <td>133.0</td>\n    </tr>\n    <tr>\n      <th>1658127</th>\n      <td>2018</td>\n      <td>3</td>\n      <td>9</td>\n      <td>11</td>\n      <td>2</td>\n      <td>2018-09-11</td>\n      <td>WN</td>\n      <td>DEN</td>\n      <td>CO</td>\n      <td>SFO</td>\n      <td>CA</td>\n      <td>1240</td>\n      <td>0.0</td>\n      <td>0.0</td>\n      <td>967.0</td>\n      <td>4</td>\n      <td>17.0</td>\n      <td>17.0</td>\n      <td>1.0</td>\n      <td>141.0</td>\n    </tr>\n    <tr>\n      <th>1658128</th>\n      <td>2018</td>\n      <td>3</td>\n      <td>9</td>\n      <td>11</td>\n      <td>2</td>\n      <td>2018-09-11</td>\n      <td>WN</td>\n      <td>DEN</td>\n      <td>CO</td>\n      <td>SFO</td>\n      <td>CA</td>\n      <td>2210</td>\n      <td>0.0</td>\n      <td>0.0</td>\n      <td>967.0</td>\n      <td>4</td>\n      <td>2.0</td>\n      <td>2.0</td>\n      <td>0.0</td>\n      <td>138.0</td>\n    </tr>\n    <tr>\n      <th>1658129</th>\n      <td>2018</td>\n      <td>3</td>\n      <td>9</td>\n      <td>11</td>\n      <td>2</td>\n      <td>2018-09-11</td>\n      <td>WN</td>\n      <td>DEN</td>\n      <td>CO</td>\n      <td>SFO</td>\n      <td>CA</td>\n      <td>1610</td>\n      <td>0.0</td>\n      <td>0.0</td>\n      <td>967.0</td>\n      <td>4</td>\n      <td>-6.0</td>\n      <td>0.0</td>\n      <td>0.0</td>\n      <td>141.0</td>\n    </tr>\n  </tbody>\n</table>\n<p>1635590 rows × 20 columns</p>\n</div>"
     },
     "execution_count": 49,
     "metadata": {},
     "output_type": "execute_result"
    }
   ],
   "source": [
    "### Remove null columns\n",
    "data = data[~data['is_delay'].isnull()] # Enter your code here\n",
    "data"
   ]
  },
  {
   "cell_type": "markdown",
   "metadata": {},
   "source": [
    "Get the hour of the day in 24-hour time format from CRSDepTime."
   ]
  },
  {
   "cell_type": "code",
   "execution_count": 54,
   "metadata": {
    "ExecuteTime": {
     "end_time": "2023-10-30T17:50:09.036680500Z",
     "start_time": "2023-10-30T17:50:08.992543900Z"
    }
   },
   "outputs": [],
   "source": [
    "# Get the hour of the day in 24-hour time format from CRSDepTime.\n",
    "# data['DepHourofDay'] = (data['CRSDepTime']//100).astype(int)# Enter your code here\n",
    "\"\"\"The data is in 24 hour format, so no need to convert\"\"\"\n",
    "# renaming the column\n",
    "data.rename(columns={'CRSDepTime':'DepHourofDay'}, inplace=True)"
   ]
  },
  {
   "cell_type": "code",
   "execution_count": 55,
   "outputs": [
    {
     "data": {
      "text/plain": "Year                   int64\nQuarter                int64\nMonth                  int64\nDayofMonth             int64\nDayOfWeek              int64\nFlightDate            object\nReporting_Airline     object\nOrigin                object\nOriginState           object\nDest                  object\nDestState             object\nDepHourofDay           int64\nCancelled            float64\nDiverted             float64\nDistance             float64\nDistanceGroup          int64\nArrDelay             float64\nArrDelayMinutes      float64\nis_delay             float64\nAirTime              float64\ndtype: object"
     },
     "execution_count": 55,
     "metadata": {},
     "output_type": "execute_result"
    }
   ],
   "source": [
    "data.dtypes"
   ],
   "metadata": {
    "collapsed": false,
    "ExecuteTime": {
     "end_time": "2023-10-30T17:50:11.793654700Z",
     "start_time": "2023-10-30T17:50:11.759529700Z"
    }
   }
  },
  {
   "cell_type": "markdown",
   "metadata": {},
   "source": [
    "## **The ML problem statement**\n",
    "- Given a set of features, can you predict if a flight is going to be delayed more than 15 minutes?\n",
    "- Because the target variable takes only 0/1 value, you could use a classification algorithm. "
   ]
  },
  {
   "cell_type": "markdown",
   "metadata": {},
   "source": [
    "### Data exploration\n",
    "\n",
    "#### Check class delay vs. no delay\n",
    "\n",
    "**Hint**: Use a `groupby` plot ([documentation](https://pandas.pydata.org/pandas-docs/stable/reference/api/pandas.DataFrame.groupby.html)) with a `bar` plot ([documentation](https://matplotlib.org/tutorials/introductory/pyplot.html)) to plot the frequency vs. distribution of the class."
   ]
  },
  {
   "cell_type": "code",
   "execution_count": 52,
   "metadata": {
    "ExecuteTime": {
     "end_time": "2023-10-30T17:47:13.642639Z",
     "start_time": "2023-10-30T17:47:13.499529200Z"
    }
   },
   "outputs": [
    {
     "data": {
      "text/plain": "<Figure size 640x480 with 1 Axes>",
      "image/png": "[encoded data removed]"
     },
     "metadata": {},
     "output_type": "display_data"
    }
   ],
   "source": [
    "(data.groupby('is_delay').size()/len(data)).plot(kind='bar')# Enter your code here\n",
    "plt.ylabel('Frequency')\n",
    "plt.title('Distribution of classes')\n",
    "plt.show()"
   ]
  },
  {
   "cell_type": "markdown",
   "metadata": {},
   "source": [
    "**Question**: What can you deduce from the bar plot about the ratio of delay vs. no delay?"
   ]
  },
  {
   "cell_type": "markdown",
   "source": [
    "I can see that the there were almost 20% of the flights that were delayed."
   ],
   "metadata": {
    "collapsed": false
   }
  },
  {
   "cell_type": "markdown",
   "metadata": {},
   "source": [
    "**Questions**: \n",
    "\n",
    "- Which months have the most delays?\n",
    "- What time of the day has the most delays?\n",
    "- What day of the week has the most delays?\n",
    "- Which airline has the most delays?\n",
    "- Which origin and destination airports have the most delays?\n",
    "- Is flight distance a factor in the delays?"
   ]
  },
  {
   "cell_type": "code",
   "execution_count": 56,
   "metadata": {
    "ExecuteTime": {
     "end_time": "2023-10-30T17:50:36.933465Z",
     "start_time": "2023-10-30T17:50:23.377996Z"
    }
   },
   "outputs": [
    {
     "data": {
      "text/plain": "<Figure size 2000x2000 with 6 Axes>",
      "image/png": "[encoded data removed]"
     },
     "metadata": {},
     "output_type": "display_data"
    }
   ],
   "source": [
    "viz_columns = ['Month', 'DepHourofDay', 'DayOfWeek', 'Reporting_Airline', 'Origin', 'Dest']\n",
    "fig, axes = plt.subplots(3, 2, figsize=(20,20), squeeze=False)\n",
    "# fig.autofmt_xdate(rotation=90)\n",
    "\n",
    "for idx, column in enumerate(viz_columns):\n",
    "    ax = axes[idx//2, idx%2]\n",
    "    temp = data.groupby(column)['is_delay'].value_counts(normalize=True).rename('percentage').\\\n",
    "    mul(100).reset_index().sort_values(column)\n",
    "    sns.barplot(x=column, y=\"percentage\", hue=\"is_delay\", data=temp, ax=ax)\n",
    "    plt.ylabel('% delay/no-delay')\n",
    "    \n",
    "\n",
    "plt.show()"
   ]
  },
  {
   "cell_type": "code",
   "execution_count": 57,
   "metadata": {
    "ExecuteTime": {
     "end_time": "2023-10-30T17:50:47.857254800Z",
     "start_time": "2023-10-30T17:50:44.498789400Z"
    }
   },
   "outputs": [
    {
     "data": {
      "text/plain": "<Figure size 500x500 with 1 Axes>",
      "image/png": "[encoded data removed]"
     },
     "metadata": {},
     "output_type": "display_data"
    }
   ],
   "source": [
    "sns.lmplot( x=\"is_delay\", y=\"Distance\", data=data, fit_reg=False, hue='is_delay', legend=False)\n",
    "plt.legend(loc='center')\n",
    "plt.xlabel('is_delay')\n",
    "plt.ylabel('Distance')\n",
    "plt.show()"
   ]
  },
  {
   "cell_type": "code",
   "execution_count": 13,
   "metadata": {},
   "outputs": [],
   "source": [
    "# Based on the above figures, enter your answers to the above questions here and turn the cell type to markdown"
   ]
  },
  {
   "cell_type": "markdown",
   "metadata": {},
   "source": [
    "### Features\n",
    "\n",
    "Look at all the columns and what their specific types are."
   ]
  },
  {
   "cell_type": "code",
   "execution_count": 58,
   "metadata": {
    "ExecuteTime": {
     "end_time": "2023-10-30T17:51:34.841619600Z",
     "start_time": "2023-10-30T17:51:34.822078900Z"
    }
   },
   "outputs": [
    {
     "data": {
      "text/plain": "Index(['Year', 'Quarter', 'Month', 'DayofMonth', 'DayOfWeek', 'FlightDate',\n       'Reporting_Airline', 'Origin', 'OriginState', 'Dest', 'DestState',\n       'DepHourofDay', 'Cancelled', 'Diverted', 'Distance', 'DistanceGroup',\n       'ArrDelay', 'ArrDelayMinutes', 'is_delay', 'AirTime'],\n      dtype='object')"
     },
     "execution_count": 58,
     "metadata": {},
     "output_type": "execute_result"
    }
   ],
   "source": [
    "data.columns"
   ]
  },
  {
   "cell_type": "code",
   "execution_count": 59,
   "metadata": {
    "ExecuteTime": {
     "end_time": "2023-10-30T17:51:39.429274500Z",
     "start_time": "2023-10-30T17:51:39.408249900Z"
    }
   },
   "outputs": [
    {
     "data": {
      "text/plain": "Year                   int64\nQuarter                int64\nMonth                  int64\nDayofMonth             int64\nDayOfWeek              int64\nFlightDate            object\nReporting_Airline     object\nOrigin                object\nOriginState           object\nDest                  object\nDestState             object\nDepHourofDay           int64\nCancelled            float64\nDiverted             float64\nDistance             float64\nDistanceGroup          int64\nArrDelay             float64\nArrDelayMinutes      float64\nis_delay             float64\nAirTime              float64\ndtype: object"
     },
     "execution_count": 59,
     "metadata": {},
     "output_type": "execute_result"
    }
   ],
   "source": [
    "data.dtypes"
   ]
  },
  {
   "cell_type": "markdown",
   "metadata": {},
   "source": [
    "Filtering the required columns:\n",
    "- Date is redundant, because you have Year, Quarter, Month, DayofMonth, and DayOfWeek to describe the date.\n",
    "- Use Origin and Dest codes instead of OriginState and DestState.\n",
    "- Because you are just classifying whether the flight is delayed or not, you don't need TotalDelayMinutes, DepDelayMinutes, and ArrDelayMinutes.\n",
    "\n",
    "Treat DepHourofDay as a categorical variable because it doesn't have any quantitative relation with the target.\n",
    "- If you had to do a one-hot encoding of it, it would result in 23 more columns.\n",
    "- Other alternatives to handling categorical variables include hash encoding, regularized mean encoding, and bucketizing the values, among others.\n",
    "- Just split into buckets here.\n",
    "\n",
    "**Hint**: To change a column type to category, use the `astype` function ([documentation](https://pandas.pydata.org/pandas-docs/stable/reference/api/pandas.DataFrame.astype.html))."
   ]
  },
  {
   "cell_type": "code",
   "execution_count": null,
   "metadata": {},
   "outputs": [],
   "source": [
    "data_orig = data.copy()\n",
    "data = data[[ 'is_delay', 'Quarter', 'Month', 'DayofMonth', 'DayOfWeek', \n",
    "       'Reporting_Airline', 'Origin', 'Dest','Distance','DepHourofDay']]\n",
    "categorical_columns  = ['Quarter', 'Month', 'DayofMonth', 'DayOfWeek', \n",
    "       'Reporting_Airline', 'Origin', 'Dest', 'DepHourofDay']\n",
    "for c in categorical_columns:\n",
    "    data[c] = data[c].astype('category')# Enter your code here"
   ]
  },
  {
   "cell_type": "markdown",
   "metadata": {},
   "source": [
    "To use one-hot encoding, use the Pandas `get_dummies` function for the categorical columns that you selected above. Then, you can concatenate those generated features to your original dataset using the Pandas `concat` function. For encoding categorical variables, you can also use *dummy encoding* by using a keyword `drop_first=True`. For more information on dummy encoding, see https://en.wikiversity.org/wiki/Dummy_variable_(statistics).\n",
    "\n",
    "For example:\n",
    "```\n",
    "pd.get_dummies(df[['column1','columns2']], drop_first=True)\n",
    "```"
   ]
  },
  {
   "cell_type": "code",
   "execution_count": null,
   "metadata": {},
   "outputs": [],
   "source": [
    "data_dummies = pd.get_dummies(<CODE>, drop_first=True) # Enter your code here\n",
    "data = pd.concat([<CODE>, <CODE>], axis = 1)\n",
    "data.drop(categorical_columns,axis=1, inplace=True)"
   ]
  },
  {
   "cell_type": "markdown",
   "metadata": {},
   "source": [
    "Check the length of the dataset and the new columnms."
   ]
  },
  {
   "cell_type": "code",
   "execution_count": null,
   "metadata": {},
   "outputs": [],
   "source": [
    "# Enter your code here"
   ]
  },
  {
   "cell_type": "code",
   "execution_count": null,
   "metadata": {},
   "outputs": [],
   "source": [
    "# Enter your code here"
   ]
  },
  {
   "cell_type": "markdown",
   "metadata": {},
   "source": [
    "**Sample Answer:** \n",
    "```\n",
    "Index(['Distance', 'is_delay', 'Quarter_2', 'Quarter_3', 'Quarter_4',\n",
    "       'Month_2', 'Month_3', 'Month_4', 'Month_5', 'Month_6', 'Month_7',\n",
    "       'Month_8', 'Month_9', 'Month_10', 'Month_11', 'Month_12',\n",
    "       'DayofMonth_2', 'DayofMonth_3', 'DayofMonth_4', 'DayofMonth_5',\n",
    "       'DayofMonth_6', 'DayofMonth_7', 'DayofMonth_8', 'DayofMonth_9',\n",
    "       'DayofMonth_10', 'DayofMonth_11', 'DayofMonth_12', 'DayofMonth_13',\n",
    "       'DayofMonth_14', 'DayofMonth_15', 'DayofMonth_16', 'DayofMonth_17',\n",
    "       'DayofMonth_18', 'DayofMonth_19', 'DayofMonth_20', 'DayofMonth_21',\n",
    "       'DayofMonth_22', 'DayofMonth_23', 'DayofMonth_24', 'DayofMonth_25',\n",
    "       'DayofMonth_26', 'DayofMonth_27', 'DayofMonth_28', 'DayofMonth_29',\n",
    "       'DayofMonth_30', 'DayofMonth_31', 'DayOfWeek_2', 'DayOfWeek_3',\n",
    "       'DayOfWeek_4', 'DayOfWeek_5', 'DayOfWeek_6', 'DayOfWeek_7',\n",
    "       'Reporting_Airline_DL', 'Reporting_Airline_OO', 'Reporting_Airline_UA',\n",
    "       'Reporting_Airline_WN', 'Origin_CLT', 'Origin_DEN', 'Origin_DFW',\n",
    "       'Origin_IAH', 'Origin_LAX', 'Origin_ORD', 'Origin_PHX', 'Origin_SFO',\n",
    "       'Dest_CLT', 'Dest_DEN', 'Dest_DFW', 'Dest_IAH', 'Dest_LAX', 'Dest_ORD',\n",
    "       'Dest_PHX', 'Dest_SFO'],\n",
    "      dtype='object')\n",
    "```"
   ]
  },
  {
   "cell_type": "markdown",
   "metadata": {},
   "source": [
    "Now you are ready to do model training. Before splitting the data, rename the column `is_delay` to `target`.\n",
    "\n",
    "**Hint**: You can use the Pandas `rename` function ([documentation](https://pandas.pydata.org/pandas-docs/stable/reference/api/pandas.DataFrame.rename.html))."
   ]
  },
  {
   "cell_type": "code",
   "execution_count": null,
   "metadata": {},
   "outputs": [],
   "source": [
    "data.rename(columns = {<CODE>:<CODE>}, inplace=True )# Enter your code here"
   ]
  },
  {
   "cell_type": "code",
   "execution_count": 8,
   "metadata": {},
   "outputs": [],
   "source": [
    "# write code to Save the combined csv file (combined_csv_v1.csv) to your local computer\n",
    "# note this combined file will be used in part B"
   ]
  },
  {
   "cell_type": "markdown",
   "metadata": {},
   "source": [
    "# Step 3: Model training and evaluation\n",
    "\n",
    "1. Split the data into `train_data`, and `test_data` using `sklearn.model_selection.train_test_split`.  \n",
    "2. Build a logistic regression model for the data, where training data is 80%, and test data is 20%.\n",
    "\n",
    "Use the following cells to complete these steps. Insert and delete cells where needed.\n"
   ]
  },
  {
   "cell_type": "markdown",
   "metadata": {},
   "source": [
    "### Train test split"
   ]
  },
  {
   "cell_type": "code",
   "execution_count": null,
   "metadata": {},
   "outputs": [],
   "source": [
    "# write Code here to split data into train, validate and test"
   ]
  },
  {
   "cell_type": "markdown",
   "metadata": {},
   "source": [
    "### Baseline classification model"
   ]
  },
  {
   "cell_type": "code",
   "execution_count": null,
   "metadata": {},
   "outputs": [],
   "source": [
    "# <write code here>"
   ]
  },
  {
   "cell_type": "markdown",
   "metadata": {},
   "source": [
    "## Model evaluation\n",
    "In this section, you'll evaluate your trained model on test data and report on the following metrics:\n",
    "* Confusion Matrix plot\n",
    "* Plot the ROC\n",
    "* Report statistics such as Accuracy, Percision, Recall, Sensitivity and Specificity"
   ]
  },
  {
   "cell_type": "markdown",
   "metadata": {},
   "source": [
    "To view a plot of the confusion matrix, and various scoring metrics, create a couple of functions:"
   ]
  },
  {
   "cell_type": "code",
   "execution_count": null,
   "metadata": {},
   "outputs": [],
   "source": [
    "from sklearn.metrics import confusion_matrix\n",
    "\n",
    "def plot_confusion_matrix(test_labels, target_predicted):\n",
    "    # complete the code here\n",
    "    "
   ]
  },
  {
   "cell_type": "code",
   "execution_count": null,
   "metadata": {},
   "outputs": [],
   "source": [
    "from sklearn import metrics\n",
    "\n",
    "def plot_roc(test_labels, target_predicted):\n",
    "    # complete the code here"
   ]
  },
  {
   "cell_type": "markdown",
   "metadata": {},
   "source": [
    "To plot the confusion matrix, call the `plot_confusion_matrix` function on the `test_labels` and `target_predicted` data from your batch job:"
   ]
  },
  {
   "cell_type": "code",
   "execution_count": null,
   "metadata": {},
   "outputs": [],
   "source": [
    "# Enter you code here"
   ]
  },
  {
   "cell_type": "markdown",
   "metadata": {},
   "source": [
    "To print statistics and plot an ROC curve, call the `plot_roc` function on the `test_labels` and `target_predicted` data from your batch job:"
   ]
  },
  {
   "cell_type": "code",
   "execution_count": null,
   "metadata": {},
   "outputs": [],
   "source": [
    "# Enter you code here"
   ]
  },
  {
   "cell_type": "markdown",
   "metadata": {},
   "source": [
    "### Key questions to consider:\n",
    "1. How does your model's performance on the test set compare to the training set? What can you deduce from this comparison? \n",
    "\n",
    "2. Are there obvious differences between the outcomes of metrics like accuracy, precision, and recall? If so, why might you be seeing those differences? \n",
    "\n",
    "3. Is the outcome for the metric(s) you consider most important sufficient for what you need from a business standpoint? If not, what are some things you might change in your next iteration (in the feature engineering section, which is coming up next)? \n",
    "\n",
    "Use the cells below to answer these and other questions. Insert and delete cells where needed."
   ]
  },
  {
   "cell_type": "markdown",
   "metadata": {},
   "source": [
    "\n",
    "**Question**: What can you summarize from the confusion matrix?\n"
   ]
  },
  {
   "cell_type": "code",
   "execution_count": 9,
   "metadata": {},
   "outputs": [],
   "source": [
    "# Enter your answer here and turn the cell type into markdown"
   ]
  },
  {
   "cell_type": "markdown",
   "metadata": {},
   "source": [
    "# Step 4: Deployment\n",
    "\n",
    "1. In this step you are required to push your source code and requirements file to a GitLab repository without the data files. Please use the Git commands to complete this task\n",
    "2- Create a “readme.md” markdown file that describes the code of this repository and how to run it and what the user would expect if got the code running.\n",
    "\n",
    "In the cell below provide the link of the pushed repository on your GitLab account.\n"
   ]
  },
  {
   "cell_type": "code",
   "execution_count": 14,
   "metadata": {},
   "outputs": [],
   "source": [
    "### Provide a link for your Gitlab repository here"
   ]
  },
  {
   "cell_type": "markdown",
   "metadata": {},
   "source": [
    "# Iteration II"
   ]
  },
  {
   "cell_type": "markdown",
   "metadata": {},
   "source": [
    "# Step 5: Feature engineering\n",
    "\n",
    "You've now gone through one iteration of training and evaluating your model. Given that the outcome you reached for your model the first time probably wasn't sufficient for solving your business problem, what are some things you could change about your data to possibly improve model performance?\n",
    "\n",
    "### Key questions to consider:\n",
    "1. How might the balance of your two main classes (delay and no delay) impact model performance?\n",
    "2. Do you have any features that are correlated?\n",
    "3. Are there feature reduction techniques you could perform at this stage that might have a positive impact on model performance? \n",
    "4. Can you think of adding some more data/datasets?\n",
    "4. After performing some feature engineering, how does your model performance compare to the first iteration?\n",
    "\n",
    "Use the cells below to perform specific feature engineering techniques (per the questions above) that you think could improve your model performance. Insert and delete cells where needed.\n",
    "\n",
    "\n",
    "Before you start, think about why the precision and recall are around 80% while the accuracy is 99%."
   ]
  },
  {
   "cell_type": "markdown",
   "metadata": {},
   "source": [
    "#### Add more features\n",
    "\n",
    "1. Holidays\n",
    "2. Weather"
   ]
  },
  {
   "cell_type": "markdown",
   "metadata": {},
   "source": [
    "Because the list of holidays from 2014 to 2018 is known, you can create an indicator variable **is_holiday** to mark these.\n",
    "The hypothesis is that airplane delays could be higher during holidays compared to the rest of the days. Add a boolean variable `is_holiday` that includes the holidays for the years 2014-2018."
   ]
  },
  {
   "cell_type": "code",
   "execution_count": null,
   "metadata": {},
   "outputs": [],
   "source": [
    "# Source: http://www.calendarpedia.com/holidays/federal-holidays-2014.html\n",
    "\n",
    "holidays_14 = ['2014-01-01',  '2014-01-20', '2014-02-17', '2014-05-26', '2014-07-04', '2014-09-01', '2014-10-13', '2014-11-11', '2014-11-27', '2014-12-25' ] \n",
    "holidays_15 = ['2015-01-01',  '2015-01-19', '2015-02-16', '2015-05-25', '2015-06-03', '2015-07-04', '2015-09-07', '2015-10-12', '2015-11-11', '2015-11-26', '2015-12-25'] \n",
    "holidays_16 = ['2016-01-01',  '2016-01-18', '2016-02-15', '2016-05-30', '2016-07-04', '2016-09-05', '2016-10-10', '2016-11-11', '2016-11-24', '2016-12-25', '2016-12-26']\n",
    "holidays_17 = ['2017-01-02', '2017-01-16', '2017-02-20', '2017-05-29' , '2017-07-04', '2017-09-04' ,'2017-10-09', '2017-11-10', '2017-11-23', '2017-12-25']\n",
    "holidays_18 = ['2018-01-01', '2018-01-15', '2018-02-19', '2018-05-28' , '2018-07-04', '2018-09-03' ,'2018-10-08', '2018-11-12','2018-11-22', '2018-12-25']\n",
    "holidays = holidays_14+ holidays_15+ holidays_16 + holidays_17+ holidays_18\n",
    "\n",
    "### Add indicator variable for holidays\n",
    "data_orig['is_holiday'] = # Enter your code here "
   ]
  },
  {
   "cell_type": "markdown",
   "metadata": {},
   "source": [
    "Weather data was fetched from https://www.ncei.noaa.gov/access/services/data/v1?dataset=daily-summaries&stations=USW00023174,USW00012960,USW00003017,USW00094846,USW00013874,USW00023234,USW00003927,USW00023183,USW00013881&dataTypes=AWND,PRCP,SNOW,SNWD,TAVG,TMIN,TMAX&startDate=2014-01-01&endDate=2018-12-31.\n",
    "<br>\n",
    "\n",
    "This dataset has information on wind speed, precipitation, snow, and temperature for cities by their airport codes.\n",
    "\n",
    "**Question**: Could bad weather due to rains, heavy winds, or snow lead to airplane delay? Let's check!"
   ]
  },
  {
   "cell_type": "code",
   "execution_count": 15,
   "metadata": {
    "scrolled": true
   },
   "outputs": [],
   "source": [
    "# download data from the link above and place it into the data folder"
   ]
  },
  {
   "cell_type": "markdown",
   "metadata": {},
   "source": [
    "Import weather data prepared for the airport codes in our dataset. Use the stations and airports below for the analysis, and create a new column called `airport` that maps the weather station to the airport name."
   ]
  },
  {
   "cell_type": "code",
   "execution_count": null,
   "metadata": {},
   "outputs": [],
   "source": [
    "weather = pd.read_csv(<CODE>) # Enter your code here to read 'daily-summaries.csv' file\n",
    "station = ['USW00023174','USW00012960','USW00003017','USW00094846',\n",
    "           'USW00013874','USW00023234','USW00003927','USW00023183','USW00013881'] \n",
    "airports = ['LAX', 'IAH', 'DEN', 'ORD', 'ATL', 'SFO', 'DFW', 'PHX', 'CLT']\n",
    "\n",
    "### Map weather stations to airport code\n",
    "station_map = # Enter your code here \n",
    "weather['airport'] = # Enter your code here "
   ]
  },
  {
   "cell_type": "markdown",
   "metadata": {},
   "source": [
    "Create another column called `MONTH` from the `DATE` column."
   ]
  },
  {
   "cell_type": "code",
   "execution_count": null,
   "metadata": {
    "scrolled": true
   },
   "outputs": [],
   "source": [
    "weather['MONTH'] = weather[<CODE>].apply(lambda x: x.split('-')[1])# Enter your code here \n",
    "weather.head()"
   ]
  },
  {
   "cell_type": "markdown",
   "metadata": {},
   "source": [
    "### Sample output\n",
    "```\n",
    "  STATION     DATE      AWND PRCP SNOW SNWD TAVG TMAX  TMIN airport MONTH\n",
    "0 USW00023174 2014-01-01 16   0   NaN  NaN 131.0 178.0 78.0  LAX    01\n",
    "1 USW00023174 2014-01-02 22   0   NaN  NaN 159.0 256.0 100.0 LAX    01\n",
    "2 USW00023174 2014-01-03 17   0   NaN  NaN 140.0 178.0 83.0  LAX    01\n",
    "3 USW00023174 2014-01-04 18   0   NaN  NaN 136.0 183.0 100.0 LAX    01\n",
    "4 USW00023174 2014-01-05 18   0   NaN  NaN 151.0 244.0 83.0  LAX    01\n",
    "```"
   ]
  },
  {
   "cell_type": "markdown",
   "metadata": {},
   "source": [
    "Analyze and handle the `SNOW` and `SNWD` columns for missing values using `fillna()`. Use the `isna()` function to check the missing values for all the columns."
   ]
  },
  {
   "cell_type": "code",
   "execution_count": null,
   "metadata": {
    "scrolled": true
   },
   "outputs": [],
   "source": [
    "weather.SNOW.fillna(<CODE>, inplace=True)# Enter your code here\n",
    "weather.SNWD.fillna(<CODE>, inplace=True)# Enter your code here\n",
    "weather.isna().sum()"
   ]
  },
  {
   "cell_type": "markdown",
   "metadata": {},
   "source": [
    "**Question**: Print the index of the rows that have missing values for TAVG, TMAX, TMIN.\n",
    "\n",
    "**Hint**: Use the `isna()` function to find the rows that are missing, and then use the list on the idx variable to get the index."
   ]
  },
  {
   "cell_type": "code",
   "execution_count": null,
   "metadata": {},
   "outputs": [],
   "source": [
    "idx = np.array([i for i in range(len(weather))])\n",
    "TAVG_idx = # Enter your code here \n",
    "TMAX_idx = # Enter your code here \n",
    "TMIN_idx = # Enter your code here \n",
    "TAVG_idx"
   ]
  },
  {
   "cell_type": "markdown",
   "metadata": {},
   "source": [
    "### Sample output\n",
    "\n",
    "```\n",
    "array([ 3956,  3957,  3958,  3959,  3960,  3961,  3962,  3963,  3964,\n",
    "        3965,  3966,  3967,  3968,  3969,  3970,  3971,  3972,  3973,\n",
    "        3974,  3975,  3976,  3977,  3978,  3979,  3980,  3981,  3982,\n",
    "        3983,  3984,  3985,  4017,  4018,  4019,  4020,  4021,  4022,\n",
    "        4023,  4024,  4025,  4026,  4027,  4028,  4029,  4030,  4031,\n",
    "        4032,  4033,  4034,  4035,  4036,  4037,  4038,  4039,  4040,\n",
    "        4041,  4042,  4043,  4044,  4045,  4046,  4047, 13420])\n",
    "```"
   ]
  },
  {
   "cell_type": "markdown",
   "metadata": {},
   "source": [
    "You can replace the missing TAVG, TMAX, and TMIN with the average value for a particular station/airport. Because the consecutive rows of TAVG_idx are missing, replacing with a previous value would not be possible. Instead, replace it with the mean. Use the `groupby` function to aggregate the variables with a mean value."
   ]
  },
  {
   "cell_type": "code",
   "execution_count": null,
   "metadata": {},
   "outputs": [],
   "source": [
    "weather_impute = weather.groupby([<CODE>]).agg({'TAVG':'mean','TMAX':'mean', 'TMIN':'mean' }).reset_index()# Enter your code here\n",
    "weather_impute.head(2)"
   ]
  },
  {
   "cell_type": "markdown",
   "metadata": {},
   "source": [
    "Merge the mean data with the weather data."
   ]
  },
  {
   "cell_type": "code",
   "execution_count": null,
   "metadata": {},
   "outputs": [],
   "source": [
    "### get the yesterday's data\n",
    "weather = pd.merge(weather, weather_impute,  how='left', left_on=['MONTH','STATION'], right_on = ['MONTH','STATION'])\\\n",
    ".rename(columns = {'TAVG_y':'TAVG_AVG',\n",
    "                   'TMAX_y':'TMAX_AVG', \n",
    "                   'TMIN_y':'TMIN_AVG',\n",
    "                   'TAVG_x':'TAVG',\n",
    "                   'TMAX_x':'TMAX', \n",
    "                   'TMIN_x':'TMIN'})"
   ]
  },
  {
   "cell_type": "markdown",
   "metadata": {},
   "source": [
    "Check for missing values again."
   ]
  },
  {
   "cell_type": "code",
   "execution_count": null,
   "metadata": {},
   "outputs": [],
   "source": [
    "weather.TAVG[TAVG_idx] = weather.TAVG_AVG[TAVG_idx]\n",
    "weather.TMAX[TMAX_idx] = weather.TMAX_AVG[TMAX_idx]\n",
    "weather.TMIN[TMIN_idx] = weather.TMIN_AVG[TMIN_idx]\n",
    "weather.isna().sum()"
   ]
  },
  {
   "cell_type": "markdown",
   "metadata": {},
   "source": [
    "Drop `STATION,MONTH,TAVG_AVG,TMAX_AVG,TMIN_AVG,TMAX,TMIN,SNWD` from the dataset"
   ]
  },
  {
   "cell_type": "code",
   "execution_count": null,
   "metadata": {},
   "outputs": [],
   "source": [
    "weather.drop(columns=['STATION','MONTH','TAVG_AVG', 'TMAX_AVG', 'TMIN_AVG', 'TMAX' ,'TMIN', 'SNWD'],inplace=True)"
   ]
  },
  {
   "cell_type": "markdown",
   "metadata": {},
   "source": [
    "Add the origin and destination weather conditions to the dataset."
   ]
  },
  {
   "cell_type": "code",
   "execution_count": null,
   "metadata": {},
   "outputs": [],
   "source": [
    "### Add origin weather conditions\n",
    "data_orig = pd.merge(data_orig, weather,  how='left', left_on=['FlightDate','Origin'], right_on = ['DATE','airport'])\\\n",
    ".rename(columns = {'AWND':'AWND_O','PRCP':'PRCP_O', 'TAVG':'TAVG_O', 'SNOW': 'SNOW_O'})\\\n",
    ".drop(columns=['DATE','airport'])\n",
    "\n",
    "### Add destination weather conditions\n",
    "data_orig = pd.merge(data_orig, weather,  how='left', left_on=['FlightDate','Dest'], right_on = ['DATE','airport'])\\\n",
    ".rename(columns = {'AWND':'AWND_D','PRCP':'PRCP_D', 'TAVG':'TAVG_D', 'SNOW': 'SNOW_D'})\\\n",
    ".drop(columns=['DATE','airport'])"
   ]
  },
  {
   "cell_type": "markdown",
   "metadata": {},
   "source": [
    "**Note**: It is always a good practice to check nulls/NAs after joins."
   ]
  },
  {
   "cell_type": "code",
   "execution_count": null,
   "metadata": {},
   "outputs": [],
   "source": [
    "sum(data.isna().any())"
   ]
  },
  {
   "cell_type": "code",
   "execution_count": null,
   "metadata": {},
   "outputs": [],
   "source": [
    "data_orig.columns"
   ]
  },
  {
   "cell_type": "markdown",
   "metadata": {},
   "source": [
    "Convert the categorical data into numerical data using one-hot encoding."
   ]
  },
  {
   "cell_type": "code",
   "execution_count": null,
   "metadata": {},
   "outputs": [],
   "source": [
    "data = data_orig.copy()\n",
    "data = data[['is_delay', 'Year', 'Quarter', 'Month', 'DayofMonth', 'DayOfWeek', \n",
    "       'Reporting_Airline', 'Origin', 'Dest','Distance','DepHourofDay','is_holiday', 'AWND_O', 'PRCP_O',\n",
    "       'TAVG_O', 'AWND_D', 'PRCP_D', 'TAVG_D', 'SNOW_O', 'SNOW_D']]\n",
    "\n",
    "\n",
    "categorical_columns  = ['Year', 'Quarter', 'Month', 'DayofMonth', 'DayOfWeek', \n",
    "       'Reporting_Airline', 'Origin', 'Dest', 'is_holiday']\n",
    "for c in categorical_columns:\n",
    "    data[c] = data[c].astype('category')"
   ]
  },
  {
   "cell_type": "code",
   "execution_count": null,
   "metadata": {},
   "outputs": [],
   "source": [
    "data_dummies = # Enter your code here"
   ]
  },
  {
   "cell_type": "markdown",
   "metadata": {},
   "source": [
    "### Sample code\n",
    "\n",
    "```\n",
    "data_dummies = pd.get_dummies(data[['Year', 'Quarter', 'Month', 'DayofMonth', 'DayOfWeek', 'Reporting_Airline', 'Origin', 'Dest', 'is_holiday']], drop_first=True)\n",
    "data = pd.concat([data, data_dummies], axis = 1)\n",
    "categorical_columns.remove('is_delay')\n",
    "data.drop(categorical_columns,axis=1, inplace=True)\n",
    "```"
   ]
  },
  {
   "cell_type": "markdown",
   "metadata": {},
   "source": [
    "Check the new columns."
   ]
  },
  {
   "cell_type": "code",
   "execution_count": null,
   "metadata": {},
   "outputs": [],
   "source": [
    "data.columns"
   ]
  },
  {
   "cell_type": "markdown",
   "metadata": {},
   "source": [
    "### Sample output\n",
    "\n",
    "```\n",
    "Index(['Distance', 'DepHourofDay', 'is_delay', 'AWND_O', 'PRCP_O', 'TAVG_O',\n",
    "       'AWND_D', 'PRCP_D', 'TAVG_D', 'SNOW_O', 'SNOW_D', 'Year_2015',\n",
    "       'Year_2016', 'Year_2017', 'Year_2018', 'Quarter_2', 'Quarter_3',\n",
    "       'Quarter_4', 'Month_2', 'Month_3', 'Month_4', 'Month_5', 'Month_6',\n",
    "       'Month_7', 'Month_8', 'Month_9', 'Month_10', 'Month_11', 'Month_12',\n",
    "       'DayofMonth_2', 'DayofMonth_3', 'DayofMonth_4', 'DayofMonth_5',\n",
    "       'DayofMonth_6', 'DayofMonth_7', 'DayofMonth_8', 'DayofMonth_9',\n",
    "       'DayofMonth_10', 'DayofMonth_11', 'DayofMonth_12', 'DayofMonth_13',\n",
    "       'DayofMonth_14', 'DayofMonth_15', 'DayofMonth_16', 'DayofMonth_17',\n",
    "       'DayofMonth_18', 'DayofMonth_19', 'DayofMonth_20', 'DayofMonth_21',\n",
    "       'DayofMonth_22', 'DayofMonth_23', 'DayofMonth_24', 'DayofMonth_25',\n",
    "       'DayofMonth_26', 'DayofMonth_27', 'DayofMonth_28', 'DayofMonth_29',\n",
    "       'DayofMonth_30', 'DayofMonth_31', 'DayOfWeek_2', 'DayOfWeek_3',\n",
    "       'DayOfWeek_4', 'DayOfWeek_5', 'DayOfWeek_6', 'DayOfWeek_7',\n",
    "       'Reporting_Airline_DL', 'Reporting_Airline_OO', 'Reporting_Airline_UA',\n",
    "       'Reporting_Airline_WN', 'Origin_CLT', 'Origin_DEN', 'Origin_DFW',\n",
    "       'Origin_IAH', 'Origin_LAX', 'Origin_ORD', 'Origin_PHX', 'Origin_SFO',\n",
    "       'Dest_CLT', 'Dest_DEN', 'Dest_DFW', 'Dest_IAH', 'Dest_LAX', 'Dest_ORD',\n",
    "       'Dest_PHX', 'Dest_SFO', 'is_holiday_1'],\n",
    "      dtype='object')\n",
    "```"
   ]
  },
  {
   "cell_type": "markdown",
   "metadata": {},
   "source": [
    "Rename the `is_delay` column to `target` again. Use the same code as before."
   ]
  },
  {
   "cell_type": "code",
   "execution_count": null,
   "metadata": {},
   "outputs": [],
   "source": [
    "data.rename(columns = {<CODE>:<CODE>}, inplace=True )# Enter your code here"
   ]
  },
  {
   "cell_type": "code",
   "execution_count": 16,
   "metadata": {},
   "outputs": [],
   "source": [
    "# write code to Save the new combined csv file (combined_csv_v2.csv) to your local computer\n",
    "# note this combined file will be also used in part B"
   ]
  },
  {
   "cell_type": "markdown",
   "metadata": {},
   "source": [
    "Create the training and testing sets again."
   ]
  },
  {
   "cell_type": "code",
   "execution_count": null,
   "metadata": {},
   "outputs": [],
   "source": [
    "# Enter your code here"
   ]
  },
  {
   "cell_type": "markdown",
   "metadata": {},
   "source": [
    "### New baseline classifier\n",
    "\n",
    "Now, see if these new features add any predictive power to the model."
   ]
  },
  {
   "cell_type": "code",
   "execution_count": null,
   "metadata": {},
   "outputs": [],
   "source": [
    "# Instantiate another logistic regression model\n",
    "classifier2 = # Enter your code here"
   ]
  },
  {
   "cell_type": "code",
   "execution_count": null,
   "metadata": {},
   "outputs": [],
   "source": [
    "# Enter your code here"
   ]
  },
  {
   "cell_type": "markdown",
   "metadata": {},
   "source": [
    "Perform the evaluaion as you have done with the previous model and plot/show the same metrics"
   ]
  },
  {
   "cell_type": "markdown",
   "metadata": {},
   "source": [
    "Question: did you notice a difference by adding the extra data on the results?"
   ]
  },
  {
   "cell_type": "code",
   "execution_count": 17,
   "metadata": {},
   "outputs": [],
   "source": [
    "# Enter answer here and turn the cell type into markdown\n"
   ]
  },
  {
   "cell_type": "markdown",
   "metadata": {},
   "source": [
    "# Step 6: Using Tableau\n",
    "\n",
    "Use Tableau to load the combined_csv_v2.csv file and build a dashboard that show your understanding of the data and business problem. \n",
    "### what to do:\n",
    "1. Load the data into Tableau and build the dashboard\n",
    "2. Share the dashboard on your Tableau public account \n",
    "3. Copy the link of the shared dashboard below\n",
    "\n",
    "Note: The dashboard needs to be self explainable to others, so make it simple and add only the features that you feel heighlight the main question(s) of the prblem statement."
   ]
  },
  {
   "cell_type": "code",
   "execution_count": 19,
   "metadata": {},
   "outputs": [],
   "source": [
    "# copy the link here"
   ]
  },
  {
   "cell_type": "markdown",
   "metadata": {},
   "source": [
    "## Conclusion\n",
    "\n",
    "You've now gone through at least a couple iterations of training and evaluating your model. It's time to wrap up this project and reflect on what you've learned and what types of steps you might take moving forward (assuming you had more time). Use the cell below to answer some of these and other relevant questions:\n",
    "\n",
    "1. Does your model performance meet your business goal? If not, what are some things you'd like to do differently if you had more time for tuning?\n",
    "2. To what extent did your model improve as you made changes to your dataset? What types of techniques did you employ throughout this project that you felt yielded the greatest improvements in your model?\n",
    "3. What were some of the biggest challenges you encountered throughout this project?\n",
    "4. What were the three most important things you learned about machine learning while completing this project?"
   ]
  },
  {
   "cell_type": "code",
   "execution_count": 18,
   "metadata": {},
   "outputs": [],
   "source": [
    "# write your answers here"
   ]
  }
 ],
 "metadata": {
  "kernelspec": {
   "display_name": "Python 3",
   "language": "python",
   "name": "python3"
  },
  "language_info": {
   "codemirror_mode": {
    "name": "ipython",
    "version": 3
   },
   "file_extension": ".py",
   "mimetype": "text/x-python",
   "name": "python",
   "nbconvert_exporter": "python",
   "pygments_lexer": "ipython3",
   "version": "3.8.8"
  }
 },
 "nbformat": 4,
 "nbformat_minor": 4
}
