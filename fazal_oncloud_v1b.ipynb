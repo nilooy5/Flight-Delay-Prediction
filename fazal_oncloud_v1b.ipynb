{
 "cells": [
  {
   "cell_type": "code",
   "execution_count": 1,
   "id": "57a46611",
   "metadata": {},
   "outputs": [],
   "source": [
    "import pandas as pd\n",
    "import numpy as np"
   ]
  },
  {
   "cell_type": "code",
   "execution_count": 2,
   "id": "2ce59a13",
   "metadata": {},
   "outputs": [],
   "source": [
    "df = pd.read_csv(\"combined_csv_v1.csv\")"
   ]
  },
  {
   "cell_type": "code",
   "execution_count": 3,
   "id": "288d9393",
   "metadata": {},
   "outputs": [],
   "source": [
    "from sklearn.model_selection import train_test_split\n",
    "train, validation = train_test_split(df, test_size=0.3)\n",
    "validation, test = train_test_split(validation, test_size = 0.5)"
   ]
  },
  {
   "cell_type": "code",
   "execution_count": null,
   "id": "7607e9fb",
   "metadata": {},
   "outputs": [],
   "source": [
    "train.to_csv(\"train.csv\", index = False, header = False)\n",
    "validation.to_csv(\"validation.csv\", index = False, header = False)"
   ]
  },
  {
   "cell_type": "code",
   "execution_count": 10,
   "id": "084857b7",
   "metadata": {},
   "outputs": [],
   "source": [
    "test_X =  test.drop(\"target\", axis = 1)\n",
    "test_y = test[\"target\"]\n",
    "test_X.to_csv(\"test_X.csv\", index = False, header = False)"
   ]
  },
  {
   "cell_type": "code",
   "execution_count": 8,
   "id": "57eb5b03",
   "metadata": {},
   "outputs": [
    {
     "name": "stdout",
     "output_type": "stream",
     "text": [
      "sagemaker.config INFO - Not applying SDK defaults from location: /etc/xdg/sagemaker/config.yaml\n",
      "sagemaker.config INFO - Not applying SDK defaults from location: /home/ec2-user/.config/sagemaker/config.yaml\n",
      "sagemaker.config INFO - Not applying SDK defaults from location: /etc/xdg/sagemaker/config.yaml\n",
      "sagemaker.config INFO - Not applying SDK defaults from location: /home/ec2-user/.config/sagemaker/config.yaml\n"
     ]
    }
   ],
   "source": [
    "import sagemaker\n",
    "sess = sagemaker.Session()\n",
    "bucket = sess.default_bucket()"
   ]
  },
  {
   "cell_type": "code",
   "execution_count": 11,
   "id": "56470760",
   "metadata": {},
   "outputs": [],
   "source": [
    "prefix = \"flight_delay\"\n",
    "train_path = sess.upload_data(path=\"train.csv\", key_prefix=prefix + \"/part2/input/training\")\n",
    "valid_path = sess.upload_data(path=\"validation.csv\", key_prefix=prefix + \"/part2/input/validation\")\n",
    "test_X_path = sess.upload_data(path=\"test_X.csv\", key_prefix=prefix + \"/part2/input/test\")"
   ]
  },
  {
   "cell_type": "code",
   "execution_count": 12,
   "id": "a0055d15",
   "metadata": {},
   "outputs": [],
   "source": [
    "import boto3\n",
    "from sagemaker import image_uris\n",
    "region = boto3.Session().region_name\n",
    "container = image_uris.retrieve('xgboost', region,version='latest')"
   ]
  },
  {
   "cell_type": "code",
   "execution_count": 14,
   "id": "5df4b0a4",
   "metadata": {},
   "outputs": [
    {
     "name": "stdout",
     "output_type": "stream",
     "text": [
      "sagemaker.config INFO - Not applying SDK defaults from location: /etc/xdg/sagemaker/config.yaml\n",
      "sagemaker.config INFO - Not applying SDK defaults from location: /home/ec2-user/.config/sagemaker/config.yaml\n",
      "sagemaker.config INFO - Not applying SDK defaults from location: /etc/xdg/sagemaker/config.yaml\n",
      "sagemaker.config INFO - Not applying SDK defaults from location: /home/ec2-user/.config/sagemaker/config.yaml\n"
     ]
    }
   ],
   "source": [
    "from sagemaker.estimator import Estimator\n",
    "xgb_estimator = Estimator(container, role=sagemaker.get_execution_role(), instance_count=1, instance_type='ml.m5.large',\n",
    "                          output_path='s3://{}/{}/part2/output'.format(bucket,prefix))"
   ]
  },
  {
   "cell_type": "code",
   "execution_count": 21,
   "id": "2ddaed84",
   "metadata": {},
   "outputs": [],
   "source": [
    "xgb_estimator.set_hyperparameters(objective='binary:logistic', num_round=10)"
   ]
  },
  {
   "cell_type": "code",
   "execution_count": 22,
   "id": "3ce31548",
   "metadata": {},
   "outputs": [],
   "source": [
    "training_data_channel = sagemaker.TrainingInput(s3_data=train_path, content_type='text/csv')\n",
    "validation_data_channel = sagemaker.TrainingInput(s3_data=valid_path, content_type='text/csv')"
   ]
  },
  {
   "cell_type": "code",
   "execution_count": 23,
   "id": "6b654834",
   "metadata": {},
   "outputs": [
    {
     "name": "stderr",
     "output_type": "stream",
     "text": [
      "INFO:sagemaker:Creating training-job with name: xgboost-2023-11-02-17-12-04-300\n"
     ]
    },
    {
     "name": "stdout",
     "output_type": "stream",
     "text": [
      "2023-11-02 17:12:04 Starting - Starting the training job......\n",
      "2023-11-02 17:12:49 Starting - Preparing the instances for training......\n",
      "2023-11-02 17:13:55 Downloading - Downloading input data......\n",
      "2023-11-02 17:14:40 Training - Downloading the training image...\n",
      "2023-11-02 17:15:16 Training - Training image download completed. Training in progress.\u001b[34mArguments: train\u001b[0m\n",
      "\u001b[34m[2023-11-02:17:15:21:INFO] Running standalone xgboost training.\u001b[0m\n",
      "\u001b[34m[2023-11-02:17:15:21:INFO] File size need to be processed in the node: 257.72mb. Available memory size in the node: 348.14mb\u001b[0m\n",
      "\u001b[34m[2023-11-02:17:15:21:INFO] Determined delimiter of CSV input is ','\u001b[0m\n",
      "\u001b[34m[17:15:21] S3DistributionType set as FullyReplicated\u001b[0m\n",
      "\u001b[34m[17:15:24] 1144913x93 matrix with 106476909 entries loaded from /opt/ml/input/data/train?format=csv&label_column=0&delimiter=,\u001b[0m\n",
      "\u001b[34m[2023-11-02:17:15:24:INFO] Determined delimiter of CSV input is ','\u001b[0m\n",
      "\u001b[34m[17:15:24] S3DistributionType set as FullyReplicated\u001b[0m\n",
      "\u001b[34m[17:15:24] 245338x93 matrix with 22816434 entries loaded from /opt/ml/input/data/validation?format=csv&label_column=0&delimiter=,\u001b[0m\n",
      "\u001b[34m[17:15:32] src/tree/updater_prune.cc:74: tree pruning end, 1 roots, 114 extra nodes, 0 pruned nodes, max_depth=6\u001b[0m\n",
      "\u001b[34m[0]#011train-error:0.210058#011validation-error:0.209939\u001b[0m\n",
      "\u001b[34mMultiple eval metrics have been passed: 'validation-error' will be used for early stopping.\u001b[0m\n",
      "\u001b[34mWill train until validation-error hasn't improved in 10 rounds.\u001b[0m\n",
      "\u001b[34m[17:15:37] src/tree/updater_prune.cc:74: tree pruning end, 1 roots, 118 extra nodes, 0 pruned nodes, max_depth=6\u001b[0m\n",
      "\u001b[34m[1]#011train-error:0.21018#011validation-error:0.20989\u001b[0m\n",
      "\u001b[34m[17:15:40] src/tree/updater_prune.cc:74: tree pruning end, 1 roots, 126 extra nodes, 0 pruned nodes, max_depth=6\u001b[0m\n",
      "\u001b[34m[2]#011train-error:0.21018#011validation-error:0.20989\u001b[0m\n",
      "\u001b[34m[17:15:44] src/tree/updater_prune.cc:74: tree pruning end, 1 roots, 124 extra nodes, 0 pruned nodes, max_depth=6\u001b[0m\n",
      "\u001b[34m[3]#011train-error:0.21018#011validation-error:0.20989\u001b[0m\n",
      "\u001b[34m[17:15:47] src/tree/updater_prune.cc:74: tree pruning end, 1 roots, 126 extra nodes, 0 pruned nodes, max_depth=6\u001b[0m\n",
      "\u001b[34m[4]#011train-error:0.21018#011validation-error:0.20989\u001b[0m\n",
      "\u001b[34m[17:15:51] src/tree/updater_prune.cc:74: tree pruning end, 1 roots, 124 extra nodes, 0 pruned nodes, max_depth=6\u001b[0m\n",
      "\u001b[34m[5]#011train-error:0.210167#011validation-error:0.209878\u001b[0m\n",
      "\u001b[34m[17:15:55] src/tree/updater_prune.cc:74: tree pruning end, 1 roots, 120 extra nodes, 0 pruned nodes, max_depth=6\u001b[0m\n",
      "\u001b[34m[6]#011train-error:0.21011#011validation-error:0.209833\u001b[0m\n",
      "\u001b[34m[17:15:58] src/tree/updater_prune.cc:74: tree pruning end, 1 roots, 122 extra nodes, 0 pruned nodes, max_depth=6\u001b[0m\n",
      "\u001b[34m[7]#011train-error:0.210089#011validation-error:0.209813\u001b[0m\n",
      "\u001b[34m[17:16:02] src/tree/updater_prune.cc:74: tree pruning end, 1 roots, 124 extra nodes, 0 pruned nodes, max_depth=6\u001b[0m\n",
      "\u001b[34m[8]#011train-error:0.210092#011validation-error:0.209825\u001b[0m\n",
      "\u001b[34m[17:16:06] src/tree/updater_prune.cc:74: tree pruning end, 1 roots, 124 extra nodes, 0 pruned nodes, max_depth=6\u001b[0m\n",
      "\u001b[34m[9]#011train-error:0.210045#011validation-error:0.209727\u001b[0m\n",
      "\n",
      "2023-11-02 17:16:28 Uploading - Uploading generated training model\n",
      "2023-11-02 17:16:28 Completed - Training job completed\n",
      "Training seconds: 152\n",
      "Billable seconds: 152\n"
     ]
    }
   ],
   "source": [
    "xgb_estimator.fit({'train': training_data_channel,'validation': validation_data_channel})"
   ]
  },
  {
   "cell_type": "code",
   "execution_count": 24,
   "id": "755240f1",
   "metadata": {},
   "outputs": [
    {
     "name": "stderr",
     "output_type": "stream",
     "text": [
      "INFO:sagemaker:Creating model with name: xgboost-2023-11-02-17-19-41-958\n"
     ]
    }
   ],
   "source": [
    "xgb_transformer = xgb_estimator.transformer(\n",
    "    instance_count=1,\n",
    "    instance_type=\"ml.m4.xlarge\",\n",
    "    strategy=\"MultiRecord\",\n",
    "    assemble_with=\"Line\",\n",
    "    output_path=\"s3://{}/{}/part2/transformer/output\".format(bucket, prefix),\n",
    ")"
   ]
  },
  {
   "cell_type": "code",
   "execution_count": 25,
   "id": "9338a681",
   "metadata": {},
   "outputs": [
    {
     "name": "stderr",
     "output_type": "stream",
     "text": [
      "INFO:sagemaker:Creating transform job with name: xgboost-2023-11-02-17-20-33-930\n"
     ]
    },
    {
     "name": "stdout",
     "output_type": "stream",
     "text": [
      "................................\u001b[34mArguments: serve\u001b[0m\n",
      "\u001b[34m[2023-11-02 17:25:57 +0000] [1] [INFO] Starting gunicorn 19.9.0\u001b[0m\n",
      "\u001b[34m[2023-11-02 17:25:57 +0000] [1] [INFO] Listening at: http://0.0.0.0:8080 (1)\u001b[0m\n",
      "\u001b[34m[2023-11-02 17:25:57 +0000] [1] [INFO] Using worker: gevent\u001b[0m\n",
      "\u001b[34m[2023-11-02 17:25:57 +0000] [21] [INFO] Booting worker with pid: 21\u001b[0m\n",
      "\u001b[34m[2023-11-02 17:25:57 +0000] [22] [INFO] Booting worker with pid: 22\u001b[0m\n",
      "\u001b[34m[2023-11-02 17:25:57 +0000] [23] [INFO] Booting worker with pid: 23\u001b[0m\n",
      "\u001b[34m/opt/amazon/lib/python3.7/site-packages/gunicorn/workers/ggevent.py:65: MonkeyPatchWarning: Monkey-patching ssl after ssl has already been imported may lead to errors, including RecursionError on Python 3.6. It may also silently lead to incorrect behaviour on Python 3.7. Please monkey-patch earlier. See https://github.com/gevent/gevent/issues/1016. Modules that had direct imports (NOT patched): ['urllib3.util (/opt/amazon/lib/python3.7/site-packages/urllib3/util/__init__.py)', 'urllib3.util.ssl_ (/opt/amazon/lib/python3.7/site-packages/urllib3/util/ssl_.py)']. \n",
      "  monkey.patch_all(subprocess=True)\u001b[0m\n",
      "\u001b[34m[2023-11-02:17:25:57:INFO] Model loaded successfully for worker : 21\u001b[0m\n",
      "\u001b[34m/opt/amazon/lib/python3.7/site-packages/gunicorn/workers/ggevent.py:65: MonkeyPatchWarning: Monkey-patching ssl after ssl has already been imported may lead to errors, including RecursionError on Python 3.6. It may also silently lead to incorrect behaviour on Python 3.7. Please monkey-patch earlier. See https://github.com/gevent/gevent/issues/1016. Modules that had direct imports (NOT patched): ['urllib3.util (/opt/amazon/lib/python3.7/site-packages/urllib3/util/__init__.py)', 'urllib3.util.ssl_ (/opt/amazon/lib/python3.7/site-packages/urllib3/util/ssl_.py)']. \n",
      "  monkey.patch_all(subprocess=True)\u001b[0m\n",
      "\u001b[34m[2023-11-02:17:25:57:INFO] Model loaded successfully for worker : 22\u001b[0m\n",
      "\u001b[34m/opt/amazon/lib/python3.7/site-packages/gunicorn/workers/ggevent.py:65: MonkeyPatchWarning: Monkey-patching ssl after ssl has already been imported may lead to errors, including RecursionError on Python 3.6. It may also silently lead to incorrect behaviour on Python 3.7. Please monkey-patch earlier. See https://github.com/gevent/gevent/issues/1016. Modules that had direct imports (NOT patched): ['urllib3.util (/opt/amazon/lib/python3.7/site-packages/urllib3/util/__init__.py)', 'urllib3.util.ssl_ (/opt/amazon/lib/python3.7/site-packages/urllib3/util/ssl_.py)']. \n",
      "  monkey.patch_all(subprocess=True)\u001b[0m\n",
      "\u001b[34m[2023-11-02:17:25:57:INFO] Model loaded successfully for worker : 23\u001b[0m\n",
      "\u001b[34m[2023-11-02 17:25:57 +0000] [24] [INFO] Booting worker with pid: 24\u001b[0m\n",
      "\u001b[34m/opt/amazon/lib/python3.7/site-packages/gunicorn/workers/ggevent.py:65: MonkeyPatchWarning: Monkey-patching ssl after ssl has already been imported may lead to errors, including RecursionError on Python 3.6. It may also silently lead to incorrect behaviour on Python 3.7. Please monkey-patch earlier. See https://github.com/gevent/gevent/issues/1016. Modules that had direct imports (NOT patched): ['urllib3.util (/opt/amazon/lib/python3.7/site-packages/urllib3/util/__init__.py)', 'urllib3.util.ssl_ (/opt/amazon/lib/python3.7/site-packages/urllib3/util/ssl_.py)']. \n",
      "  monkey.patch_all(subprocess=True)\u001b[0m\n",
      "\u001b[34m[2023-11-02:17:25:57:INFO] Model loaded successfully for worker : 24\u001b[0m\n",
      "\u001b[34m[2023-11-02:17:26:02:INFO] Sniff delimiter as ','\u001b[0m\n",
      "\u001b[34m[2023-11-02:17:26:02:INFO] Determined delimiter of CSV input is ','\u001b[0m\n",
      "\u001b[34m[2023-11-02:17:26:02:INFO] Sniff delimiter as ','\u001b[0m\n",
      "\u001b[34m[2023-11-02:17:26:02:INFO] Determined delimiter of CSV input is ','\u001b[0m\n",
      "\u001b[34m[2023-11-02:17:26:02:INFO] Sniff delimiter as ','\u001b[0m\n",
      "\u001b[34m[2023-11-02:17:26:02:INFO] Determined delimiter of CSV input is ','\u001b[0m\n",
      "\u001b[34m[2023-11-02:17:26:02:INFO] Sniff delimiter as ','\u001b[0m\n",
      "\u001b[34m[2023-11-02:17:26:02:INFO] Determined delimiter of CSV input is ','\u001b[0m\n",
      "\n",
      "\u001b[32m2023-11-02T17:26:00.878:[sagemaker logs]: MaxConcurrentTransforms=4, MaxPayloadInMB=6, BatchStrategy=MULTI_RECORD\u001b[0m\n",
      "\u001b[34m[2023-11-02:17:26:06:INFO] Sniff delimiter as ','\u001b[0m\n",
      "\u001b[34m[2023-11-02:17:26:06:INFO] Determined delimiter of CSV input is ','\u001b[0m\n",
      "\u001b[34m[2023-11-02:17:26:06:INFO] Sniff delimiter as ','\u001b[0m\n",
      "\u001b[34m[2023-11-02:17:26:06:INFO] Determined delimiter of CSV input is ','\u001b[0m\n",
      "\u001b[35m[2023-11-02:17:26:06:INFO] Sniff delimiter as ','\u001b[0m\n",
      "\u001b[35m[2023-11-02:17:26:06:INFO] Determined delimiter of CSV input is ','\u001b[0m\n",
      "\u001b[35m[2023-11-02:17:26:06:INFO] Sniff delimiter as ','\u001b[0m\n",
      "\u001b[35m[2023-11-02:17:26:06:INFO] Determined delimiter of CSV input is ','\u001b[0m\n",
      "\u001b[34m[2023-11-02:17:26:06:INFO] Sniff delimiter as ','\u001b[0m\n",
      "\u001b[34m[2023-11-02:17:26:06:INFO] Determined delimiter of CSV input is ','\u001b[0m\n",
      "\u001b[35m[2023-11-02:17:26:06:INFO] Sniff delimiter as ','\u001b[0m\n",
      "\u001b[35m[2023-11-02:17:26:06:INFO] Determined delimiter of CSV input is ','\u001b[0m\n",
      "\u001b[34m[2023-11-02:17:26:06:INFO] Sniff delimiter as ','\u001b[0m\n",
      "\u001b[34m[2023-11-02:17:26:06:INFO] Determined delimiter of CSV input is ','\u001b[0m\n",
      "\u001b[35m[2023-11-02:17:26:06:INFO] Sniff delimiter as ','\u001b[0m\n",
      "\u001b[35m[2023-11-02:17:26:06:INFO] Determined delimiter of CSV input is ','\u001b[0m\n",
      "\u001b[34mArguments: serve\u001b[0m\n",
      "\u001b[34m[2023-11-02 17:25:57 +0000] [1] [INFO] Starting gunicorn 19.9.0\u001b[0m\n",
      "\u001b[34m[2023-11-02 17:25:57 +0000] [1] [INFO] Listening at: http://0.0.0.0:8080 (1)\u001b[0m\n",
      "\u001b[34m[2023-11-02 17:25:57 +0000] [1] [INFO] Using worker: gevent\u001b[0m\n",
      "\u001b[35mArguments: serve\u001b[0m\n",
      "\u001b[35m[2023-11-02 17:25:57 +0000] [1] [INFO] Starting gunicorn 19.9.0\u001b[0m\n",
      "\u001b[35m[2023-11-02 17:25:57 +0000] [1] [INFO] Listening at: http://0.0.0.0:8080 (1)\u001b[0m\n",
      "\u001b[35m[2023-11-02 17:25:57 +0000] [1] [INFO] Using worker: gevent\u001b[0m\n",
      "\u001b[34m[2023-11-02 17:25:57 +0000] [21] [INFO] Booting worker with pid: 21\u001b[0m\n",
      "\u001b[34m[2023-11-02 17:25:57 +0000] [22] [INFO] Booting worker with pid: 22\u001b[0m\n",
      "\u001b[34m[2023-11-02 17:25:57 +0000] [23] [INFO] Booting worker with pid: 23\u001b[0m\n",
      "\u001b[34m/opt/amazon/lib/python3.7/site-packages/gunicorn/workers/ggevent.py:65: MonkeyPatchWarning: Monkey-patching ssl after ssl has already been imported may lead to errors, including RecursionError on Python 3.6. It may also silently lead to incorrect behaviour on Python 3.7. Please monkey-patch earlier. See https://github.com/gevent/gevent/issues/1016. Modules that had direct imports (NOT patched): ['urllib3.util (/opt/amazon/lib/python3.7/site-packages/urllib3/util/__init__.py)', 'urllib3.util.ssl_ (/opt/amazon/lib/python3.7/site-packages/urllib3/util/ssl_.py)']. \n",
      "  monkey.patch_all(subprocess=True)\u001b[0m\n",
      "\u001b[34m[2023-11-02:17:25:57:INFO] Model loaded successfully for worker : 21\u001b[0m\n",
      "\u001b[34m/opt/amazon/lib/python3.7/site-packages/gunicorn/workers/ggevent.py:65: MonkeyPatchWarning: Monkey-patching ssl after ssl has already been imported may lead to errors, including RecursionError on Python 3.6. It may also silently lead to incorrect behaviour on Python 3.7. Please monkey-patch earlier. See https://github.com/gevent/gevent/issues/1016. Modules that had direct imports (NOT patched): ['urllib3.util (/opt/amazon/lib/python3.7/site-packages/urllib3/util/__init__.py)', 'urllib3.util.ssl_ (/opt/amazon/lib/python3.7/site-packages/urllib3/util/ssl_.py)']. \n",
      "  monkey.patch_all(subprocess=True)\u001b[0m\n",
      "\u001b[34m[2023-11-02:17:25:57:INFO] Model loaded successfully for worker : 22\u001b[0m\n",
      "\u001b[34m/opt/amazon/lib/python3.7/site-packages/gunicorn/workers/ggevent.py:65: MonkeyPatchWarning: Monkey-patching ssl after ssl has already been imported may lead to errors, including RecursionError on Python 3.6. It may also silently lead to incorrect behaviour on Python 3.7. Please monkey-patch earlier. See https://github.com/gevent/gevent/issues/1016. Modules that had direct imports (NOT patched): ['urllib3.util (/opt/amazon/lib/python3.7/site-packages/urllib3/util/__init__.py)', 'urllib3.util.ssl_ (/opt/amazon/lib/python3.7/site-packages/urllib3/util/ssl_.py)']. \n",
      "  monkey.patch_all(subprocess=True)\u001b[0m\n",
      "\u001b[34m[2023-11-02:17:25:57:INFO] Model loaded successfully for worker : 23\u001b[0m\n",
      "\u001b[34m[2023-11-02 17:25:57 +0000] [24] [INFO] Booting worker with pid: 24\u001b[0m\n",
      "\u001b[34m/opt/amazon/lib/python3.7/site-packages/gunicorn/workers/ggevent.py:65: MonkeyPatchWarning: Monkey-patching ssl after ssl has already been imported may lead to errors, including RecursionError on Python 3.6. It may also silently lead to incorrect behaviour on Python 3.7. Please monkey-patch earlier. See https://github.com/gevent/gevent/issues/1016. Modules that had direct imports (NOT patched): ['urllib3.util (/opt/amazon/lib/python3.7/site-packages/urllib3/util/__init__.py)', 'urllib3.util.ssl_ (/opt/amazon/lib/python3.7/site-packages/urllib3/util/ssl_.py)']. \n",
      "  monkey.patch_all(subprocess=True)\u001b[0m\n",
      "\u001b[34m[2023-11-02:17:25:57:INFO] Model loaded successfully for worker : 24\u001b[0m\n",
      "\u001b[35m[2023-11-02 17:25:57 +0000] [21] [INFO] Booting worker with pid: 21\u001b[0m\n",
      "\u001b[35m[2023-11-02 17:25:57 +0000] [22] [INFO] Booting worker with pid: 22\u001b[0m\n",
      "\u001b[35m[2023-11-02 17:25:57 +0000] [23] [INFO] Booting worker with pid: 23\u001b[0m\n",
      "\u001b[35m/opt/amazon/lib/python3.7/site-packages/gunicorn/workers/ggevent.py:65: MonkeyPatchWarning: Monkey-patching ssl after ssl has already been imported may lead to errors, including RecursionError on Python 3.6. It may also silently lead to incorrect behaviour on Python 3.7. Please monkey-patch earlier. See https://github.com/gevent/gevent/issues/1016. Modules that had direct imports (NOT patched): ['urllib3.util (/opt/amazon/lib/python3.7/site-packages/urllib3/util/__init__.py)', 'urllib3.util.ssl_ (/opt/amazon/lib/python3.7/site-packages/urllib3/util/ssl_.py)']. \n",
      "  monkey.patch_all(subprocess=True)\u001b[0m\n",
      "\u001b[35m[2023-11-02:17:25:57:INFO] Model loaded successfully for worker : 21\u001b[0m\n",
      "\u001b[35m/opt/amazon/lib/python3.7/site-packages/gunicorn/workers/ggevent.py:65: MonkeyPatchWarning: Monkey-patching ssl after ssl has already been imported may lead to errors, including RecursionError on Python 3.6. It may also silently lead to incorrect behaviour on Python 3.7. Please monkey-patch earlier. See https://github.com/gevent/gevent/issues/1016. Modules that had direct imports (NOT patched): ['urllib3.util (/opt/amazon/lib/python3.7/site-packages/urllib3/util/__init__.py)', 'urllib3.util.ssl_ (/opt/amazon/lib/python3.7/site-packages/urllib3/util/ssl_.py)']. \n",
      "  monkey.patch_all(subprocess=True)\u001b[0m\n",
      "\u001b[35m[2023-11-02:17:25:57:INFO] Model loaded successfully for worker : 22\u001b[0m\n",
      "\u001b[35m/opt/amazon/lib/python3.7/site-packages/gunicorn/workers/ggevent.py:65: MonkeyPatchWarning: Monkey-patching ssl after ssl has already been imported may lead to errors, including RecursionError on Python 3.6. It may also silently lead to incorrect behaviour on Python 3.7. Please monkey-patch earlier. See https://github.com/gevent/gevent/issues/1016. Modules that had direct imports (NOT patched): ['urllib3.util (/opt/amazon/lib/python3.7/site-packages/urllib3/util/__init__.py)', 'urllib3.util.ssl_ (/opt/amazon/lib/python3.7/site-packages/urllib3/util/ssl_.py)']. \n",
      "  monkey.patch_all(subprocess=True)\u001b[0m\n",
      "\u001b[35m[2023-11-02:17:25:57:INFO] Model loaded successfully for worker : 23\u001b[0m\n",
      "\u001b[35m[2023-11-02 17:25:57 +0000] [24] [INFO] Booting worker with pid: 24\u001b[0m\n",
      "\u001b[35m/opt/amazon/lib/python3.7/site-packages/gunicorn/workers/ggevent.py:65: MonkeyPatchWarning: Monkey-patching ssl after ssl has already been imported may lead to errors, including RecursionError on Python 3.6. It may also silently lead to incorrect behaviour on Python 3.7. Please monkey-patch earlier. See https://github.com/gevent/gevent/issues/1016. Modules that had direct imports (NOT patched): ['urllib3.util (/opt/amazon/lib/python3.7/site-packages/urllib3/util/__init__.py)', 'urllib3.util.ssl_ (/opt/amazon/lib/python3.7/site-packages/urllib3/util/ssl_.py)']. \n",
      "  monkey.patch_all(subprocess=True)\u001b[0m\n",
      "\u001b[35m[2023-11-02:17:25:57:INFO] Model loaded successfully for worker : 24\u001b[0m\n",
      "\u001b[34m[2023-11-02:17:26:02:INFO] Sniff delimiter as ','\u001b[0m\n",
      "\u001b[34m[2023-11-02:17:26:02:INFO] Determined delimiter of CSV input is ','\u001b[0m\n",
      "\u001b[34m[2023-11-02:17:26:02:INFO] Sniff delimiter as ','\u001b[0m\n",
      "\u001b[34m[2023-11-02:17:26:02:INFO] Determined delimiter of CSV input is ','\u001b[0m\n",
      "\u001b[34m[2023-11-02:17:26:02:INFO] Sniff delimiter as ','\u001b[0m\n",
      "\u001b[34m[2023-11-02:17:26:02:INFO] Determined delimiter of CSV input is ','\u001b[0m\n",
      "\u001b[34m[2023-11-02:17:26:02:INFO] Sniff delimiter as ','\u001b[0m\n",
      "\u001b[34m[2023-11-02:17:26:02:INFO] Determined delimiter of CSV input is ','\u001b[0m\n",
      "\u001b[35m[2023-11-02:17:26:02:INFO] Sniff delimiter as ','\u001b[0m\n",
      "\u001b[35m[2023-11-02:17:26:02:INFO] Determined delimiter of CSV input is ','\u001b[0m\n",
      "\u001b[35m[2023-11-02:17:26:02:INFO] Sniff delimiter as ','\u001b[0m\n",
      "\u001b[35m[2023-11-02:17:26:02:INFO] Determined delimiter of CSV input is ','\u001b[0m\n",
      "\u001b[35m[2023-11-02:17:26:02:INFO] Sniff delimiter as ','\u001b[0m\n",
      "\u001b[35m[2023-11-02:17:26:02:INFO] Determined delimiter of CSV input is ','\u001b[0m\n",
      "\u001b[35m[2023-11-02:17:26:02:INFO] Sniff delimiter as ','\u001b[0m\n",
      "\u001b[35m[2023-11-02:17:26:02:INFO] Determined delimiter of CSV input is ','\u001b[0m\n",
      "\u001b[32m2023-11-02T17:26:00.878:[sagemaker logs]: MaxConcurrentTransforms=4, MaxPayloadInMB=6, BatchStrategy=MULTI_RECORD\u001b[0m\n",
      "\u001b[34m[2023-11-02:17:26:06:INFO] Sniff delimiter as ','\u001b[0m\n",
      "\u001b[34m[2023-11-02:17:26:06:INFO] Determined delimiter of CSV input is ','\u001b[0m\n",
      "\u001b[34m[2023-11-02:17:26:06:INFO] Sniff delimiter as ','\u001b[0m\n",
      "\u001b[34m[2023-11-02:17:26:06:INFO] Determined delimiter of CSV input is ','\u001b[0m\n",
      "\u001b[35m[2023-11-02:17:26:06:INFO] Sniff delimiter as ','\u001b[0m\n",
      "\u001b[35m[2023-11-02:17:26:06:INFO] Determined delimiter of CSV input is ','\u001b[0m\n",
      "\u001b[35m[2023-11-02:17:26:06:INFO] Sniff delimiter as ','\u001b[0m\n",
      "\u001b[35m[2023-11-02:17:26:06:INFO] Determined delimiter of CSV input is ','\u001b[0m\n",
      "\u001b[34m[2023-11-02:17:26:06:INFO] Sniff delimiter as ','\u001b[0m\n",
      "\u001b[34m[2023-11-02:17:26:06:INFO] Determined delimiter of CSV input is ','\u001b[0m\n",
      "\u001b[35m[2023-11-02:17:26:06:INFO] Sniff delimiter as ','\u001b[0m\n",
      "\u001b[35m[2023-11-02:17:26:06:INFO] Determined delimiter of CSV input is ','\u001b[0m\n",
      "\u001b[34m[2023-11-02:17:26:06:INFO] Sniff delimiter as ','\u001b[0m\n",
      "\u001b[34m[2023-11-02:17:26:06:INFO] Determined delimiter of CSV input is ','\u001b[0m\n",
      "\u001b[35m[2023-11-02:17:26:06:INFO] Sniff delimiter as ','\u001b[0m\n",
      "\u001b[35m[2023-11-02:17:26:06:INFO] Determined delimiter of CSV input is ','\u001b[0m\n"
     ]
    }
   ],
   "source": [
    "xgb_transformer.transform(test_X_path, content_type=\"text/csv\", split_type=\"Line\")\n",
    "xgb_transformer.wait()"
   ]
  },
  {
   "cell_type": "code",
   "execution_count": 27,
   "id": "b23c8727",
   "metadata": {},
   "outputs": [],
   "source": [
    "import io\n",
    "y_file = boto3.client(\"s3\").get_object(Bucket = bucket, Key = f\"{prefix}/part2/transformer/output/test_X.csv.out\")\n",
    "y_pred = pd.read_csv(io.BytesIO(y_file[\"Body\"].read()), header = None, names = [\"Predicted\"])"
   ]
  },
  {
   "cell_type": "code",
   "execution_count": 28,
   "id": "bc038631",
   "metadata": {},
   "outputs": [
    {
     "data": {
      "text/html": [
       "<div>\n",
       "<style scoped>\n",
       "    .dataframe tbody tr th:only-of-type {\n",
       "        vertical-align: middle;\n",
       "    }\n",
       "\n",
       "    .dataframe tbody tr th {\n",
       "        vertical-align: top;\n",
       "    }\n",
       "\n",
       "    .dataframe thead th {\n",
       "        text-align: right;\n",
       "    }\n",
       "</style>\n",
       "<table border=\"1\" class=\"dataframe\">\n",
       "  <thead>\n",
       "    <tr style=\"text-align: right;\">\n",
       "      <th></th>\n",
       "      <th>Predicted</th>\n",
       "    </tr>\n",
       "  </thead>\n",
       "  <tbody>\n",
       "    <tr>\n",
       "      <th>0</th>\n",
       "      <td>0.128531</td>\n",
       "    </tr>\n",
       "    <tr>\n",
       "      <th>1</th>\n",
       "      <td>0.152312</td>\n",
       "    </tr>\n",
       "    <tr>\n",
       "      <th>2</th>\n",
       "      <td>0.179380</td>\n",
       "    </tr>\n",
       "    <tr>\n",
       "      <th>3</th>\n",
       "      <td>0.122546</td>\n",
       "    </tr>\n",
       "    <tr>\n",
       "      <th>4</th>\n",
       "      <td>0.342384</td>\n",
       "    </tr>\n",
       "    <tr>\n",
       "      <th>...</th>\n",
       "      <td>...</td>\n",
       "    </tr>\n",
       "    <tr>\n",
       "      <th>245334</th>\n",
       "      <td>0.229901</td>\n",
       "    </tr>\n",
       "    <tr>\n",
       "      <th>245335</th>\n",
       "      <td>0.087173</td>\n",
       "    </tr>\n",
       "    <tr>\n",
       "      <th>245336</th>\n",
       "      <td>0.320495</td>\n",
       "    </tr>\n",
       "    <tr>\n",
       "      <th>245337</th>\n",
       "      <td>0.229604</td>\n",
       "    </tr>\n",
       "    <tr>\n",
       "      <th>245338</th>\n",
       "      <td>0.170139</td>\n",
       "    </tr>\n",
       "  </tbody>\n",
       "</table>\n",
       "<p>245339 rows × 1 columns</p>\n",
       "</div>"
      ],
      "text/plain": [
       "        Predicted\n",
       "0        0.128531\n",
       "1        0.152312\n",
       "2        0.179380\n",
       "3        0.122546\n",
       "4        0.342384\n",
       "...           ...\n",
       "245334   0.229901\n",
       "245335   0.087173\n",
       "245336   0.320495\n",
       "245337   0.229604\n",
       "245338   0.170139\n",
       "\n",
       "[245339 rows x 1 columns]"
      ]
     },
     "execution_count": 28,
     "metadata": {},
     "output_type": "execute_result"
    }
   ],
   "source": [
    "y_pred"
   ]
  },
  {
   "cell_type": "code",
   "execution_count": 30,
   "id": "cdc68a13",
   "metadata": {},
   "outputs": [],
   "source": [
    "y_pred[\"actual\"] = y_pred[\"Predicted\"].apply(lambda x : 1 if x > 0.5 else 0)"
   ]
  },
  {
   "cell_type": "code",
   "execution_count": 31,
   "id": "77ff7e93",
   "metadata": {},
   "outputs": [
    {
     "data": {
      "text/html": [
       "<div>\n",
       "<style scoped>\n",
       "    .dataframe tbody tr th:only-of-type {\n",
       "        vertical-align: middle;\n",
       "    }\n",
       "\n",
       "    .dataframe tbody tr th {\n",
       "        vertical-align: top;\n",
       "    }\n",
       "\n",
       "    .dataframe thead th {\n",
       "        text-align: right;\n",
       "    }\n",
       "</style>\n",
       "<table border=\"1\" class=\"dataframe\">\n",
       "  <thead>\n",
       "    <tr style=\"text-align: right;\">\n",
       "      <th></th>\n",
       "      <th>Predicted</th>\n",
       "      <th>actual</th>\n",
       "    </tr>\n",
       "  </thead>\n",
       "  <tbody>\n",
       "    <tr>\n",
       "      <th>0</th>\n",
       "      <td>0.128531</td>\n",
       "      <td>0</td>\n",
       "    </tr>\n",
       "    <tr>\n",
       "      <th>1</th>\n",
       "      <td>0.152312</td>\n",
       "      <td>0</td>\n",
       "    </tr>\n",
       "    <tr>\n",
       "      <th>2</th>\n",
       "      <td>0.179380</td>\n",
       "      <td>0</td>\n",
       "    </tr>\n",
       "    <tr>\n",
       "      <th>3</th>\n",
       "      <td>0.122546</td>\n",
       "      <td>0</td>\n",
       "    </tr>\n",
       "    <tr>\n",
       "      <th>4</th>\n",
       "      <td>0.342384</td>\n",
       "      <td>0</td>\n",
       "    </tr>\n",
       "    <tr>\n",
       "      <th>...</th>\n",
       "      <td>...</td>\n",
       "      <td>...</td>\n",
       "    </tr>\n",
       "    <tr>\n",
       "      <th>245334</th>\n",
       "      <td>0.229901</td>\n",
       "      <td>0</td>\n",
       "    </tr>\n",
       "    <tr>\n",
       "      <th>245335</th>\n",
       "      <td>0.087173</td>\n",
       "      <td>0</td>\n",
       "    </tr>\n",
       "    <tr>\n",
       "      <th>245336</th>\n",
       "      <td>0.320495</td>\n",
       "      <td>0</td>\n",
       "    </tr>\n",
       "    <tr>\n",
       "      <th>245337</th>\n",
       "      <td>0.229604</td>\n",
       "      <td>0</td>\n",
       "    </tr>\n",
       "    <tr>\n",
       "      <th>245338</th>\n",
       "      <td>0.170139</td>\n",
       "      <td>0</td>\n",
       "    </tr>\n",
       "  </tbody>\n",
       "</table>\n",
       "<p>245339 rows × 2 columns</p>\n",
       "</div>"
      ],
      "text/plain": [
       "        Predicted  actual\n",
       "0        0.128531       0\n",
       "1        0.152312       0\n",
       "2        0.179380       0\n",
       "3        0.122546       0\n",
       "4        0.342384       0\n",
       "...           ...     ...\n",
       "245334   0.229901       0\n",
       "245335   0.087173       0\n",
       "245336   0.320495       0\n",
       "245337   0.229604       0\n",
       "245338   0.170139       0\n",
       "\n",
       "[245339 rows x 2 columns]"
      ]
     },
     "execution_count": 31,
     "metadata": {},
     "output_type": "execute_result"
    }
   ],
   "source": [
    "y_pred"
   ]
  },
  {
   "cell_type": "code",
   "execution_count": 32,
   "id": "cd88476b",
   "metadata": {},
   "outputs": [
    {
     "name": "stdout",
     "output_type": "stream",
     "text": [
      "Accuracy: 0.791260256216908\n"
     ]
    }
   ],
   "source": [
    "from sklearn.metrics import accuracy_score, recall_score, f1_score\n",
    "accuracy = accuracy_score(test_y, y_pred[\"actual\"])\n",
    "print(\"Accuracy:\", accuracy)"
   ]
  }
 ],
 "metadata": {
  "kernelspec": {
   "display_name": "conda_python3",
   "language": "python",
   "name": "conda_python3"
  },
  "language_info": {
   "codemirror_mode": {
    "name": "ipython",
    "version": 3
   },
   "file_extension": ".py",
   "mimetype": "text/x-python",
   "name": "python",
   "nbconvert_exporter": "python",
   "pygments_lexer": "ipython3",
   "version": "3.10.12"
  }
 },
 "nbformat": 4,
 "nbformat_minor": 5
}
