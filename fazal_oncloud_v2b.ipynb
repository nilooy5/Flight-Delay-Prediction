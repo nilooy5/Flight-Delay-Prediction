{
 "cells": [
  {
   "cell_type": "markdown",
   "id": "b916dcb7",
   "metadata": {},
   "source": [
    "# Part 2: combined_csv_v2.csv with xgboost\n",
    "Fazal Mahmud Niloy (u3228358)"
   ]
  },
  {
   "cell_type": "code",
   "execution_count": 1,
   "id": "278dccde",
   "metadata": {},
   "outputs": [],
   "source": [
    "import pandas as pd"
   ]
  },
  {
   "cell_type": "code",
   "execution_count": 18,
   "id": "4d0aa969",
   "metadata": {},
   "outputs": [
    {
     "data": {
      "text/html": [
       "<div>\n",
       "<style scoped>\n",
       "    .dataframe tbody tr th:only-of-type {\n",
       "        vertical-align: middle;\n",
       "    }\n",
       "\n",
       "    .dataframe tbody tr th {\n",
       "        vertical-align: top;\n",
       "    }\n",
       "\n",
       "    .dataframe thead th {\n",
       "        text-align: right;\n",
       "    }\n",
       "</style>\n",
       "<table border=\"1\" class=\"dataframe\">\n",
       "  <thead>\n",
       "    <tr style=\"text-align: right;\">\n",
       "      <th></th>\n",
       "      <th>target</th>\n",
       "      <th>Distance</th>\n",
       "      <th>DepHourofDay</th>\n",
       "      <th>AWND_O</th>\n",
       "      <th>PRCP_O</th>\n",
       "      <th>TAVG_O</th>\n",
       "      <th>AWND_D</th>\n",
       "      <th>PRCP_D</th>\n",
       "      <th>TAVG_D</th>\n",
       "      <th>SNOW_O</th>\n",
       "      <th>...</th>\n",
       "      <th>Origin_SFO</th>\n",
       "      <th>Dest_CLT</th>\n",
       "      <th>Dest_DEN</th>\n",
       "      <th>Dest_DFW</th>\n",
       "      <th>Dest_IAH</th>\n",
       "      <th>Dest_LAX</th>\n",
       "      <th>Dest_ORD</th>\n",
       "      <th>Dest_PHX</th>\n",
       "      <th>Dest_SFO</th>\n",
       "      <th>isHoliday_True</th>\n",
       "    </tr>\n",
       "  </thead>\n",
       "  <tbody>\n",
       "    <tr>\n",
       "      <th>0</th>\n",
       "      <td>0.0</td>\n",
       "      <td>689.0</td>\n",
       "      <td>21</td>\n",
       "      <td>33</td>\n",
       "      <td>0</td>\n",
       "      <td>54.0</td>\n",
       "      <td>30</td>\n",
       "      <td>0</td>\n",
       "      <td>130.0</td>\n",
       "      <td>0.0</td>\n",
       "      <td>...</td>\n",
       "      <td>0</td>\n",
       "      <td>0</td>\n",
       "      <td>0</td>\n",
       "      <td>0</td>\n",
       "      <td>1</td>\n",
       "      <td>0</td>\n",
       "      <td>0</td>\n",
       "      <td>0</td>\n",
       "      <td>0</td>\n",
       "      <td>0</td>\n",
       "    </tr>\n",
       "    <tr>\n",
       "      <th>1</th>\n",
       "      <td>0.0</td>\n",
       "      <td>731.0</td>\n",
       "      <td>9</td>\n",
       "      <td>39</td>\n",
       "      <td>0</td>\n",
       "      <td>136.0</td>\n",
       "      <td>33</td>\n",
       "      <td>0</td>\n",
       "      <td>54.0</td>\n",
       "      <td>0.0</td>\n",
       "      <td>...</td>\n",
       "      <td>0</td>\n",
       "      <td>0</td>\n",
       "      <td>0</td>\n",
       "      <td>0</td>\n",
       "      <td>0</td>\n",
       "      <td>0</td>\n",
       "      <td>0</td>\n",
       "      <td>0</td>\n",
       "      <td>0</td>\n",
       "      <td>0</td>\n",
       "    </tr>\n",
       "  </tbody>\n",
       "</table>\n",
       "<p>2 rows × 86 columns</p>\n",
       "</div>"
      ],
      "text/plain": [
       "   target  Distance  DepHourofDay  AWND_O  PRCP_O  TAVG_O  AWND_D  PRCP_D  \\\n",
       "0     0.0     689.0            21      33       0    54.0      30       0   \n",
       "1     0.0     731.0             9      39       0   136.0      33       0   \n",
       "\n",
       "   TAVG_D  SNOW_O  ...  Origin_SFO  Dest_CLT  Dest_DEN  Dest_DFW  Dest_IAH  \\\n",
       "0   130.0     0.0  ...           0         0         0         0         1   \n",
       "1    54.0     0.0  ...           0         0         0         0         0   \n",
       "\n",
       "   Dest_LAX  Dest_ORD  Dest_PHX  Dest_SFO  isHoliday_True  \n",
       "0         0         0         0         0               0  \n",
       "1         0         0         0         0               0  \n",
       "\n",
       "[2 rows x 86 columns]"
      ]
     },
     "execution_count": 18,
     "metadata": {},
     "output_type": "execute_result"
    }
   ],
   "source": [
    "df = pd.read_csv(\"combined_csv_v2.csv\")\n",
    "df = df.replace({True: 1, False: 0})\n",
    "df.head(2)"
   ]
  },
  {
   "cell_type": "markdown",
   "source": [
    "### Splitting the data into train, validation and test"
   ],
   "metadata": {
    "collapsed": false
   },
   "id": "94f334a9f620fdbc"
  },
  {
   "cell_type": "code",
   "execution_count": 19,
   "id": "2fa71314",
   "metadata": {},
   "outputs": [],
   "source": [
    "from sklearn.model_selection import train_test_split\n",
    "\n",
    "\n",
    "train, validation = train_test_split(df, test_size=0.3)\n",
    "validation, test = train_test_split(validation, test_size = 0.5)"
   ]
  },
  {
   "cell_type": "code",
   "execution_count": 20,
   "id": "6ccaf751",
   "metadata": {},
   "outputs": [],
   "source": [
    "train.to_csv(\"data/v2b/train.csv\", index = False, header = False)\n",
    "validation.to_csv(\"data/v2b/validation.csv\", index = False, header = False)"
   ]
  },
  {
   "cell_type": "code",
   "execution_count": 21,
   "id": "9c487dc8",
   "metadata": {},
   "outputs": [],
   "source": [
    "test_X =  test.drop(\"target\", axis = 1)\n",
    "test_y = test[\"target\"]\n",
    "test_X.to_csv(\"data/v2b/test_X.csv\", index = False, header = False)"
   ]
  },
  {
   "cell_type": "markdown",
   "source": [
    "### Starting sagemaker session, getting the default s3 bucket and region, getting the xgboost container"
   ],
   "metadata": {
    "collapsed": false
   },
   "id": "ac881c60175e244"
  },
  {
   "cell_type": "code",
   "execution_count": 22,
   "id": "19ffa2df",
   "metadata": {},
   "outputs": [
    {
     "name": "stdout",
     "output_type": "stream",
     "text": [
      "sagemaker.config INFO - Not applying SDK defaults from location: /etc/xdg/sagemaker/config.yaml\n",
      "sagemaker.config INFO - Not applying SDK defaults from location: /home/ec2-user/.config/sagemaker/config.yaml\n"
     ]
    }
   ],
   "source": [
    "import sagemaker\n",
    "import boto3\n",
    "from sagemaker import image_uris\n",
    "\n",
    "\n",
    "sess = sagemaker.Session()\n",
    "bucket = sess.default_bucket()\n",
    "\n",
    "\n",
    "region = boto3.Session().region_name\n",
    "container = image_uris.retrieve('xgboost', region,version='latest')"
   ]
  },
  {
   "cell_type": "markdown",
   "source": [
    "### Defining s3 bucket data paths"
   ],
   "metadata": {
    "collapsed": false
   },
   "id": "8aabfcf951ba7c63"
  },
  {
   "cell_type": "code",
   "execution_count": 23,
   "id": "8b6263c4",
   "metadata": {},
   "outputs": [],
   "source": [
    "prefix = \"flight_delay/v2b\"\n",
    "train_path = sess.upload_data(path=\"train.csv\", key_prefix=prefix + \"/input/training\")\n",
    "valid_path = sess.upload_data(path=\"validation.csv\", key_prefix=prefix + \"/input/validation\")\n",
    "test_X_path = sess.upload_data(path=\"test_X.csv\", key_prefix=prefix + \"/input/test\")"
   ]
  },
  {
   "cell_type": "markdown",
   "source": [
    "### Making an estimator and setting the hyperparameters"
   ],
   "metadata": {
    "collapsed": false
   },
   "id": "72346af8cef357cf"
  },
  {
   "cell_type": "code",
   "execution_count": 25,
   "id": "e9b82f0e",
   "metadata": {},
   "outputs": [
    {
     "name": "stdout",
     "output_type": "stream",
     "text": [
      "sagemaker.config INFO - Not applying SDK defaults from location: /etc/xdg/sagemaker/config.yaml\n",
      "sagemaker.config INFO - Not applying SDK defaults from location: /home/ec2-user/.config/sagemaker/config.yaml\n",
      "sagemaker.config INFO - Not applying SDK defaults from location: /etc/xdg/sagemaker/config.yaml\n",
      "sagemaker.config INFO - Not applying SDK defaults from location: /home/ec2-user/.config/sagemaker/config.yaml\n"
     ]
    }
   ],
   "source": [
    "from sagemaker.estimator import Estimator\n",
    "\n",
    "\n",
    "xgb_estimator = Estimator(container,\n",
    "                          role=sagemaker.get_execution_role(),\n",
    "                          instance_count=1,\n",
    "                          instance_type='ml.m5.large',\n",
    "                          output_path='s3://{}/{}/output'.format(bucket,prefix))"
   ]
  },
  {
   "cell_type": "code",
   "execution_count": 26,
   "id": "5d437a8f",
   "metadata": {},
   "outputs": [],
   "source": [
    "xgb_estimator.set_hyperparameters(objective='binary:logistic', num_round=15)"
   ]
  },
  {
   "cell_type": "code",
   "execution_count": 27,
   "id": "8ea304f0",
   "metadata": {},
   "outputs": [],
   "source": [
    "training_data_channel = sagemaker.TrainingInput(s3_data=train_path, content_type='text/csv')\n",
    "validation_data_channel = sagemaker.TrainingInput(s3_data=valid_path, content_type='text/csv')"
   ]
  },
  {
   "cell_type": "markdown",
   "source": [
    "### Fitting the model"
   ],
   "metadata": {
    "collapsed": false
   },
   "id": "2ca8232468a7c828"
  },
  {
   "cell_type": "code",
   "execution_count": 28,
   "id": "7f01027f",
   "metadata": {},
   "outputs": [
    {
     "name": "stderr",
     "output_type": "stream",
     "text": [
      "INFO:sagemaker:Creating training-job with name: xgboost-2023-11-02-20-04-04-584\n"
     ]
    },
    {
     "name": "stdout",
     "output_type": "stream",
     "text": [
      "2023-11-02 20:04:04 Starting - Starting the training job...\n",
      "2023-11-02 20:04:21 Starting - Preparing the instances for training......\n",
      "2023-11-02 20:05:24 Downloading - Downloading input data......\n",
      "2023-11-02 20:06:09 Training - Downloading the training image...\n",
      "2023-11-02 20:06:44 Training - Training image download completed. Training in progress.\u001B[34mArguments: train\u001B[0m\n",
      "\u001B[34m[2023-11-02:20:06:49:INFO] Running standalone xgboost training.\u001B[0m\n",
      "\u001B[34m[2023-11-02:20:06:49:INFO] File size need to be processed in the node: 256.38mb. Available memory size in the node: 348.35mb\u001B[0m\n",
      "\u001B[34m[2023-11-02:20:06:49:INFO] Determined delimiter of CSV input is ','\u001B[0m\n",
      "\u001B[34m[20:06:49] S3DistributionType set as FullyReplicated\u001B[0m\n",
      "\u001B[34m[20:06:52] 1144913x85 matrix with 97317605 entries loaded from /opt/ml/input/data/train?format=csv&label_column=0&delimiter=,\u001B[0m\n",
      "\u001B[34m[2023-11-02:20:06:52:INFO] Determined delimiter of CSV input is ','\u001B[0m\n",
      "\u001B[34m[20:06:52] S3DistributionType set as FullyReplicated\u001B[0m\n",
      "\u001B[34m[20:06:53] 245338x85 matrix with 20853730 entries loaded from /opt/ml/input/data/validation?format=csv&label_column=0&delimiter=,\u001B[0m\n",
      "\u001B[34m[20:07:00] src/tree/updater_prune.cc:74: tree pruning end, 1 roots, 126 extra nodes, 0 pruned nodes, max_depth=6\u001B[0m\n",
      "\u001B[34m[0]#011train-error:0.204408#011validation-error:0.205019\u001B[0m\n",
      "\u001B[34m[20:07:06] src/tree/updater_prune.cc:74: tree pruning end, 1 roots, 126 extra nodes, 0 pruned nodes, max_depth=6\u001B[0m\n",
      "\u001B[34m[1]#011train-error:0.203809#011validation-error:0.203841\u001B[0m\n",
      "\u001B[34m[20:07:10] src/tree/updater_prune.cc:74: tree pruning end, 1 roots, 126 extra nodes, 0 pruned nodes, max_depth=6\u001B[0m\n",
      "\u001B[34m[2]#011train-error:0.203684#011validation-error:0.204008\u001B[0m\n",
      "\u001B[34m[20:07:14] src/tree/updater_prune.cc:74: tree pruning end, 1 roots, 126 extra nodes, 0 pruned nodes, max_depth=6\u001B[0m\n",
      "\u001B[34m[3]#011train-error:0.203121#011validation-error:0.203519\u001B[0m\n",
      "\u001B[34m[20:07:17] src/tree/updater_prune.cc:74: tree pruning end, 1 roots, 126 extra nodes, 0 pruned nodes, max_depth=6\u001B[0m\n",
      "\u001B[34m[4]#011train-error:0.202922#011validation-error:0.203425\u001B[0m\n",
      "\u001B[34m[20:07:21] src/tree/updater_prune.cc:74: tree pruning end, 1 roots, 126 extra nodes, 0 pruned nodes, max_depth=6\u001B[0m\n",
      "\u001B[34m[5]#011train-error:0.202666#011validation-error:0.202916\u001B[0m\n",
      "\u001B[34m[20:07:24] src/tree/updater_prune.cc:74: tree pruning end, 1 roots, 126 extra nodes, 0 pruned nodes, max_depth=6\u001B[0m\n",
      "\u001B[34m[6]#011train-error:0.20264#011validation-error:0.203116\u001B[0m\n",
      "\u001B[34m[20:07:28] src/tree/updater_prune.cc:74: tree pruning end, 1 roots, 126 extra nodes, 0 pruned nodes, max_depth=6\u001B[0m\n",
      "\u001B[34m[7]#011train-error:0.202304#011validation-error:0.202892\u001B[0m\n",
      "\u001B[34m[20:07:32] src/tree/updater_prune.cc:74: tree pruning end, 1 roots, 114 extra nodes, 0 pruned nodes, max_depth=6\u001B[0m\n",
      "\u001B[34m[8]#011train-error:0.201905#011validation-error:0.202402\u001B[0m\n",
      "\u001B[34m[20:07:36] src/tree/updater_prune.cc:74: tree pruning end, 1 roots, 126 extra nodes, 0 pruned nodes, max_depth=6\u001B[0m\n",
      "\u001B[34m[9]#011train-error:0.20161#011validation-error:0.202162\u001B[0m\n",
      "\n",
      "2023-11-02 20:07:56 Uploading - Uploading generated training model\n",
      "2023-11-02 20:07:56 Completed - Training job completed\n",
      "Training seconds: 152\n",
      "Billable seconds: 152\n"
     ]
    }
   ],
   "source": [
    "xgb_estimator.fit({'train': training_data_channel,'validation': validation_data_channel})"
   ]
  },
  {
   "cell_type": "markdown",
   "source": [
    "## Deployment\n",
    "### Making a batch transformer and transforming the test data"
   ],
   "metadata": {
    "collapsed": false
   },
   "id": "4e8313e2c3447076"
  },
  {
   "cell_type": "code",
   "execution_count": 29,
   "id": "e2bc5ae9",
   "metadata": {},
   "outputs": [
    {
     "name": "stderr",
     "output_type": "stream",
     "text": [
      "INFO:sagemaker:Creating model with name: xgboost-2023-11-02-20-08-56-545\n"
     ]
    }
   ],
   "source": [
    "xgb_transformer = xgb_estimator.transformer(\n",
    "    instance_count=1,\n",
    "    instance_type=\"ml.m4.xlarge\",\n",
    "    strategy=\"MultiRecord\",\n",
    "    assemble_with=\"Line\",\n",
    "    output_path=f\"s3://{bucket}/{prefix}/batch_output\"\n",
    ")"
   ]
  },
  {
   "cell_type": "code",
   "execution_count": 30,
   "id": "2825d779",
   "metadata": {},
   "outputs": [
    {
     "name": "stderr",
     "output_type": "stream",
     "text": [
      "INFO:sagemaker:Creating transform job with name: xgboost-2023-11-02-20-08-59-364\n"
     ]
    },
    {
     "name": "stdout",
     "output_type": "stream",
     "text": [
      "...............................\u001B[34mArguments: serve\u001B[0m\n",
      "\u001B[34m[2023-11-02 20:14:11 +0000] [1] [INFO] Starting gunicorn 19.9.0\u001B[0m\n",
      "\u001B[34m[2023-11-02 20:14:11 +0000] [1] [INFO] Listening at: http://0.0.0.0:8080 (1)\u001B[0m\n",
      "\u001B[34m[2023-11-02 20:14:11 +0000] [1] [INFO] Using worker: gevent\u001B[0m\n",
      "\u001B[34m[2023-11-02 20:14:11 +0000] [21] [INFO] Booting worker with pid: 21\u001B[0m\n",
      "\u001B[34m[2023-11-02 20:14:11 +0000] [22] [INFO] Booting worker with pid: 22\u001B[0m\n",
      "\u001B[34m/opt/amazon/lib/python3.7/site-packages/gunicorn/workers/ggevent.py:65: MonkeyPatchWarning: Monkey-patching ssl after ssl has already been imported may lead to errors, including RecursionError on Python 3.6. It may also silently lead to incorrect behaviour on Python 3.7. Please monkey-patch earlier. See https://github.com/gevent/gevent/issues/1016. Modules that had direct imports (NOT patched): ['urllib3.util.ssl_ (/opt/amazon/lib/python3.7/site-packages/urllib3/util/ssl_.py)', 'urllib3.util (/opt/amazon/lib/python3.7/site-packages/urllib3/util/__init__.py)']. \n",
      "  monkey.patch_all(subprocess=True)\u001B[0m\n",
      "\u001B[34m[2023-11-02:20:14:11:INFO] Model loaded successfully for worker : 21\u001B[0m\n",
      "\u001B[34m/opt/amazon/lib/python3.7/site-packages/gunicorn/workers/ggevent.py:65: MonkeyPatchWarning: Monkey-patching ssl after ssl has already been imported may lead to errors, including RecursionError on Python 3.6. It may also silently lead to incorrect behaviour on Python 3.7. Please monkey-patch earlier. See https://github.com/gevent/gevent/issues/1016. Modules that had direct imports (NOT patched): ['urllib3.util.ssl_ (/opt/amazon/lib/python3.7/site-packages/urllib3/util/ssl_.py)', 'urllib3.util (/opt/amazon/lib/python3.7/site-packages/urllib3/util/__init__.py)']. \n",
      "  monkey.patch_all(subprocess=True)\u001B[0m\n",
      "\u001B[34m[2023-11-02:20:14:11:INFO] Model loaded successfully for worker : 22\u001B[0m\n",
      "\u001B[34m[2023-11-02 20:14:11 +0000] [23] [INFO] Booting worker with pid: 23\u001B[0m\n",
      "\u001B[34m[2023-11-02 20:14:11 +0000] [24] [INFO] Booting worker with pid: 24\u001B[0m\n",
      "\u001B[34m/opt/amazon/lib/python3.7/site-packages/gunicorn/workers/ggevent.py:65: MonkeyPatchWarning: Monkey-patching ssl after ssl has already been imported may lead to errors, including RecursionError on Python 3.6. It may also silently lead to incorrect behaviour on Python 3.7. Please monkey-patch earlier. See https://github.com/gevent/gevent/issues/1016. Modules that had direct imports (NOT patched): ['urllib3.util.ssl_ (/opt/amazon/lib/python3.7/site-packages/urllib3/util/ssl_.py)', 'urllib3.util (/opt/amazon/lib/python3.7/site-packages/urllib3/util/__init__.py)']. \n",
      "  monkey.patch_all(subprocess=True)\u001B[0m\n",
      "\u001B[34m[2023-11-02:20:14:12:INFO] Model loaded successfully for worker : 23\u001B[0m\n",
      "\u001B[34m/opt/amazon/lib/python3.7/site-packages/gunicorn/workers/ggevent.py:65: MonkeyPatchWarning: Monkey-patching ssl after ssl has already been imported may lead to errors, including RecursionError on Python 3.6. It may also silently lead to incorrect behaviour on Python 3.7. Please monkey-patch earlier. See https://github.com/gevent/gevent/issues/1016. Modules that had direct imports (NOT patched): ['urllib3.util.ssl_ (/opt/amazon/lib/python3.7/site-packages/urllib3/util/ssl_.py)', 'urllib3.util (/opt/amazon/lib/python3.7/site-packages/urllib3/util/__init__.py)']. \n",
      "  monkey.patch_all(subprocess=True)\u001B[0m\n",
      "\u001B[34m[2023-11-02:20:14:12:INFO] Model loaded successfully for worker : 24\u001B[0m\n",
      "\u001B[32m2023-11-02T20:14:15.742:[sagemaker logs]: MaxConcurrentTransforms=4, MaxPayloadInMB=6, BatchStrategy=MULTI_RECORD\u001B[0m\n",
      "\u001B[34m[2023-11-02:20:14:17:INFO] Sniff delimiter as ','\u001B[0m\n",
      "\u001B[34m[2023-11-02:20:14:17:INFO] Determined delimiter of CSV input is ','\u001B[0m\n",
      "\u001B[34m[2023-11-02:20:14:17:INFO] Sniff delimiter as ','\u001B[0m\n",
      "\u001B[34m[2023-11-02:20:14:17:INFO] Determined delimiter of CSV input is ','\u001B[0m\n",
      "\u001B[34m[2023-11-02:20:14:17:INFO] Sniff delimiter as ','\u001B[0m\n",
      "\u001B[34m[2023-11-02:20:14:17:INFO] Determined delimiter of CSV input is ','\u001B[0m\n",
      "\u001B[35m[2023-11-02:20:14:17:INFO] Sniff delimiter as ','\u001B[0m\n",
      "\u001B[35m[2023-11-02:20:14:17:INFO] Determined delimiter of CSV input is ','\u001B[0m\n",
      "\u001B[35m[2023-11-02:20:14:17:INFO] Sniff delimiter as ','\u001B[0m\n",
      "\u001B[35m[2023-11-02:20:14:17:INFO] Determined delimiter of CSV input is ','\u001B[0m\n",
      "\u001B[35m[2023-11-02:20:14:17:INFO] Sniff delimiter as ','\u001B[0m\n",
      "\u001B[35m[2023-11-02:20:14:17:INFO] Determined delimiter of CSV input is ','\u001B[0m\n",
      "\u001B[34m[2023-11-02:20:14:19:INFO] Sniff delimiter as ','\u001B[0m\n",
      "\u001B[34m[2023-11-02:20:14:19:INFO] Determined delimiter of CSV input is ','\u001B[0m\n",
      "\u001B[35m[2023-11-02:20:14:19:INFO] Sniff delimiter as ','\u001B[0m\n",
      "\u001B[35m[2023-11-02:20:14:19:INFO] Determined delimiter of CSV input is ','\u001B[0m\n",
      "\u001B[34m[2023-11-02:20:14:20:INFO] Sniff delimiter as ','\u001B[0m\n",
      "\u001B[34m[2023-11-02:20:14:20:INFO] Determined delimiter of CSV input is ','\u001B[0m\n",
      "\u001B[34m[2023-11-02:20:14:21:INFO] Sniff delimiter as ','\u001B[0m\n",
      "\u001B[34m[2023-11-02:20:14:21:INFO] Determined delimiter of CSV input is ','\u001B[0m\n",
      "\u001B[35m[2023-11-02:20:14:20:INFO] Sniff delimiter as ','\u001B[0m\n",
      "\u001B[35m[2023-11-02:20:14:20:INFO] Determined delimiter of CSV input is ','\u001B[0m\n",
      "\u001B[35m[2023-11-02:20:14:21:INFO] Sniff delimiter as ','\u001B[0m\n",
      "\u001B[35m[2023-11-02:20:14:21:INFO] Determined delimiter of CSV input is ','\u001B[0m\n",
      "\u001B[34m[2023-11-02:20:14:23:INFO] Sniff delimiter as ','\u001B[0m\n",
      "\u001B[34m[2023-11-02:20:14:23:INFO] Determined delimiter of CSV input is ','\u001B[0m\n",
      "\u001B[34m[2023-11-02:20:14:23:INFO] Sniff delimiter as ','\u001B[0m\n",
      "\u001B[34m[2023-11-02:20:14:23:INFO] Determined delimiter of CSV input is ','\u001B[0m\n",
      "\u001B[35m[2023-11-02:20:14:23:INFO] Sniff delimiter as ','\u001B[0m\n",
      "\u001B[35m[2023-11-02:20:14:23:INFO] Determined delimiter of CSV input is ','\u001B[0m\n",
      "\u001B[35m[2023-11-02:20:14:23:INFO] Sniff delimiter as ','\u001B[0m\n",
      "\u001B[35m[2023-11-02:20:14:23:INFO] Determined delimiter of CSV input is ','\u001B[0m\n",
      "\n",
      "\u001B[34mArguments: serve\u001B[0m\n",
      "\u001B[35mArguments: serve\u001B[0m\n",
      "\u001B[34m[2023-11-02 20:14:11 +0000] [1] [INFO] Starting gunicorn 19.9.0\u001B[0m\n",
      "\u001B[34m[2023-11-02 20:14:11 +0000] [1] [INFO] Listening at: http://0.0.0.0:8080 (1)\u001B[0m\n",
      "\u001B[34m[2023-11-02 20:14:11 +0000] [1] [INFO] Using worker: gevent\u001B[0m\n",
      "\u001B[34m[2023-11-02 20:14:11 +0000] [21] [INFO] Booting worker with pid: 21\u001B[0m\n",
      "\u001B[34m[2023-11-02 20:14:11 +0000] [22] [INFO] Booting worker with pid: 22\u001B[0m\n",
      "\u001B[34m/opt/amazon/lib/python3.7/site-packages/gunicorn/workers/ggevent.py:65: MonkeyPatchWarning: Monkey-patching ssl after ssl has already been imported may lead to errors, including RecursionError on Python 3.6. It may also silently lead to incorrect behaviour on Python 3.7. Please monkey-patch earlier. See https://github.com/gevent/gevent/issues/1016. Modules that had direct imports (NOT patched): ['urllib3.util.ssl_ (/opt/amazon/lib/python3.7/site-packages/urllib3/util/ssl_.py)', 'urllib3.util (/opt/amazon/lib/python3.7/site-packages/urllib3/util/__init__.py)']. \n",
      "  monkey.patch_all(subprocess=True)\u001B[0m\n",
      "\u001B[35m[2023-11-02 20:14:11 +0000] [1] [INFO] Starting gunicorn 19.9.0\u001B[0m\n",
      "\u001B[35m[2023-11-02 20:14:11 +0000] [1] [INFO] Listening at: http://0.0.0.0:8080 (1)\u001B[0m\n",
      "\u001B[35m[2023-11-02 20:14:11 +0000] [1] [INFO] Using worker: gevent\u001B[0m\n",
      "\u001B[35m[2023-11-02 20:14:11 +0000] [21] [INFO] Booting worker with pid: 21\u001B[0m\n",
      "\u001B[35m[2023-11-02 20:14:11 +0000] [22] [INFO] Booting worker with pid: 22\u001B[0m\n",
      "\u001B[35m/opt/amazon/lib/python3.7/site-packages/gunicorn/workers/ggevent.py:65: MonkeyPatchWarning: Monkey-patching ssl after ssl has already been imported may lead to errors, including RecursionError on Python 3.6. It may also silently lead to incorrect behaviour on Python 3.7. Please monkey-patch earlier. See https://github.com/gevent/gevent/issues/1016. Modules that had direct imports (NOT patched): ['urllib3.util.ssl_ (/opt/amazon/lib/python3.7/site-packages/urllib3/util/ssl_.py)', 'urllib3.util (/opt/amazon/lib/python3.7/site-packages/urllib3/util/__init__.py)']. \n",
      "  monkey.patch_all(subprocess=True)\u001B[0m\n",
      "\u001B[34m[2023-11-02:20:14:11:INFO] Model loaded successfully for worker : 21\u001B[0m\n",
      "\u001B[34m/opt/amazon/lib/python3.7/site-packages/gunicorn/workers/ggevent.py:65: MonkeyPatchWarning: Monkey-patching ssl after ssl has already been imported may lead to errors, including RecursionError on Python 3.6. It may also silently lead to incorrect behaviour on Python 3.7. Please monkey-patch earlier. See https://github.com/gevent/gevent/issues/1016. Modules that had direct imports (NOT patched): ['urllib3.util.ssl_ (/opt/amazon/lib/python3.7/site-packages/urllib3/util/ssl_.py)', 'urllib3.util (/opt/amazon/lib/python3.7/site-packages/urllib3/util/__init__.py)']. \n",
      "  monkey.patch_all(subprocess=True)\u001B[0m\n",
      "\u001B[34m[2023-11-02:20:14:11:INFO] Model loaded successfully for worker : 22\u001B[0m\n",
      "\u001B[34m[2023-11-02 20:14:11 +0000] [23] [INFO] Booting worker with pid: 23\u001B[0m\n",
      "\u001B[34m[2023-11-02 20:14:11 +0000] [24] [INFO] Booting worker with pid: 24\u001B[0m\n",
      "\u001B[34m/opt/amazon/lib/python3.7/site-packages/gunicorn/workers/ggevent.py:65: MonkeyPatchWarning: Monkey-patching ssl after ssl has already been imported may lead to errors, including RecursionError on Python 3.6. It may also silently lead to incorrect behaviour on Python 3.7. Please monkey-patch earlier. See https://github.com/gevent/gevent/issues/1016. Modules that had direct imports (NOT patched): ['urllib3.util.ssl_ (/opt/amazon/lib/python3.7/site-packages/urllib3/util/ssl_.py)', 'urllib3.util (/opt/amazon/lib/python3.7/site-packages/urllib3/util/__init__.py)']. \n",
      "  monkey.patch_all(subprocess=True)\u001B[0m\n",
      "\u001B[34m[2023-11-02:20:14:12:INFO] Model loaded successfully for worker : 23\u001B[0m\n",
      "\u001B[34m/opt/amazon/lib/python3.7/site-packages/gunicorn/workers/ggevent.py:65: MonkeyPatchWarning: Monkey-patching ssl after ssl has already been imported may lead to errors, including RecursionError on Python 3.6. It may also silently lead to incorrect behaviour on Python 3.7. Please monkey-patch earlier. See https://github.com/gevent/gevent/issues/1016. Modules that had direct imports (NOT patched): ['urllib3.util.ssl_ (/opt/amazon/lib/python3.7/site-packages/urllib3/util/ssl_.py)', 'urllib3.util (/opt/amazon/lib/python3.7/site-packages/urllib3/util/__init__.py)']. \n",
      "  monkey.patch_all(subprocess=True)\u001B[0m\n",
      "\u001B[34m[2023-11-02:20:14:12:INFO] Model loaded successfully for worker : 24\u001B[0m\n",
      "\u001B[35m[2023-11-02:20:14:11:INFO] Model loaded successfully for worker : 21\u001B[0m\n",
      "\u001B[35m/opt/amazon/lib/python3.7/site-packages/gunicorn/workers/ggevent.py:65: MonkeyPatchWarning: Monkey-patching ssl after ssl has already been imported may lead to errors, including RecursionError on Python 3.6. It may also silently lead to incorrect behaviour on Python 3.7. Please monkey-patch earlier. See https://github.com/gevent/gevent/issues/1016. Modules that had direct imports (NOT patched): ['urllib3.util.ssl_ (/opt/amazon/lib/python3.7/site-packages/urllib3/util/ssl_.py)', 'urllib3.util (/opt/amazon/lib/python3.7/site-packages/urllib3/util/__init__.py)']. \n",
      "  monkey.patch_all(subprocess=True)\u001B[0m\n",
      "\u001B[35m[2023-11-02:20:14:11:INFO] Model loaded successfully for worker : 22\u001B[0m\n",
      "\u001B[35m[2023-11-02 20:14:11 +0000] [23] [INFO] Booting worker with pid: 23\u001B[0m\n",
      "\u001B[35m[2023-11-02 20:14:11 +0000] [24] [INFO] Booting worker with pid: 24\u001B[0m\n",
      "\u001B[35m/opt/amazon/lib/python3.7/site-packages/gunicorn/workers/ggevent.py:65: MonkeyPatchWarning: Monkey-patching ssl after ssl has already been imported may lead to errors, including RecursionError on Python 3.6. It may also silently lead to incorrect behaviour on Python 3.7. Please monkey-patch earlier. See https://github.com/gevent/gevent/issues/1016. Modules that had direct imports (NOT patched): ['urllib3.util.ssl_ (/opt/amazon/lib/python3.7/site-packages/urllib3/util/ssl_.py)', 'urllib3.util (/opt/amazon/lib/python3.7/site-packages/urllib3/util/__init__.py)']. \n",
      "  monkey.patch_all(subprocess=True)\u001B[0m\n",
      "\u001B[35m[2023-11-02:20:14:12:INFO] Model loaded successfully for worker : 23\u001B[0m\n",
      "\u001B[35m/opt/amazon/lib/python3.7/site-packages/gunicorn/workers/ggevent.py:65: MonkeyPatchWarning: Monkey-patching ssl after ssl has already been imported may lead to errors, including RecursionError on Python 3.6. It may also silently lead to incorrect behaviour on Python 3.7. Please monkey-patch earlier. See https://github.com/gevent/gevent/issues/1016. Modules that had direct imports (NOT patched): ['urllib3.util.ssl_ (/opt/amazon/lib/python3.7/site-packages/urllib3/util/ssl_.py)', 'urllib3.util (/opt/amazon/lib/python3.7/site-packages/urllib3/util/__init__.py)']. \n",
      "  monkey.patch_all(subprocess=True)\u001B[0m\n",
      "\u001B[35m[2023-11-02:20:14:12:INFO] Model loaded successfully for worker : 24\u001B[0m\n",
      "\u001B[32m2023-11-02T20:14:15.742:[sagemaker logs]: MaxConcurrentTransforms=4, MaxPayloadInMB=6, BatchStrategy=MULTI_RECORD\u001B[0m\n",
      "\u001B[34m[2023-11-02:20:14:17:INFO] Sniff delimiter as ','\u001B[0m\n",
      "\u001B[34m[2023-11-02:20:14:17:INFO] Determined delimiter of CSV input is ','\u001B[0m\n",
      "\u001B[34m[2023-11-02:20:14:17:INFO] Sniff delimiter as ','\u001B[0m\n",
      "\u001B[34m[2023-11-02:20:14:17:INFO] Determined delimiter of CSV input is ','\u001B[0m\n",
      "\u001B[34m[2023-11-02:20:14:17:INFO] Sniff delimiter as ','\u001B[0m\n",
      "\u001B[34m[2023-11-02:20:14:17:INFO] Determined delimiter of CSV input is ','\u001B[0m\n",
      "\u001B[35m[2023-11-02:20:14:17:INFO] Sniff delimiter as ','\u001B[0m\n",
      "\u001B[35m[2023-11-02:20:14:17:INFO] Determined delimiter of CSV input is ','\u001B[0m\n",
      "\u001B[35m[2023-11-02:20:14:17:INFO] Sniff delimiter as ','\u001B[0m\n",
      "\u001B[35m[2023-11-02:20:14:17:INFO] Determined delimiter of CSV input is ','\u001B[0m\n",
      "\u001B[35m[2023-11-02:20:14:17:INFO] Sniff delimiter as ','\u001B[0m\n",
      "\u001B[35m[2023-11-02:20:14:17:INFO] Determined delimiter of CSV input is ','\u001B[0m\n",
      "\u001B[34m[2023-11-02:20:14:19:INFO] Sniff delimiter as ','\u001B[0m\n",
      "\u001B[34m[2023-11-02:20:14:19:INFO] Determined delimiter of CSV input is ','\u001B[0m\n",
      "\u001B[35m[2023-11-02:20:14:19:INFO] Sniff delimiter as ','\u001B[0m\n",
      "\u001B[35m[2023-11-02:20:14:19:INFO] Determined delimiter of CSV input is ','\u001B[0m\n",
      "\u001B[34m[2023-11-02:20:14:20:INFO] Sniff delimiter as ','\u001B[0m\n",
      "\u001B[34m[2023-11-02:20:14:20:INFO] Determined delimiter of CSV input is ','\u001B[0m\n",
      "\u001B[34m[2023-11-02:20:14:21:INFO] Sniff delimiter as ','\u001B[0m\n",
      "\u001B[34m[2023-11-02:20:14:21:INFO] Determined delimiter of CSV input is ','\u001B[0m\n",
      "\u001B[35m[2023-11-02:20:14:20:INFO] Sniff delimiter as ','\u001B[0m\n",
      "\u001B[35m[2023-11-02:20:14:20:INFO] Determined delimiter of CSV input is ','\u001B[0m\n",
      "\u001B[35m[2023-11-02:20:14:21:INFO] Sniff delimiter as ','\u001B[0m\n",
      "\u001B[35m[2023-11-02:20:14:21:INFO] Determined delimiter of CSV input is ','\u001B[0m\n",
      "\u001B[34m[2023-11-02:20:14:23:INFO] Sniff delimiter as ','\u001B[0m\n",
      "\u001B[34m[2023-11-02:20:14:23:INFO] Determined delimiter of CSV input is ','\u001B[0m\n",
      "\u001B[34m[2023-11-02:20:14:23:INFO] Sniff delimiter as ','\u001B[0m\n",
      "\u001B[34m[2023-11-02:20:14:23:INFO] Determined delimiter of CSV input is ','\u001B[0m\n",
      "\u001B[35m[2023-11-02:20:14:23:INFO] Sniff delimiter as ','\u001B[0m\n",
      "\u001B[35m[2023-11-02:20:14:23:INFO] Determined delimiter of CSV input is ','\u001B[0m\n",
      "\u001B[35m[2023-11-02:20:14:23:INFO] Sniff delimiter as ','\u001B[0m\n",
      "\u001B[35m[2023-11-02:20:14:23:INFO] Determined delimiter of CSV input is ','\u001B[0m\n"
     ]
    }
   ],
   "source": [
    "xgb_transformer.transform(test_X_path, content_type=\"text/csv\", split_type=\"Line\")\n",
    "xgb_transformer.wait()"
   ]
  },
  {
   "cell_type": "markdown",
   "source": [
    "### Downloading the predictions"
   ],
   "metadata": {
    "collapsed": false
   },
   "id": "bb3df9c019d14669"
  },
  {
   "cell_type": "code",
   "execution_count": 31,
   "id": "5f46b90c",
   "metadata": {},
   "outputs": [],
   "source": [
    "import io\n",
    "\n",
    "\n",
    "y_file = boto3.client(\"s3\").get_object(Bucket = bucket, Key = prefix +\"/transformer/output/test_X.csv.out\")\n",
    "y_pred = pd.read_csv(io.BytesIO(y_file[\"Body\"].read()), header = None, names = [\"Predicted\"])"
   ]
  },
  {
   "cell_type": "code",
   "execution_count": 32,
   "id": "4e220dda",
   "metadata": {},
   "outputs": [
    {
     "data": {
      "text/html": [
       "<div>\n",
       "<style scoped>\n",
       "    .dataframe tbody tr th:only-of-type {\n",
       "        vertical-align: middle;\n",
       "    }\n",
       "\n",
       "    .dataframe tbody tr th {\n",
       "        vertical-align: top;\n",
       "    }\n",
       "\n",
       "    .dataframe thead th {\n",
       "        text-align: right;\n",
       "    }\n",
       "</style>\n",
       "<table border=\"1\" class=\"dataframe\">\n",
       "  <thead>\n",
       "    <tr style=\"text-align: right;\">\n",
       "      <th></th>\n",
       "      <th>Predicted</th>\n",
       "    </tr>\n",
       "  </thead>\n",
       "  <tbody>\n",
       "    <tr>\n",
       "      <th>0</th>\n",
       "      <td>0.229906</td>\n",
       "    </tr>\n",
       "    <tr>\n",
       "      <th>1</th>\n",
       "      <td>0.177965</td>\n",
       "    </tr>\n",
       "    <tr>\n",
       "      <th>2</th>\n",
       "      <td>0.116457</td>\n",
       "    </tr>\n",
       "    <tr>\n",
       "      <th>3</th>\n",
       "      <td>0.350774</td>\n",
       "    </tr>\n",
       "    <tr>\n",
       "      <th>4</th>\n",
       "      <td>0.230469</td>\n",
       "    </tr>\n",
       "    <tr>\n",
       "      <th>...</th>\n",
       "      <td>...</td>\n",
       "    </tr>\n",
       "    <tr>\n",
       "      <th>245334</th>\n",
       "      <td>0.208295</td>\n",
       "    </tr>\n",
       "    <tr>\n",
       "      <th>245335</th>\n",
       "      <td>0.162544</td>\n",
       "    </tr>\n",
       "    <tr>\n",
       "      <th>245336</th>\n",
       "      <td>0.305527</td>\n",
       "    </tr>\n",
       "    <tr>\n",
       "      <th>245337</th>\n",
       "      <td>0.199313</td>\n",
       "    </tr>\n",
       "    <tr>\n",
       "      <th>245338</th>\n",
       "      <td>0.343343</td>\n",
       "    </tr>\n",
       "  </tbody>\n",
       "</table>\n",
       "<p>245339 rows × 1 columns</p>\n",
       "</div>"
      ],
      "text/plain": [
       "        Predicted\n",
       "0        0.229906\n",
       "1        0.177965\n",
       "2        0.116457\n",
       "3        0.350774\n",
       "4        0.230469\n",
       "...           ...\n",
       "245334   0.208295\n",
       "245335   0.162544\n",
       "245336   0.305527\n",
       "245337   0.199313\n",
       "245338   0.343343\n",
       "\n",
       "[245339 rows x 1 columns]"
      ]
     },
     "execution_count": 32,
     "metadata": {},
     "output_type": "execute_result"
    }
   ],
   "source": [
    "y_pred"
   ]
  },
  {
   "cell_type": "code",
   "execution_count": 33,
   "id": "5ed4f10c",
   "metadata": {},
   "outputs": [],
   "source": [
    "y_pred[\"actual\"] = y_pred[\"Predicted\"].apply(lambda x : 1 if x > 0.5 else 0)"
   ]
  },
  {
   "cell_type": "code",
   "execution_count": 34,
   "id": "d1a2ff1e",
   "metadata": {},
   "outputs": [
    {
     "data": {
      "text/html": [
       "<div>\n",
       "<style scoped>\n",
       "    .dataframe tbody tr th:only-of-type {\n",
       "        vertical-align: middle;\n",
       "    }\n",
       "\n",
       "    .dataframe tbody tr th {\n",
       "        vertical-align: top;\n",
       "    }\n",
       "\n",
       "    .dataframe thead th {\n",
       "        text-align: right;\n",
       "    }\n",
       "</style>\n",
       "<table border=\"1\" class=\"dataframe\">\n",
       "  <thead>\n",
       "    <tr style=\"text-align: right;\">\n",
       "      <th></th>\n",
       "      <th>Predicted</th>\n",
       "      <th>actual</th>\n",
       "    </tr>\n",
       "  </thead>\n",
       "  <tbody>\n",
       "    <tr>\n",
       "      <th>0</th>\n",
       "      <td>0.229906</td>\n",
       "      <td>0</td>\n",
       "    </tr>\n",
       "    <tr>\n",
       "      <th>1</th>\n",
       "      <td>0.177965</td>\n",
       "      <td>0</td>\n",
       "    </tr>\n",
       "    <tr>\n",
       "      <th>2</th>\n",
       "      <td>0.116457</td>\n",
       "      <td>0</td>\n",
       "    </tr>\n",
       "    <tr>\n",
       "      <th>3</th>\n",
       "      <td>0.350774</td>\n",
       "      <td>0</td>\n",
       "    </tr>\n",
       "    <tr>\n",
       "      <th>4</th>\n",
       "      <td>0.230469</td>\n",
       "      <td>0</td>\n",
       "    </tr>\n",
       "    <tr>\n",
       "      <th>...</th>\n",
       "      <td>...</td>\n",
       "      <td>...</td>\n",
       "    </tr>\n",
       "    <tr>\n",
       "      <th>245334</th>\n",
       "      <td>0.208295</td>\n",
       "      <td>0</td>\n",
       "    </tr>\n",
       "    <tr>\n",
       "      <th>245335</th>\n",
       "      <td>0.162544</td>\n",
       "      <td>0</td>\n",
       "    </tr>\n",
       "    <tr>\n",
       "      <th>245336</th>\n",
       "      <td>0.305527</td>\n",
       "      <td>0</td>\n",
       "    </tr>\n",
       "    <tr>\n",
       "      <th>245337</th>\n",
       "      <td>0.199313</td>\n",
       "      <td>0</td>\n",
       "    </tr>\n",
       "    <tr>\n",
       "      <th>245338</th>\n",
       "      <td>0.343343</td>\n",
       "      <td>0</td>\n",
       "    </tr>\n",
       "  </tbody>\n",
       "</table>\n",
       "<p>245339 rows × 2 columns</p>\n",
       "</div>"
      ],
      "text/plain": [
       "        Predicted  actual\n",
       "0        0.229906       0\n",
       "1        0.177965       0\n",
       "2        0.116457       0\n",
       "3        0.350774       0\n",
       "4        0.230469       0\n",
       "...           ...     ...\n",
       "245334   0.208295       0\n",
       "245335   0.162544       0\n",
       "245336   0.305527       0\n",
       "245337   0.199313       0\n",
       "245338   0.343343       0\n",
       "\n",
       "[245339 rows x 2 columns]"
      ]
     },
     "execution_count": 34,
     "metadata": {},
     "output_type": "execute_result"
    }
   ],
   "source": [
    "y_pred"
   ]
  },
  {
   "cell_type": "markdown",
   "source": [
    "### Calculating the accuracy"
   ],
   "metadata": {
    "collapsed": false
   },
   "id": "f8cf24662ead1918"
  },
  {
   "cell_type": "code",
   "execution_count": 35,
   "id": "fa0b58b2",
   "metadata": {},
   "outputs": [
    {
     "name": "stdout",
     "output_type": "stream",
     "text": [
      "Accuracy: 0.7973090295468719\n",
      "Recall: 0.06855306959820391\n",
      "F1 Score: 0.12469196648595365\n"
     ]
    }
   ],
   "source": [
    "from sklearn.metrics import accuracy_score\n",
    "\n",
    "\n",
    "accuracy = accuracy_score(test_y, y_pred[\"actual\"])\n",
    "print(\"Accuracy:\", accuracy)"
   ]
  }
 ],
 "metadata": {
  "kernelspec": {
   "display_name": "conda_python3",
   "language": "python",
   "name": "conda_python3"
  },
  "language_info": {
   "codemirror_mode": {
    "name": "ipython",
    "version": 3
   },
   "file_extension": ".py",
   "mimetype": "text/x-python",
   "name": "python",
   "nbconvert_exporter": "python",
   "pygments_lexer": "ipython3",
   "version": "3.10.12"
  }
 },
 "nbformat": 4,
 "nbformat_minor": 5
}
