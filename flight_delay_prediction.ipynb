{
 "cells": [
  {
   "cell_type": "code",
   "execution_count": 15,
   "id": "initial_id",
   "metadata": {
    "collapsed": true,
    "ExecuteTime": {
     "end_time": "2023-10-28T10:08:27.529756300Z",
     "start_time": "2023-10-28T10:08:27.470193200Z"
    }
   },
   "outputs": [],
   "source": [
    "import pandas as pd\n",
    "import os"
   ]
  },
  {
   "cell_type": "markdown",
   "source": [
    "### Reading All Datasets"
   ],
   "metadata": {
    "collapsed": false
   },
   "id": "d22415c0a006107f"
  },
  {
   "cell_type": "code",
   "execution_count": 16,
   "outputs": [
    {
     "name": "stderr",
     "output_type": "stream",
     "text": [
      "C:\\Users\\fazal_ix0ll8n\\AppData\\Local\\Temp\\ipykernel_11804\\2542696725.py:10: DtypeWarning: Columns (77,84) have mixed types. Specify dtype option on import or set low_memory=False.\n",
      "  df = pd.concat((pd.read_csv(f) for f in all_files))\n",
      "C:\\Users\\fazal_ix0ll8n\\AppData\\Local\\Temp\\ipykernel_11804\\2542696725.py:10: DtypeWarning: Columns (77,84) have mixed types. Specify dtype option on import or set low_memory=False.\n",
      "  df = pd.concat((pd.read_csv(f) for f in all_files))\n"
     ]
    },
    {
     "data": {
      "text/plain": "   Year  Quarter  Month  DayofMonth  DayOfWeek  FlightDate Reporting_Airline  \\\n0  2014        1      1          30          4  2014-01-30                AA   \n1  2014        1      1          31          5  2014-01-31                AA   \n2  2014        1      1           1          3  2014-01-01                AA   \n3  2014        1      1           2          4  2014-01-02                AA   \n4  2014        1      1           3          5  2014-01-03                AA   \n\n   DOT_ID_Reporting_Airline IATA_CODE_Reporting_Airline Tail_Number  ...  \\\n0                     19805                          AA      N006AA  ...   \n1                     19805                          AA      N003AA  ...   \n2                     19805                          AA      N002AA  ...   \n3                     19805                          AA      N002AA  ...   \n4                     19805                          AA      N014AA  ...   \n\n   Div4TailNum  Div5Airport  Div5AirportID  Div5AirportSeqID Div5WheelsOn  \\\n0          NaN          NaN            NaN               NaN          NaN   \n1          NaN          NaN            NaN               NaN          NaN   \n2          NaN          NaN            NaN               NaN          NaN   \n3          NaN          NaN            NaN               NaN          NaN   \n4          NaN          NaN            NaN               NaN          NaN   \n\n  Div5TotalGTime Div5LongestGTime  Div5WheelsOff Div5TailNum  Unnamed: 109  \n0            NaN              NaN            NaN         NaN           NaN  \n1            NaN              NaN            NaN         NaN           NaN  \n2            NaN              NaN            NaN         NaN           NaN  \n3            NaN              NaN            NaN         NaN           NaN  \n4            NaN              NaN            NaN         NaN           NaN  \n\n[5 rows x 110 columns]",
      "text/html": "<div>\n<style scoped>\n    .dataframe tbody tr th:only-of-type {\n        vertical-align: middle;\n    }\n\n    .dataframe tbody tr th {\n        vertical-align: top;\n    }\n\n    .dataframe thead th {\n        text-align: right;\n    }\n</style>\n<table border=\"1\" class=\"dataframe\">\n  <thead>\n    <tr style=\"text-align: right;\">\n      <th></th>\n      <th>Year</th>\n      <th>Quarter</th>\n      <th>Month</th>\n      <th>DayofMonth</th>\n      <th>DayOfWeek</th>\n      <th>FlightDate</th>\n      <th>Reporting_Airline</th>\n      <th>DOT_ID_Reporting_Airline</th>\n      <th>IATA_CODE_Reporting_Airline</th>\n      <th>Tail_Number</th>\n      <th>...</th>\n      <th>Div4TailNum</th>\n      <th>Div5Airport</th>\n      <th>Div5AirportID</th>\n      <th>Div5AirportSeqID</th>\n      <th>Div5WheelsOn</th>\n      <th>Div5TotalGTime</th>\n      <th>Div5LongestGTime</th>\n      <th>Div5WheelsOff</th>\n      <th>Div5TailNum</th>\n      <th>Unnamed: 109</th>\n    </tr>\n  </thead>\n  <tbody>\n    <tr>\n      <th>0</th>\n      <td>2014</td>\n      <td>1</td>\n      <td>1</td>\n      <td>30</td>\n      <td>4</td>\n      <td>2014-01-30</td>\n      <td>AA</td>\n      <td>19805</td>\n      <td>AA</td>\n      <td>N006AA</td>\n      <td>...</td>\n      <td>NaN</td>\n      <td>NaN</td>\n      <td>NaN</td>\n      <td>NaN</td>\n      <td>NaN</td>\n      <td>NaN</td>\n      <td>NaN</td>\n      <td>NaN</td>\n      <td>NaN</td>\n      <td>NaN</td>\n    </tr>\n    <tr>\n      <th>1</th>\n      <td>2014</td>\n      <td>1</td>\n      <td>1</td>\n      <td>31</td>\n      <td>5</td>\n      <td>2014-01-31</td>\n      <td>AA</td>\n      <td>19805</td>\n      <td>AA</td>\n      <td>N003AA</td>\n      <td>...</td>\n      <td>NaN</td>\n      <td>NaN</td>\n      <td>NaN</td>\n      <td>NaN</td>\n      <td>NaN</td>\n      <td>NaN</td>\n      <td>NaN</td>\n      <td>NaN</td>\n      <td>NaN</td>\n      <td>NaN</td>\n    </tr>\n    <tr>\n      <th>2</th>\n      <td>2014</td>\n      <td>1</td>\n      <td>1</td>\n      <td>1</td>\n      <td>3</td>\n      <td>2014-01-01</td>\n      <td>AA</td>\n      <td>19805</td>\n      <td>AA</td>\n      <td>N002AA</td>\n      <td>...</td>\n      <td>NaN</td>\n      <td>NaN</td>\n      <td>NaN</td>\n      <td>NaN</td>\n      <td>NaN</td>\n      <td>NaN</td>\n      <td>NaN</td>\n      <td>NaN</td>\n      <td>NaN</td>\n      <td>NaN</td>\n    </tr>\n    <tr>\n      <th>3</th>\n      <td>2014</td>\n      <td>1</td>\n      <td>1</td>\n      <td>2</td>\n      <td>4</td>\n      <td>2014-01-02</td>\n      <td>AA</td>\n      <td>19805</td>\n      <td>AA</td>\n      <td>N002AA</td>\n      <td>...</td>\n      <td>NaN</td>\n      <td>NaN</td>\n      <td>NaN</td>\n      <td>NaN</td>\n      <td>NaN</td>\n      <td>NaN</td>\n      <td>NaN</td>\n      <td>NaN</td>\n      <td>NaN</td>\n      <td>NaN</td>\n    </tr>\n    <tr>\n      <th>4</th>\n      <td>2014</td>\n      <td>1</td>\n      <td>1</td>\n      <td>3</td>\n      <td>5</td>\n      <td>2014-01-03</td>\n      <td>AA</td>\n      <td>19805</td>\n      <td>AA</td>\n      <td>N014AA</td>\n      <td>...</td>\n      <td>NaN</td>\n      <td>NaN</td>\n      <td>NaN</td>\n      <td>NaN</td>\n      <td>NaN</td>\n      <td>NaN</td>\n      <td>NaN</td>\n      <td>NaN</td>\n      <td>NaN</td>\n      <td>NaN</td>\n    </tr>\n  </tbody>\n</table>\n<p>5 rows × 110 columns</p>\n</div>"
     },
     "execution_count": 16,
     "metadata": {},
     "output_type": "execute_result"
    }
   ],
   "source": [
    "# reading all csv files from the sub-folders of the folder 'data'\n",
    "# and concatenate them into one dataframe\n",
    "path = 'data'\n",
    "all_files = []\n",
    "for root, dirs, files in os.walk(path):\n",
    "    for file in files:\n",
    "        if file.endswith('.csv'):\n",
    "            all_files.append(os.path.join(root, file))\n",
    "\n",
    "df = pd.concat((pd.read_csv(f) for f in all_files))\n",
    "df.head()"
   ],
   "metadata": {
    "collapsed": false,
    "ExecuteTime": {
     "end_time": "2023-10-28T10:08:32.100850100Z",
     "start_time": "2023-10-28T10:08:27.479216600Z"
    }
   },
   "id": "b374d38f5850cd6a"
  },
  {
   "cell_type": "markdown",
   "source": [
    "#### Observing the columns"
   ],
   "metadata": {
    "collapsed": false
   },
   "id": "c364eb406ca96a2e"
  },
  {
   "cell_type": "code",
   "execution_count": 17,
   "outputs": [
    {
     "data": {
      "text/plain": "Index(['Year', 'Quarter', 'Month', 'DayofMonth', 'DayOfWeek', 'FlightDate',\n       'Reporting_Airline', 'DOT_ID_Reporting_Airline',\n       'IATA_CODE_Reporting_Airline', 'Tail_Number',\n       ...\n       'Div4TailNum', 'Div5Airport', 'Div5AirportID', 'Div5AirportSeqID',\n       'Div5WheelsOn', 'Div5TotalGTime', 'Div5LongestGTime', 'Div5WheelsOff',\n       'Div5TailNum', 'Unnamed: 109'],\n      dtype='object', length=110)"
     },
     "execution_count": 17,
     "metadata": {},
     "output_type": "execute_result"
    }
   ],
   "source": [
    "df.columns"
   ],
   "metadata": {
    "collapsed": false,
    "ExecuteTime": {
     "end_time": "2023-10-28T10:08:32.161857500Z",
     "start_time": "2023-10-28T10:08:32.101849800Z"
    }
   },
   "id": "97cee277c70e0c0b"
  },
  {
   "cell_type": "markdown",
   "source": [],
   "metadata": {
    "collapsed": false
   },
   "id": "25154bb241e83fdd"
  },
  {
   "cell_type": "markdown",
   "source": [
    "#### Observing the data"
   ],
   "metadata": {
    "collapsed": false
   },
   "id": "e31a620d2dca27a9"
  },
  {
   "cell_type": "code",
   "execution_count": 18,
   "outputs": [
    {
     "data": {
      "text/plain": "<bound method DataFrame.info of         Year  Quarter  Month  DayofMonth  DayOfWeek  FlightDate  \\\n0       2014        1      1          30          4  2014-01-30   \n1       2014        1      1          31          5  2014-01-31   \n2       2014        1      1           1          3  2014-01-01   \n3       2014        1      1           2          4  2014-01-02   \n4       2014        1      1           3          5  2014-01-03   \n...      ...      ...    ...         ...        ...         ...   \n430597  2014        1      2          19          3  2014-02-19   \n430598  2014        1      2          20          4  2014-02-20   \n430599  2014        1      2          21          5  2014-02-21   \n430600  2014        1      2          24          1  2014-02-24   \n430601  2014        1      2          25          2  2014-02-25   \n\n       Reporting_Airline  DOT_ID_Reporting_Airline  \\\n0                     AA                     19805   \n1                     AA                     19805   \n2                     AA                     19805   \n3                     AA                     19805   \n4                     AA                     19805   \n...                  ...                       ...   \n430597                MQ                     20398   \n430598                MQ                     20398   \n430599                MQ                     20398   \n430600                MQ                     20398   \n430601                MQ                     20398   \n\n       IATA_CODE_Reporting_Airline Tail_Number  ...  Div4TailNum  Div5Airport  \\\n0                               AA      N006AA  ...          NaN          NaN   \n1                               AA      N003AA  ...          NaN          NaN   \n2                               AA      N002AA  ...          NaN          NaN   \n3                               AA      N002AA  ...          NaN          NaN   \n4                               AA      N014AA  ...          NaN          NaN   \n...                            ...         ...  ...          ...          ...   \n430597                          MQ      N843MQ  ...          NaN          NaN   \n430598                          MQ      N800MQ  ...          NaN          NaN   \n430599                          MQ      N803MQ  ...          NaN          NaN   \n430600                          MQ      N839MQ  ...          NaN          NaN   \n430601                          MQ      N816MQ  ...          NaN          NaN   \n\n        Div5AirportID  Div5AirportSeqID Div5WheelsOn Div5TotalGTime  \\\n0                 NaN               NaN          NaN            NaN   \n1                 NaN               NaN          NaN            NaN   \n2                 NaN               NaN          NaN            NaN   \n3                 NaN               NaN          NaN            NaN   \n4                 NaN               NaN          NaN            NaN   \n...               ...               ...          ...            ...   \n430597            NaN               NaN          NaN            NaN   \n430598            NaN               NaN          NaN            NaN   \n430599            NaN               NaN          NaN            NaN   \n430600            NaN               NaN          NaN            NaN   \n430601            NaN               NaN          NaN            NaN   \n\n       Div5LongestGTime  Div5WheelsOff Div5TailNum  Unnamed: 109  \n0                   NaN            NaN         NaN           NaN  \n1                   NaN            NaN         NaN           NaN  \n2                   NaN            NaN         NaN           NaN  \n3                   NaN            NaN         NaN           NaN  \n4                   NaN            NaN         NaN           NaN  \n...                 ...            ...         ...           ...  \n430597              NaN            NaN         NaN           NaN  \n430598              NaN            NaN         NaN           NaN  \n430599              NaN            NaN         NaN           NaN  \n430600              NaN            NaN         NaN           NaN  \n430601              NaN            NaN         NaN           NaN  \n\n[902551 rows x 110 columns]>"
     },
     "execution_count": 18,
     "metadata": {},
     "output_type": "execute_result"
    }
   ],
   "source": [
    "df.info"
   ],
   "metadata": {
    "collapsed": false,
    "ExecuteTime": {
     "end_time": "2023-10-28T10:08:32.323282500Z",
     "start_time": "2023-10-28T10:08:32.117854Z"
    }
   },
   "id": "ec94faee4bcb6349"
  },
  {
   "cell_type": "markdown",
   "source": [
    "### Data Clean-up\n",
    "#### Removing the column that has more than 50% null values"
   ],
   "metadata": {
    "collapsed": false
   },
   "id": "6adfa51a5b2931fe"
  },
  {
   "cell_type": "code",
   "execution_count": 26,
   "outputs": [
    {
     "name": "stdout",
     "output_type": "stream",
     "text": [
      "\n",
      "DataFrame after removing columns with more than 50% null values:\n"
     ]
    },
    {
     "data": {
      "text/plain": "    Year  Quarter  Month  DayofMonth  DayOfWeek  FlightDate Reporting_Airline  \\\n0   2014        1      1          30          4  2014-01-30                AA   \n1   2014        1      1          31          5  2014-01-31                AA   \n2   2014        1      1           1          3  2014-01-01                AA   \n3   2014        1      1           2          4  2014-01-02                AA   \n4   2014        1      1           3          5  2014-01-03                AA   \n5   2014        1      1           4          6  2014-01-04                AA   \n6   2014        1      1           5          7  2014-01-05                AA   \n7   2014        1      1           6          1  2014-01-06                AA   \n8   2014        1      1           7          2  2014-01-07                AA   \n9   2014        1      1           8          3  2014-01-08                AA   \n10  2014        1      1           9          4  2014-01-09                AA   \n11  2014        1      1          10          5  2014-01-10                AA   \n12  2014        1      1          11          6  2014-01-11                AA   \n13  2014        1      1          12          7  2014-01-12                AA   \n14  2014        1      1          13          1  2014-01-13                AA   \n15  2014        1      1          14          2  2014-01-14                AA   \n16  2014        1      1          15          3  2014-01-15                AA   \n17  2014        1      1          16          4  2014-01-16                AA   \n18  2014        1      1          17          5  2014-01-17                AA   \n19  2014        1      1          18          6  2014-01-18                AA   \n\n    DOT_ID_Reporting_Airline IATA_CODE_Reporting_Airline Tail_Number  ...  \\\n0                      19805                          AA      N006AA  ...   \n1                      19805                          AA      N003AA  ...   \n2                      19805                          AA      N002AA  ...   \n3                      19805                          AA      N002AA  ...   \n4                      19805                          AA      N014AA  ...   \n5                      19805                          AA      N010AA  ...   \n6                      19805                          AA      N011AA  ...   \n7                      19805                          AA      N002AA  ...   \n8                      19805                          AA      N012AA  ...   \n9                      19805                          AA      N014AA  ...   \n10                     19805                          AA      N013AA  ...   \n11                     19805                          AA      N008AA  ...   \n12                     19805                          AA      N008AA  ...   \n13                     19805                          AA      N014AA  ...   \n14                     19805                          AA      N010AA  ...   \n15                     19805                          AA      N598AA  ...   \n16                     19805                          AA      N005AA  ...   \n17                     19805                          AA      N013AA  ...   \n18                     19805                          AA      N001AA  ...   \n19                     19805                          AA      N009AA  ...   \n\n    ArrTimeBlk  Cancelled  Diverted  CRSElapsedTime ActualElapsedTime AirTime  \\\n0    1000-1059        0.0       0.0            75.0              76.0    56.0   \n1    1000-1059        0.0       0.0            75.0              84.0    54.0   \n2    1300-1359        0.0       0.0            85.0              78.0    57.0   \n3    1300-1359        0.0       0.0            85.0              79.0    53.0   \n4    1300-1359        0.0       0.0            85.0              75.0    52.0   \n5    1300-1359        0.0       0.0            85.0              80.0    57.0   \n6    1300-1359        0.0       0.0            85.0              78.0    58.0   \n7    1300-1359        0.0       0.0            85.0              77.0    52.0   \n8    1300-1359        0.0       0.0            85.0              83.0    50.0   \n9    1300-1359        0.0       0.0            85.0              97.0    63.0   \n10   1300-1359        0.0       0.0            85.0              80.0    58.0   \n11   1300-1359        0.0       0.0            85.0              80.0    54.0   \n12   1300-1359        0.0       0.0            85.0              75.0    54.0   \n13   1300-1359        0.0       0.0            85.0              88.0    57.0   \n14   1300-1359        0.0       0.0            85.0              87.0    55.0   \n15   1300-1359        0.0       0.0            85.0              76.0    58.0   \n16   1300-1359        0.0       0.0            85.0              74.0    51.0   \n17   1300-1359        0.0       0.0            85.0              86.0    52.0   \n18   1300-1359        0.0       0.0            85.0              73.0    51.0   \n19   1300-1359        0.0       0.0            85.0              72.0    50.0   \n\n   Flights  Distance DistanceGroup  DivAirportLandings  \n0      1.0     328.0             2                   0  \n1      1.0     328.0             2                   0  \n2      1.0     328.0             2                   0  \n3      1.0     328.0             2                   0  \n4      1.0     328.0             2                   0  \n5      1.0     328.0             2                   0  \n6      1.0     328.0             2                   0  \n7      1.0     328.0             2                   0  \n8      1.0     328.0             2                   0  \n9      1.0     328.0             2                   0  \n10     1.0     328.0             2                   0  \n11     1.0     328.0             2                   0  \n12     1.0     328.0             2                   0  \n13     1.0     328.0             2                   0  \n14     1.0     328.0             2                   0  \n15     1.0     328.0             2                   0  \n16     1.0     328.0             2                   0  \n17     1.0     328.0             2                   0  \n18     1.0     328.0             2                   0  \n19     1.0     328.0             2                   0  \n\n[20 rows x 56 columns]",
      "text/html": "<div>\n<style scoped>\n    .dataframe tbody tr th:only-of-type {\n        vertical-align: middle;\n    }\n\n    .dataframe tbody tr th {\n        vertical-align: top;\n    }\n\n    .dataframe thead th {\n        text-align: right;\n    }\n</style>\n<table border=\"1\" class=\"dataframe\">\n  <thead>\n    <tr style=\"text-align: right;\">\n      <th></th>\n      <th>Year</th>\n      <th>Quarter</th>\n      <th>Month</th>\n      <th>DayofMonth</th>\n      <th>DayOfWeek</th>\n      <th>FlightDate</th>\n      <th>Reporting_Airline</th>\n      <th>DOT_ID_Reporting_Airline</th>\n      <th>IATA_CODE_Reporting_Airline</th>\n      <th>Tail_Number</th>\n      <th>...</th>\n      <th>ArrTimeBlk</th>\n      <th>Cancelled</th>\n      <th>Diverted</th>\n      <th>CRSElapsedTime</th>\n      <th>ActualElapsedTime</th>\n      <th>AirTime</th>\n      <th>Flights</th>\n      <th>Distance</th>\n      <th>DistanceGroup</th>\n      <th>DivAirportLandings</th>\n    </tr>\n  </thead>\n  <tbody>\n    <tr>\n      <th>0</th>\n      <td>2014</td>\n      <td>1</td>\n      <td>1</td>\n      <td>30</td>\n      <td>4</td>\n      <td>2014-01-30</td>\n      <td>AA</td>\n      <td>19805</td>\n      <td>AA</td>\n      <td>N006AA</td>\n      <td>...</td>\n      <td>1000-1059</td>\n      <td>0.0</td>\n      <td>0.0</td>\n      <td>75.0</td>\n      <td>76.0</td>\n      <td>56.0</td>\n      <td>1.0</td>\n      <td>328.0</td>\n      <td>2</td>\n      <td>0</td>\n    </tr>\n    <tr>\n      <th>1</th>\n      <td>2014</td>\n      <td>1</td>\n      <td>1</td>\n      <td>31</td>\n      <td>5</td>\n      <td>2014-01-31</td>\n      <td>AA</td>\n      <td>19805</td>\n      <td>AA</td>\n      <td>N003AA</td>\n      <td>...</td>\n      <td>1000-1059</td>\n      <td>0.0</td>\n      <td>0.0</td>\n      <td>75.0</td>\n      <td>84.0</td>\n      <td>54.0</td>\n      <td>1.0</td>\n      <td>328.0</td>\n      <td>2</td>\n      <td>0</td>\n    </tr>\n    <tr>\n      <th>2</th>\n      <td>2014</td>\n      <td>1</td>\n      <td>1</td>\n      <td>1</td>\n      <td>3</td>\n      <td>2014-01-01</td>\n      <td>AA</td>\n      <td>19805</td>\n      <td>AA</td>\n      <td>N002AA</td>\n      <td>...</td>\n      <td>1300-1359</td>\n      <td>0.0</td>\n      <td>0.0</td>\n      <td>85.0</td>\n      <td>78.0</td>\n      <td>57.0</td>\n      <td>1.0</td>\n      <td>328.0</td>\n      <td>2</td>\n      <td>0</td>\n    </tr>\n    <tr>\n      <th>3</th>\n      <td>2014</td>\n      <td>1</td>\n      <td>1</td>\n      <td>2</td>\n      <td>4</td>\n      <td>2014-01-02</td>\n      <td>AA</td>\n      <td>19805</td>\n      <td>AA</td>\n      <td>N002AA</td>\n      <td>...</td>\n      <td>1300-1359</td>\n      <td>0.0</td>\n      <td>0.0</td>\n      <td>85.0</td>\n      <td>79.0</td>\n      <td>53.0</td>\n      <td>1.0</td>\n      <td>328.0</td>\n      <td>2</td>\n      <td>0</td>\n    </tr>\n    <tr>\n      <th>4</th>\n      <td>2014</td>\n      <td>1</td>\n      <td>1</td>\n      <td>3</td>\n      <td>5</td>\n      <td>2014-01-03</td>\n      <td>AA</td>\n      <td>19805</td>\n      <td>AA</td>\n      <td>N014AA</td>\n      <td>...</td>\n      <td>1300-1359</td>\n      <td>0.0</td>\n      <td>0.0</td>\n      <td>85.0</td>\n      <td>75.0</td>\n      <td>52.0</td>\n      <td>1.0</td>\n      <td>328.0</td>\n      <td>2</td>\n      <td>0</td>\n    </tr>\n    <tr>\n      <th>5</th>\n      <td>2014</td>\n      <td>1</td>\n      <td>1</td>\n      <td>4</td>\n      <td>6</td>\n      <td>2014-01-04</td>\n      <td>AA</td>\n      <td>19805</td>\n      <td>AA</td>\n      <td>N010AA</td>\n      <td>...</td>\n      <td>1300-1359</td>\n      <td>0.0</td>\n      <td>0.0</td>\n      <td>85.0</td>\n      <td>80.0</td>\n      <td>57.0</td>\n      <td>1.0</td>\n      <td>328.0</td>\n      <td>2</td>\n      <td>0</td>\n    </tr>\n    <tr>\n      <th>6</th>\n      <td>2014</td>\n      <td>1</td>\n      <td>1</td>\n      <td>5</td>\n      <td>7</td>\n      <td>2014-01-05</td>\n      <td>AA</td>\n      <td>19805</td>\n      <td>AA</td>\n      <td>N011AA</td>\n      <td>...</td>\n      <td>1300-1359</td>\n      <td>0.0</td>\n      <td>0.0</td>\n      <td>85.0</td>\n      <td>78.0</td>\n      <td>58.0</td>\n      <td>1.0</td>\n      <td>328.0</td>\n      <td>2</td>\n      <td>0</td>\n    </tr>\n    <tr>\n      <th>7</th>\n      <td>2014</td>\n      <td>1</td>\n      <td>1</td>\n      <td>6</td>\n      <td>1</td>\n      <td>2014-01-06</td>\n      <td>AA</td>\n      <td>19805</td>\n      <td>AA</td>\n      <td>N002AA</td>\n      <td>...</td>\n      <td>1300-1359</td>\n      <td>0.0</td>\n      <td>0.0</td>\n      <td>85.0</td>\n      <td>77.0</td>\n      <td>52.0</td>\n      <td>1.0</td>\n      <td>328.0</td>\n      <td>2</td>\n      <td>0</td>\n    </tr>\n    <tr>\n      <th>8</th>\n      <td>2014</td>\n      <td>1</td>\n      <td>1</td>\n      <td>7</td>\n      <td>2</td>\n      <td>2014-01-07</td>\n      <td>AA</td>\n      <td>19805</td>\n      <td>AA</td>\n      <td>N012AA</td>\n      <td>...</td>\n      <td>1300-1359</td>\n      <td>0.0</td>\n      <td>0.0</td>\n      <td>85.0</td>\n      <td>83.0</td>\n      <td>50.0</td>\n      <td>1.0</td>\n      <td>328.0</td>\n      <td>2</td>\n      <td>0</td>\n    </tr>\n    <tr>\n      <th>9</th>\n      <td>2014</td>\n      <td>1</td>\n      <td>1</td>\n      <td>8</td>\n      <td>3</td>\n      <td>2014-01-08</td>\n      <td>AA</td>\n      <td>19805</td>\n      <td>AA</td>\n      <td>N014AA</td>\n      <td>...</td>\n      <td>1300-1359</td>\n      <td>0.0</td>\n      <td>0.0</td>\n      <td>85.0</td>\n      <td>97.0</td>\n      <td>63.0</td>\n      <td>1.0</td>\n      <td>328.0</td>\n      <td>2</td>\n      <td>0</td>\n    </tr>\n    <tr>\n      <th>10</th>\n      <td>2014</td>\n      <td>1</td>\n      <td>1</td>\n      <td>9</td>\n      <td>4</td>\n      <td>2014-01-09</td>\n      <td>AA</td>\n      <td>19805</td>\n      <td>AA</td>\n      <td>N013AA</td>\n      <td>...</td>\n      <td>1300-1359</td>\n      <td>0.0</td>\n      <td>0.0</td>\n      <td>85.0</td>\n      <td>80.0</td>\n      <td>58.0</td>\n      <td>1.0</td>\n      <td>328.0</td>\n      <td>2</td>\n      <td>0</td>\n    </tr>\n    <tr>\n      <th>11</th>\n      <td>2014</td>\n      <td>1</td>\n      <td>1</td>\n      <td>10</td>\n      <td>5</td>\n      <td>2014-01-10</td>\n      <td>AA</td>\n      <td>19805</td>\n      <td>AA</td>\n      <td>N008AA</td>\n      <td>...</td>\n      <td>1300-1359</td>\n      <td>0.0</td>\n      <td>0.0</td>\n      <td>85.0</td>\n      <td>80.0</td>\n      <td>54.0</td>\n      <td>1.0</td>\n      <td>328.0</td>\n      <td>2</td>\n      <td>0</td>\n    </tr>\n    <tr>\n      <th>12</th>\n      <td>2014</td>\n      <td>1</td>\n      <td>1</td>\n      <td>11</td>\n      <td>6</td>\n      <td>2014-01-11</td>\n      <td>AA</td>\n      <td>19805</td>\n      <td>AA</td>\n      <td>N008AA</td>\n      <td>...</td>\n      <td>1300-1359</td>\n      <td>0.0</td>\n      <td>0.0</td>\n      <td>85.0</td>\n      <td>75.0</td>\n      <td>54.0</td>\n      <td>1.0</td>\n      <td>328.0</td>\n      <td>2</td>\n      <td>0</td>\n    </tr>\n    <tr>\n      <th>13</th>\n      <td>2014</td>\n      <td>1</td>\n      <td>1</td>\n      <td>12</td>\n      <td>7</td>\n      <td>2014-01-12</td>\n      <td>AA</td>\n      <td>19805</td>\n      <td>AA</td>\n      <td>N014AA</td>\n      <td>...</td>\n      <td>1300-1359</td>\n      <td>0.0</td>\n      <td>0.0</td>\n      <td>85.0</td>\n      <td>88.0</td>\n      <td>57.0</td>\n      <td>1.0</td>\n      <td>328.0</td>\n      <td>2</td>\n      <td>0</td>\n    </tr>\n    <tr>\n      <th>14</th>\n      <td>2014</td>\n      <td>1</td>\n      <td>1</td>\n      <td>13</td>\n      <td>1</td>\n      <td>2014-01-13</td>\n      <td>AA</td>\n      <td>19805</td>\n      <td>AA</td>\n      <td>N010AA</td>\n      <td>...</td>\n      <td>1300-1359</td>\n      <td>0.0</td>\n      <td>0.0</td>\n      <td>85.0</td>\n      <td>87.0</td>\n      <td>55.0</td>\n      <td>1.0</td>\n      <td>328.0</td>\n      <td>2</td>\n      <td>0</td>\n    </tr>\n    <tr>\n      <th>15</th>\n      <td>2014</td>\n      <td>1</td>\n      <td>1</td>\n      <td>14</td>\n      <td>2</td>\n      <td>2014-01-14</td>\n      <td>AA</td>\n      <td>19805</td>\n      <td>AA</td>\n      <td>N598AA</td>\n      <td>...</td>\n      <td>1300-1359</td>\n      <td>0.0</td>\n      <td>0.0</td>\n      <td>85.0</td>\n      <td>76.0</td>\n      <td>58.0</td>\n      <td>1.0</td>\n      <td>328.0</td>\n      <td>2</td>\n      <td>0</td>\n    </tr>\n    <tr>\n      <th>16</th>\n      <td>2014</td>\n      <td>1</td>\n      <td>1</td>\n      <td>15</td>\n      <td>3</td>\n      <td>2014-01-15</td>\n      <td>AA</td>\n      <td>19805</td>\n      <td>AA</td>\n      <td>N005AA</td>\n      <td>...</td>\n      <td>1300-1359</td>\n      <td>0.0</td>\n      <td>0.0</td>\n      <td>85.0</td>\n      <td>74.0</td>\n      <td>51.0</td>\n      <td>1.0</td>\n      <td>328.0</td>\n      <td>2</td>\n      <td>0</td>\n    </tr>\n    <tr>\n      <th>17</th>\n      <td>2014</td>\n      <td>1</td>\n      <td>1</td>\n      <td>16</td>\n      <td>4</td>\n      <td>2014-01-16</td>\n      <td>AA</td>\n      <td>19805</td>\n      <td>AA</td>\n      <td>N013AA</td>\n      <td>...</td>\n      <td>1300-1359</td>\n      <td>0.0</td>\n      <td>0.0</td>\n      <td>85.0</td>\n      <td>86.0</td>\n      <td>52.0</td>\n      <td>1.0</td>\n      <td>328.0</td>\n      <td>2</td>\n      <td>0</td>\n    </tr>\n    <tr>\n      <th>18</th>\n      <td>2014</td>\n      <td>1</td>\n      <td>1</td>\n      <td>17</td>\n      <td>5</td>\n      <td>2014-01-17</td>\n      <td>AA</td>\n      <td>19805</td>\n      <td>AA</td>\n      <td>N001AA</td>\n      <td>...</td>\n      <td>1300-1359</td>\n      <td>0.0</td>\n      <td>0.0</td>\n      <td>85.0</td>\n      <td>73.0</td>\n      <td>51.0</td>\n      <td>1.0</td>\n      <td>328.0</td>\n      <td>2</td>\n      <td>0</td>\n    </tr>\n    <tr>\n      <th>19</th>\n      <td>2014</td>\n      <td>1</td>\n      <td>1</td>\n      <td>18</td>\n      <td>6</td>\n      <td>2014-01-18</td>\n      <td>AA</td>\n      <td>19805</td>\n      <td>AA</td>\n      <td>N009AA</td>\n      <td>...</td>\n      <td>1300-1359</td>\n      <td>0.0</td>\n      <td>0.0</td>\n      <td>85.0</td>\n      <td>72.0</td>\n      <td>50.0</td>\n      <td>1.0</td>\n      <td>328.0</td>\n      <td>2</td>\n      <td>0</td>\n    </tr>\n  </tbody>\n</table>\n<p>20 rows × 56 columns</p>\n</div>"
     },
     "execution_count": 26,
     "metadata": {},
     "output_type": "execute_result"
    }
   ],
   "source": [
    "# Removing columns with more than 50% null values\n",
    "df_main = df.dropna(axis=1, thresh=len(df)*0.5)\n",
    "\n",
    "# Display the cleaned DataFrame\n",
    "print(\"\\nDataFrame after removing columns with more than 50% null values:\")\n",
    "df_main.head(20)"
   ],
   "metadata": {
    "collapsed": false,
    "ExecuteTime": {
     "end_time": "2023-10-28T10:18:05.538820500Z",
     "start_time": "2023-10-28T10:18:04.826452700Z"
    }
   },
   "id": "70ac54f4b3326e44"
  },
  {
   "cell_type": "code",
   "execution_count": 28,
   "outputs": [
    {
     "data": {
      "text/plain": "(902551, 56)"
     },
     "execution_count": 28,
     "metadata": {},
     "output_type": "execute_result"
    }
   ],
   "source": [
    "df_main.shape"
   ],
   "metadata": {
    "collapsed": false,
    "ExecuteTime": {
     "end_time": "2023-10-28T10:18:16.180511800Z",
     "start_time": "2023-10-28T10:18:16.170504200Z"
    }
   },
   "id": "b7a53b49417e7420"
  },
  {
   "cell_type": "code",
   "execution_count": 29,
   "outputs": [
    {
     "name": "stdout",
     "output_type": "stream",
     "text": [
      "Year\n",
      "Quarter\n",
      "Month\n",
      "DayofMonth\n",
      "DayOfWeek\n",
      "FlightDate\n",
      "Reporting_Airline\n",
      "DOT_ID_Reporting_Airline\n",
      "IATA_CODE_Reporting_Airline\n",
      "Tail_Number\n",
      "Flight_Number_Reporting_Airline\n",
      "OriginAirportID\n",
      "OriginAirportSeqID\n",
      "OriginCityMarketID\n",
      "Origin\n",
      "OriginCityName\n",
      "OriginState\n",
      "OriginStateFips\n",
      "OriginStateName\n",
      "OriginWac\n",
      "DestAirportID\n",
      "DestAirportSeqID\n",
      "DestCityMarketID\n",
      "Dest\n",
      "DestCityName\n",
      "DestState\n",
      "DestStateFips\n",
      "DestStateName\n",
      "DestWac\n",
      "CRSDepTime\n",
      "DepTime\n",
      "DepDelay\n",
      "DepDelayMinutes\n",
      "DepDel15\n",
      "DepartureDelayGroups\n",
      "DepTimeBlk\n",
      "TaxiOut\n",
      "WheelsOff\n",
      "WheelsOn\n",
      "TaxiIn\n",
      "CRSArrTime\n",
      "ArrTime\n",
      "ArrDelay\n",
      "ArrDelayMinutes\n",
      "ArrDel15\n",
      "ArrivalDelayGroups\n",
      "ArrTimeBlk\n",
      "Cancelled\n",
      "Diverted\n",
      "CRSElapsedTime\n",
      "ActualElapsedTime\n",
      "AirTime\n",
      "Flights\n",
      "Distance\n",
      "DistanceGroup\n",
      "DivAirportLandings\n"
     ]
    }
   ],
   "source": [
    "for name in df_main.columns:\n",
    "    print(name)"
   ],
   "metadata": {
    "collapsed": false,
    "ExecuteTime": {
     "end_time": "2023-10-28T10:18:18.934260100Z",
     "start_time": "2023-10-28T10:18:18.920414700Z"
    }
   },
   "id": "ee160b0bda77b14"
  },
  {
   "cell_type": "code",
   "execution_count": 31,
   "outputs": [
    {
     "data": {
      "text/plain": "902551"
     },
     "execution_count": 31,
     "metadata": {},
     "output_type": "execute_result"
    }
   ],
   "source": [
    "df_main.shape[0]"
   ],
   "metadata": {
    "collapsed": false,
    "ExecuteTime": {
     "end_time": "2023-10-28T15:37:36.558578600Z",
     "start_time": "2023-10-28T15:37:36.540579300Z"
    }
   },
   "id": "86b351bf40531302"
  },
  {
   "cell_type": "code",
   "execution_count": 37,
   "outputs": [
    {
     "data": {
      "text/plain": "[2014]"
     },
     "execution_count": 37,
     "metadata": {},
     "output_type": "execute_result"
    }
   ],
   "source": [
    "list(set(df_main.Year))"
   ],
   "metadata": {
    "collapsed": false,
    "ExecuteTime": {
     "end_time": "2023-10-28T15:42:06.282924800Z",
     "start_time": "2023-10-28T15:42:06.262191600Z"
    }
   },
   "id": "da0ecd90f5ee097e"
  },
  {
   "cell_type": "code",
   "execution_count": 36,
   "outputs": [
    {
     "data": {
      "text/plain": "[1, 2]"
     },
     "execution_count": 36,
     "metadata": {},
     "output_type": "execute_result"
    }
   ],
   "source": [
    "list(set(df_main.Month))"
   ],
   "metadata": {
    "collapsed": false,
    "ExecuteTime": {
     "end_time": "2023-10-28T15:41:58.159059700Z",
     "start_time": "2023-10-28T15:41:58.149047500Z"
    }
   },
   "id": "b16e72b3e9fb9889"
  }
 ],
 "metadata": {
  "kernelspec": {
   "display_name": "Python 3",
   "language": "python",
   "name": "python3"
  },
  "language_info": {
   "codemirror_mode": {
    "name": "ipython",
    "version": 2
   },
   "file_extension": ".py",
   "mimetype": "text/x-python",
   "name": "python",
   "nbconvert_exporter": "python",
   "pygments_lexer": "ipython2",
   "version": "2.7.6"
  }
 },
 "nbformat": 4,
 "nbformat_minor": 5
}
